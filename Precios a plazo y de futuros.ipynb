{
 "cells": [
  {
   "cell_type": "markdown",
   "id": "e7cbeaae",
   "metadata": {},
   "source": [
    "## Precios de contratos a plazo y de futuros\n",
    "\n",
    "Los contratos a plazos son acuerdos para comprar o vender un activo en fecha futura a un precio determinado. Por otra parte, los contratos de futuros son acuerdos para comprar o vender un activo en una fecha futura a un precio determinado. Ambos contratos son parecidos, sin embargo, los *futuros* se realizan en mercados organizados; los de *plazos* se realizan en mercados *over de counter*. Se analizará cómo bajo ciertas condiciones los precios de ambos contratos son parecidos.\n",
    "\n",
    "### Plazo en activos de inversión\n",
    "Suponemos primero que el activo no genera ningún ingreso, por ejemplo, acciones sin dividendos, bonos y obligaciones cupón cero.\n",
    "$$F_{0}=S_{0}e^{rT}$$\n",
    "En donde $F_{0}$ es el precio a plazo, $S_{0}$ es el precio del activo, $T$ es el tiempo al vencimiento y $r$ es la tasa libre de riesgo.\n",
    "\n",
    "\n",
    "Si $F_{0}>S_{0}e^{rT}$, hay oportunidad de arbitraje. "
   ]
  },
  {
   "cell_type": "code",
   "execution_count": 2,
   "id": "a646198e",
   "metadata": {},
   "outputs": [],
   "source": [
    "import pandas as pd\n",
    "import numpy as np\n",
    "import math"
   ]
  },
  {
   "cell_type": "code",
   "execution_count": 3,
   "id": "36bf77aa",
   "metadata": {},
   "outputs": [],
   "source": [
    "def plazo_activo(S,r,T): #precio del activo, tasa libre de riesgo y plazo\n",
    "    return S*math.exp(r*T)\n",
    "    "
   ]
  },
  {
   "cell_type": "code",
   "execution_count": 4,
   "id": "546badb2",
   "metadata": {},
   "outputs": [
    {
     "data": {
      "text/plain": [
       "40.50313806162538"
      ]
     },
     "execution_count": 4,
     "metadata": {},
     "output_type": "execute_result"
    }
   ],
   "source": [
    "plazo_activo(40,.05,3/12)"
   ]
  },
  {
   "cell_type": "markdown",
   "id": "b76ee443",
   "metadata": {},
   "source": [
    "### Plazo en activos con ingresos conocidos \n",
    "Cuando se conocen los ingresos, la valuación es diferente. Consiste precisamente en descontar los ingresos: $$F_{0}=(S_{0}-I)e^{rT}$$\n",
    "\n",
    "Ejemplo: Sea un bono con fecha de entrega a un año con precio de contado $\\$900$ que paga cupones de $\\$40$ a un año y medio año con tasa de $10\\%$ y $9\\%$ respectivamente. Tomar el valor presente de los cupones: $40e^{-(.1)1}=36.19$ y $40e^{-(.09).5}=38.23$, entonces $I=74.33$. Y el precio a plazo: $$F_{0}=(900-74.33)e^{.1(1)}=912.39$$"
   ]
  },
  {
   "cell_type": "code",
   "execution_count": 5,
   "id": "036b8769",
   "metadata": {},
   "outputs": [],
   "source": [
    "def plazo_activoingresos(S,r,T,I): #precio del activo, tasa libre de riesgo y plazo\n",
    "    return (S-I)*math.exp(r*T)\n"
   ]
  },
  {
   "cell_type": "code",
   "execution_count": 6,
   "id": "e3351f18",
   "metadata": {},
   "outputs": [
    {
     "data": {
      "text/plain": [
       "912.5031564147658"
      ]
     },
     "execution_count": 6,
     "metadata": {},
     "output_type": "execute_result"
    }
   ],
   "source": [
    "plazo_activoingresos(900,.10,1,74.333)"
   ]
  },
  {
   "cell_type": "markdown",
   "id": "11295e5a",
   "metadata": {},
   "source": [
    "### Plazo en activos con rendimiento conocido"
   ]
  },
  {
   "cell_type": "markdown",
   "id": "bd55f6d9",
   "metadata": {},
   "source": [
    "Ahora el activo subyacente genera un rendimiento conocido, en lugar de ingresos conocidos. Es decir, este ingreso es un porcentaje del precio del activo. Se calcula como sigue:\n",
    "$$F_{0}=S_{0}e^{(r-q)t}$$"
   ]
  },
  {
   "cell_type": "markdown",
   "id": "e9583dce",
   "metadata": {},
   "source": [
    "Sea un contrato a plazo de seis meses sobre un activo de $25$ con dividendo de $2\\%$ semianual a tasa libre de riesgo de $10\\%$ anual. Se tiene que $F_{0}=25e^{(.10-.0396)(.5)}=25.77$."
   ]
  },
  {
   "cell_type": "code",
   "execution_count": 8,
   "id": "967f18dc",
   "metadata": {},
   "outputs": [],
   "source": [
    "def plazo_activoingresosconocidos(S,r,T,q): #precio del activo, tasa libre de riesgo y plazo\n",
    "    return (S)*math.exp((r-q)*T)\n"
   ]
  },
  {
   "cell_type": "code",
   "execution_count": 10,
   "id": "93d40d5a",
   "metadata": {},
   "outputs": [
    {
     "data": {
      "text/plain": [
       "25.766516136769308"
      ]
     },
     "execution_count": 10,
     "metadata": {},
     "output_type": "execute_result"
    }
   ],
   "source": [
    "plazo_activoingresosconocidos(25,.10,.5,.0396)\n"
   ]
  },
  {
   "cell_type": "markdown",
   "id": "6896a9f6",
   "metadata": {},
   "source": [
    "### Valoración forma general\n",
    "\n",
    "Se establece que ya sean activos de inversión o activos de consumo, los contratos a plazo se valuan como $$f=(F_{0}-K)e^{-rT}$$ Cuando el precio de entrega en el contrato $(K)$ y el precio a plazo actual $(F_{0})$ coinciden el valor hoy del contrato a plazo es $0$."
   ]
  }
 ],
 "metadata": {
  "kernelspec": {
   "display_name": "Python 3 (ipykernel)",
   "language": "python",
   "name": "python3"
  },
  "language_info": {
   "codemirror_mode": {
    "name": "ipython",
    "version": 3
   },
   "file_extension": ".py",
   "mimetype": "text/x-python",
   "name": "python",
   "nbconvert_exporter": "python",
   "pygments_lexer": "ipython3",
   "version": "3.9.12"
  }
 },
 "nbformat": 4,
 "nbformat_minor": 5
}
