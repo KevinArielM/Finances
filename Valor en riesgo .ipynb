{
 "cells": [
  {
   "cell_type": "code",
   "execution_count": 9,
   "id": "5a48ff09",
   "metadata": {},
   "outputs": [],
   "source": [
    "import pandas as pd, matplotlib.pyplot as plt, numpy as np\n",
    "from datetime import  datetime\n",
    "#from pandas_datareader import data\n",
    "#from pandas_datareader._utils import RemoteDataError\n",
    "#from pandas_datareader import data as wb\n",
    "import quandl"
   ]
  },
  {
   "cell_type": "code",
   "execution_count": 2,
   "id": "9d064903",
   "metadata": {},
   "outputs": [
    {
     "name": "stdout",
     "output_type": "stream",
     "text": [
      "Requirement already satisfied: pandas_datareader in c:\\users\\kevin\\dropbox\\python 3.9\\lib\\site-packages (0.10.0)\n",
      "Requirement already satisfied: lxml in c:\\users\\kevin\\dropbox\\python 3.9\\lib\\site-packages (from pandas_datareader) (4.8.0)\n",
      "Requirement already satisfied: requests>=2.19.0 in c:\\users\\kevin\\dropbox\\python 3.9\\lib\\site-packages (from pandas_datareader) (2.27.1)\n",
      "Requirement already satisfied: pandas>=0.23 in c:\\users\\kevin\\dropbox\\python 3.9\\lib\\site-packages (from pandas_datareader) (1.4.2)\n",
      "Requirement already satisfied: numpy>=1.18.5 in c:\\users\\kevin\\dropbox\\python 3.9\\lib\\site-packages (from pandas>=0.23->pandas_datareader) (1.21.5)\n",
      "Requirement already satisfied: python-dateutil>=2.8.1 in c:\\users\\kevin\\dropbox\\python 3.9\\lib\\site-packages (from pandas>=0.23->pandas_datareader) (2.8.2)\n",
      "Requirement already satisfied: pytz>=2020.1 in c:\\users\\kevin\\dropbox\\python 3.9\\lib\\site-packages (from pandas>=0.23->pandas_datareader) (2021.3)\n",
      "Requirement already satisfied: six>=1.5 in c:\\users\\kevin\\dropbox\\python 3.9\\lib\\site-packages (from python-dateutil>=2.8.1->pandas>=0.23->pandas_datareader) (1.16.0)\n",
      "Requirement already satisfied: idna<4,>=2.5 in c:\\users\\kevin\\dropbox\\python 3.9\\lib\\site-packages (from requests>=2.19.0->pandas_datareader) (3.3)\n",
      "Requirement already satisfied: certifi>=2017.4.17 in c:\\users\\kevin\\dropbox\\python 3.9\\lib\\site-packages (from requests>=2.19.0->pandas_datareader) (2021.10.8)\n",
      "Requirement already satisfied: charset-normalizer~=2.0.0 in c:\\users\\kevin\\dropbox\\python 3.9\\lib\\site-packages (from requests>=2.19.0->pandas_datareader) (2.0.4)\n",
      "Requirement already satisfied: urllib3<1.27,>=1.21.1 in c:\\users\\kevin\\dropbox\\python 3.9\\lib\\site-packages (from requests>=2.19.0->pandas_datareader) (1.26.9)\n",
      "Note: you may need to restart the kernel to use updated packages.\n"
     ]
    }
   ],
   "source": [
    "pip install pandas_datareader"
   ]
  },
  {
   "cell_type": "markdown",
   "id": "be18f485",
   "metadata": {},
   "source": [
    "QUANDL_API_KEY = \"EzWqQMKyuWUmtmGHdrmn\" #obtener datos\n",
    "quandl.ApiConfig.api_key = QUANDL_API_KEY\n",
    "df = quandl.get(\"EURONEXT/ABN\")\n",
    "df.head()"
   ]
  },
  {
   "cell_type": "code",
   "execution_count": 18,
   "id": "23cd4814",
   "metadata": {},
   "outputs": [
    {
     "data": {
      "text/plain": [
       "Date\n",
       "2015-11-20    18.000\n",
       "2015-11-23    18.215\n",
       "2015-11-24    18.370\n",
       "2015-11-25    18.770\n",
       "2015-11-26    19.410\n",
       "Name: Low, dtype: float64"
      ]
     },
     "execution_count": 18,
     "metadata": {},
     "output_type": "execute_result"
    }
   ],
   "source": [
    "low=df[\"Low\"].head() #VaR sobre el precio de apertura\n",
    "low"
   ]
  },
  {
   "cell_type": "code",
   "execution_count": 21,
   "id": "a0cea957",
   "metadata": {},
   "outputs": [
    {
     "data": {
      "text/plain": [
       "[<matplotlib.lines.Line2D at 0x1be07d35130>]"
      ]
     },
     "execution_count": 21,
     "metadata": {},
     "output_type": "execute_result"
    },
    {
     "data": {
      "image/png": "[encoded data removed]",
      "text/plain": [
       "<Figure size 432x288 with 1 Axes>"
      ]
     },
     "metadata": {
      "needs_background": "light"
     },
     "output_type": "display_data"
    }
   ],
   "source": [
    "plt.plot(low)"
   ]
  },
  {
   "cell_type": "code",
   "execution_count": 24,
   "id": "32650fb2",
   "metadata": {},
   "outputs": [],
   "source": [
    "ret_low=np.log(low)-np.log(low.shift(1)) #x+1-x (posiciones)\n",
    "ret1_low=ret_low.dropna()"
   ]
  },
  {
   "cell_type": "code",
   "execution_count": 28,
   "id": "0ab921c4",
   "metadata": {},
   "outputs": [
    {
     "data": {
      "text/plain": [
       "Date\n",
       "2015-11-23    0.011874\n",
       "2015-11-24    0.008473\n",
       "2015-11-25    0.021541\n",
       "2015-11-26    0.033529\n",
       "Name: Low, dtype: float64"
      ]
     },
     "execution_count": 28,
     "metadata": {},
     "output_type": "execute_result"
    }
   ],
   "source": [
    "ret1_low.head()"
   ]
  },
  {
   "cell_type": "code",
   "execution_count": 30,
   "id": "0552e52c",
   "metadata": {},
   "outputs": [
    {
     "data": {
      "text/plain": [
       "0"
      ]
     },
     "execution_count": 30,
     "metadata": {},
     "output_type": "execute_result"
    }
   ],
   "source": [
    "ret1_low.isnull().sum() #sin nulos"
   ]
  },
  {
   "cell_type": "code",
   "execution_count": 32,
   "id": "f5ad4277",
   "metadata": {},
   "outputs": [
    {
     "data": {
      "text/plain": [
       "[<matplotlib.lines.Line2D at 0x1be07e3ffd0>]"
      ]
     },
     "execution_count": 32,
     "metadata": {},
     "output_type": "execute_result"
    },
    {
     "data": {
      "image/png": "[encoded data removed]",
      "text/plain": [
       "<Figure size 432x288 with 1 Axes>"
      ]
     },
     "metadata": {
      "needs_background": "light"
     },
     "output_type": "display_data"
    }
   ],
   "source": [
    "plt.plot(ret1_low)"
   ]
  },
  {
   "cell_type": "code",
   "execution_count": 39,
   "id": "a5d99ade",
   "metadata": {},
   "outputs": [
    {
     "data": {
      "text/plain": [
       "0.008983499336185608"
      ]
     },
     "execution_count": 39,
     "metadata": {},
     "output_type": "execute_result"
    }
   ],
   "source": [
    "var_per=5 #límite en el que se espera\n",
    "var_95=np.percentile(ret1_low,var_per)\n",
    "var_95"
   ]
  },
  {
   "cell_type": "markdown",
   "id": "930536b9",
   "metadata": {},
   "source": [
    "### CVAR\n",
    "En adición al Valor en Riesgo, se puede calcular el CVaR, que consiste en una media de los valores que sobrepasan el VaR, es decir, expone más los casos atípicos."
   ]
  },
  {
   "cell_type": "code",
   "execution_count": 37,
   "id": "32e87c6b",
   "metadata": {},
   "outputs": [
    {
     "data": {
      "text/plain": [
       "0.008473468766507342"
      ]
     },
     "execution_count": 37,
     "metadata": {},
     "output_type": "execute_result"
    }
   ],
   "source": [
    "cvar_95= ret1_low[ret1_low <= var_95].mean()\n",
    "cvar_95"
   ]
  },
  {
   "cell_type": "markdown",
   "id": "705b507f",
   "metadata": {},
   "source": [
    "El CVaR es menor que el VaR, bajo la interpretación que se está dando (percentil), lo cual tiene sentido porque se espera que tome valores menores en promedio que el VaR."
   ]
  },
  {
   "cell_type": "code",
   "execution_count": 43,
   "id": "ef4c802e",
   "metadata": {},
   "outputs": [],
   "source": [
    "\n",
    "from pylab import *\n",
    "import matplotlib.pyplot as plt"
   ]
  },
  {
   "cell_type": "code",
   "execution_count": 45,
   "id": "631beba3",
   "metadata": {},
   "outputs": [
    {
     "data": {
      "text/plain": [
       "<matplotlib.lines.Line2D at 0x1be07f7adc0>"
      ]
     },
     "execution_count": 45,
     "metadata": {},
     "output_type": "execute_result"
    },
    {
     "data": {
      "image/png": "[encoded data removed]",
      "text/plain": [
       "<Figure size 432x288 with 1 Axes>"
      ]
     },
     "metadata": {
      "needs_background": "light"
     },
     "output_type": "display_data"
    }
   ],
   "source": [
    "plt.plot(ret1_low)\n",
    "axhline(var_95, color=\"b\", xmax=1)\n",
    "axhline(cvar_95, color=\"r\", xmax=1)"
   ]
  },
  {
   "cell_type": "markdown",
   "id": "4f67b92e",
   "metadata": {},
   "source": [
    "Como se esperaba, gráficamente el CVaR está por debajo del VaR."
   ]
  }
 ],
 "metadata": {
  "kernelspec": {
   "display_name": "Python 3 (ipykernel)",
   "language": "python",
   "name": "python3"
  },
  "language_info": {
   "codemirror_mode": {
    "name": "ipython",
    "version": 3
   },
   "file_extension": ".py",
   "mimetype": "text/x-python",
   "name": "python",
   "nbconvert_exporter": "python",
   "pygments_lexer": "ipython3",
   "version": "3.9.12"
  }
 },
 "nbformat": 4,
 "nbformat_minor": 5
}
