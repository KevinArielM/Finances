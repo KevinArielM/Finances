{
 "cells": [
  {
   "cell_type": "markdown",
   "id": "d8d860db",
   "metadata": {},
   "source": [
    "El riesgo de crédito se refiere a las pérdidas potenciales que existen por motivo de incumplimiento de una contraparte financiera. \n",
    "Tradicionalmente la medición del riesgo de crédito se basa en las conocidas cinco *ces* del solicitante:\n",
    "1. *Conocer* al sujeto de crédito, que se basa en revisar su solvencia moral y reputacional y en la disposición para cumplir con los compromisos. En esencia es conocer su historial crediticio. Como una herramienta importante, en México se utiliza el *Bureau* de Crédito, que es una institución que registra los historiales crediticios de acreditados incumplidos.\n",
    "2. *Capacidad* de pago, que se elabora mediante un análisis financiero exhaustivo del solicitante en donde se refleje la volatilidad de las utilidades históricas. Al final, el flujo de efectivo del acreedor debe ser solvente para liquidar la deuda.\n",
    "3. *Capital* del acreedor o firma para conocer la contribución accionaria así como el riesgo asumido. También se revisa la capacidad de endeudamiento. A mayor nivel de apalancamiento. mayor probabilidad de bancarrota.\n",
    "4. *Colateral* se refiere a las garantías de crédito. Son los fondos suficientes para que el prestamista recupere la pérdida en la operación en caso de incumplimiento. A mayor valor de mercado del colateral, menor es la exposición al riesgo en el otorgamiento del crédito.\n",
    "5. *Condiciones cíclicas* se refiere a la dependencia de variables económicas de acreedores o firmas. Por ejemplo, si una firma tiene competencia internacional, es sensible a los ciclos económicos porque tienen mayor exposición de riesgos. \n",
    "\n",
    "Notar que las tasas de interés también juegan un papel importante: si las tasas bajan, el rendimiento esperado de un préstamo puede aumentar y la probabilidad de incumplimiento es baja; si las tasas suben, el rendimiento esperado de un préstamo puede disminuir y la probabilidad de incumplimiento aumenta.\n",
    "El desarrollo de técnicas paramétricas para determinar la probabilidad de incumplimiento, basadas en estadística, se desarrolla más que el análisis de crédito porque se optimizan recursos.\n",
    "\n",
    "En los mercados financieros, el riesgo de crédito de una operación es igual al riesgo de reemplazar la operación en el mercado, lo que se conoce como *Deemed Risk* y se modela mediante el Valor en Riesgo (VaR). El Deemed Risk tiene como objeto principal establecer un colateral adecuado. Usualmente a esta metodología se le suele añadir un factor que compense la liquidez posible en el mercado porque al suponer que los mercados son eficientes se subestima el riesgo de crédito.\n",
    "\n",
    "El riesgo de crédito precisa de dos elementos: el riesgo actual y el riesgo potencial.\n",
    "\n",
    "$R_{crédito}= R_{actual}+R_{potencial}$\n",
    "\n",
    "Ejemplo:Sea un instrumento financiero de $\\$100,000$ y si la ganancia fuera de $\\$10,000$ al día de hoy liquidada con un Deemed Risk de $8\\%$, que es la variación del mercado en el periodo que falta, se tendría que $R_{crédito}=10,000+8,000=18000$\n",
    "El riesgo actual es el monto por liquidar de la contraparte y el riesgo potencial es un VaR.\n",
    "\n",
    "### Pérdida esperada\n",
    "La pérdida esperada asociada a una contraparte se da en función de el monto de la exposición de riesgo de la contraparte (X), la probabilidad de incumplimiento (P) y la recuperación potencial del colateral (R). De tal forma que se cumple la igualdad\n",
    "\n",
    "$P_{esperada}=X(P)(1-R)$\n",
    "\n",
    "Ejemplo: Si tenemos una probabilidad de incumplimiento de $.18\\%$, un colateral de $\\%51.13$ por cada $\\$100$ y una exposición de riesgo de crédito de $\\$100,000,000$, la pérdida es como sigue:\n",
    "\n",
    "$P_{esperada}=100,000,000(.0018)(1-.5113)=87,966.00$\n",
    "\n",
    "que representa el nivel de reservas que una institución debe tener para hacer frente a incumplimientos.\n",
    "\n",
    "### Pérdida no esperada\n",
    "Se supone una distribución binomial: se cae en incumplimiento o no se cae en incumplimiento. La desviación estándar de una binomial es $\\sigma=\\sqrt{p(1-p)}$\n",
    "\n",
    "$P_{no esperada}=\\sqrt{p(1-p)(X)(1-R)}$\n",
    "\n",
    "Siguiendo el mismo ejemplo, $P_{no esperada}=\\sqrt{.0018(1-.0018)(100,000,000)(1-.5113)}=2,071,511.62$\n",
    "\n",
    "que representa el nivel mínimo de capital que una institución debe de tener para continuar con el portafolio de crédito vigente.\n",
    "\n",
    "Entonces, como se vio anteriormente, se debe de conocer la variable de incumpliento de pago por la contraparte. Se puede calcular generalmente por 3 caminos: modelos econométricos (Z-Score de Altman, Logit y Probit); Modelo KMV y Moody's, que básicamente utiliza la teoría de derivados (opciones); y Redes neuronales artificiales, en donde se trata de aplicar técnicas de Machine Learning (modelos supervisados).\n",
    "\n",
    "### Z-Score de Altman\n",
    "Es un modelo econométrico que se construye a través de razones financieras. La aplicación del modelo arroja una calificación (Z-Score) que separa las firmas o acreedores que pueden incumplir de compromisos crediticios. El análisis discriminante se hace por medio de estadística multivariada (en realidad el término es *múltiple* si se ve como regresión), en donde las variables dependientes se basan en $0$ si la firma está en incumplimiento o $1$ si la firma no está en incumplimiento; las variables independientes son las razones financieras. \n",
    "\n",
    "De las 22 razones financieras que Altman escogió en 1968, únicamente permanecieros 5:\n",
    "\n",
    "\n",
    "$$Z=1.2x_{1}+1.4x_{2}+3.3x_{3}+.6x_{4}+.99x_{5}$$\n",
    "\n",
    "$x_{1}$= capital de trabajo/activos totales\n",
    "\n",
    "$x_{2}$= utilidades retenidas/activos totales\n",
    "\n",
    "$x_{3}$= utilidades antes de impuestos/activos totales\n",
    "\n",
    "$x_{4}$= valor de mercado de la acción/valor en libros de la deuda\n",
    "\n",
    "$x_{5}$=ventas/activos totales\n",
    "\n",
    "El resultado se interpreta como sigue:\n",
    "\n",
    "1. Si $Z < 2.99$ la firma es saludable\n",
    "2. Si $Z < 1.81$ la firma está en bancarrota\n",
    "3. Si $1.81<Z<2.99$ está en zona gris\n",
    "\n",
    "El objetivo fundamental es predcir la quiebra empresarial en un horizonte de hasta cinco años.\n",
    "\n",
    "Una variación de este modelo es la siguiente:\n",
    "\n",
    "\n",
    "$$Z=.717x_{1}+.847x_{2}+3.107x_{3}+.420x_{4}+.998x_{5}$$\n",
    "\n",
    "$Z$ se distribuye normal con un valor de 4.4 para las firmas sanas y un valor de .15 para las firmas quebradas."
   ]
  },
  {
   "cell_type": "code",
   "execution_count": 3,
   "id": "7eee5f3b",
   "metadata": {},
   "outputs": [],
   "source": [
    "def Zaltman(x1,x2,x3,x4,x5):\n",
    "    Z= 1.2*x1+1.4*x2+3.3*x3+.6*x4+.99*x5\n",
    "    return Z"
   ]
  },
  {
   "cell_type": "code",
   "execution_count": 9,
   "id": "e204c277",
   "metadata": {},
   "outputs": [
    {
     "data": {
      "text/plain": [
       "2.0002999999999997"
      ]
     },
     "execution_count": 9,
     "metadata": {},
     "output_type": "execute_result"
    }
   ],
   "source": [
    "Zaltman(.6,.7,.07,.099,.01)"
   ]
  },
  {
   "cell_type": "markdown",
   "id": "39023b61",
   "metadata": {},
   "source": [
    "### Modelo Logit\n",
    "Representa un modelo de regresión no lineal. Se deriva de los modelos lineales de probabilidad, por ejemplo de, $P_{i}=\\beta_{1}+\\beta_{2}X_{i}$, en donde $X$ es una variable independiente y $P_{i}=E(Y_{i}=1|X_{i})$ es una probabilidad condicionada a $X$ de un valor $Y$.\n",
    "\n",
    "El modelo Logit se representa como sigue $$P_{i}=\\frac\n",
    "{1}{1+e^{-(\\beta_{1}+\\beta_{2}X_{1})}}$$\n",
    "\n",
    "Reduciendo y haciendo el cambio de variable $Z_{i}=\\beta_{1}+\\beta_{2}X_{i}$: $$P_{i}=\\frac{1}{1+e^{-Z_{i}}}=\\frac{e^{Z}}{1+e^{Z}}$$\n",
    "\n",
    "A esta expresión se le conoce como función de distribución logística.\n",
    "\n",
    "Haciendo cambios para poder estimar los parámetros de forma más simple se considera la probabilidad complementaria:\n",
    "\n",
    "$$1-P_{i}=\\frac{1}{1+e^{Z_{i}}}$$\n",
    "\n",
    "además $$\\frac{P_{i}}{1-P_{i}}=\\frac{e^{Z_{i}}(1+e^{Z_{i}})}{1+e^{Z_{i}}}=e^{Z_{i}}$$\n",
    "\n",
    "si aplicamos logaritmo natural en la expresión: $$L_{i}=\\ln(\\frac{P_{i}}{1-P_{i}})=Z_{i}=\\beta_{1}+\\beta_{2}X_{1}$$\n",
    "\n",
    "Entonces el logaritmo de la razón de probabilidades hace lineal el modelo en $X$ y en los parámetros."
   ]
  },
  {
   "cell_type": "code",
   "execution_count": 2,
   "id": "b7cdbc99",
   "metadata": {},
   "outputs": [],
   "source": [
    "import matplotlib.pyplot as plt\n",
    "import numpy as np\n",
    "from sklearn.linear_model import LogisticRegression\n",
    "from sklearn.metrics import classification_report, confusion_matrix"
   ]
  },
  {
   "cell_type": "markdown",
   "id": "e8f2385c",
   "metadata": {},
   "source": []
  }
 ],
 "metadata": {
  "kernelspec": {
   "display_name": "Python 3 (ipykernel)",
   "language": "python",
   "name": "python3"
  },
  "language_info": {
   "codemirror_mode": {
    "name": "ipython",
    "version": 3
   },
   "file_extension": ".py",
   "mimetype": "text/x-python",
   "name": "python",
   "nbconvert_exporter": "python",
   "pygments_lexer": "ipython3",
   "version": "3.9.12"
  }
 },
 "nbformat": 4,
 "nbformat_minor": 5
}
