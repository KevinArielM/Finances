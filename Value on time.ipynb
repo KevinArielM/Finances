{
 "cells": [
  {
   "cell_type": "code",
   "execution_count": 4,
   "id": "5f4d990e",
   "metadata": {},
   "outputs": [],
   "source": [
    "from math import exp     "
   ]
  },
  {
   "cell_type": "code",
   "execution_count": 7,
   "id": "3dc4d4a3",
   "metadata": {},
   "outputs": [],
   "source": [
    "def valor_futuro_discreto (x,r,n):\n",
    "    return x*(1+r)**n"
   ]
  },
  {
   "cell_type": "code",
   "execution_count": 9,
   "id": "1c89d6c0",
   "metadata": {},
   "outputs": [],
   "source": [
    "def valor_present_discreto (x,r,n):\n",
    "    return x*(1+r)**-n"
   ]
  },
  {
   "cell_type": "code",
   "execution_count": 12,
   "id": "b446dbed",
   "metadata": {},
   "outputs": [
    {
     "data": {
      "text/plain": [
       "1050.0"
      ]
     },
     "execution_count": 12,
     "metadata": {},
     "output_type": "execute_result"
    }
   ],
   "source": [
    "valor_futuro_discreto(1000,0.05,1)"
   ]
  },
  {
   "cell_type": "code",
   "execution_count": 65,
   "id": "3091a62e",
   "metadata": {},
   "outputs": [
    {
     "data": {
      "text/plain": [
       "952.3809523809523"
      ]
     },
     "execution_count": 65,
     "metadata": {},
     "output_type": "execute_result"
    }
   ],
   "source": [
    "valor_present_discreto(1000,0.05,1)\n"
   ]
  },
  {
   "cell_type": "markdown",
   "id": "52943bfa",
   "metadata": {},
   "source": [
    "Paridad entre valor presente y valor futuro"
   ]
  },
  {
   "cell_type": "code",
   "execution_count": 18,
   "id": "7891ada4",
   "metadata": {},
   "outputs": [
    {
     "data": {
      "text/plain": [
       "999.999945"
      ]
     },
     "execution_count": 18,
     "metadata": {},
     "output_type": "execute_result"
    }
   ],
   "source": [
    "valor_futuro_discreto(952.3809,0.05,1)"
   ]
  },
  {
   "cell_type": "markdown",
   "id": "795b9115",
   "metadata": {},
   "source": [
    "Para valor continúo"
   ]
  },
  {
   "cell_type": "code",
   "execution_count": 26,
   "id": "e271b54a",
   "metadata": {},
   "outputs": [],
   "source": [
    "def valor_futuro_continuo (x,r,n):\n",
    "    return x*exp(r*n)"
   ]
  },
  {
   "cell_type": "code",
   "execution_count": 27,
   "id": "731e9166",
   "metadata": {},
   "outputs": [],
   "source": [
    "def valor_presente_continuo (x,r,n):\n",
    "    return x*exp(-r*n)"
   ]
  },
  {
   "cell_type": "code",
   "execution_count": 49,
   "id": "ff2e57e5",
   "metadata": {},
   "outputs": [
    {
     "data": {
      "text/plain": [
       "1051.2711"
      ]
     },
     "execution_count": 49,
     "metadata": {},
     "output_type": "execute_result"
    }
   ],
   "source": [
    "round(valor_futuro_continuo(1000,0.05,1),4)"
   ]
  },
  {
   "cell_type": "code",
   "execution_count": 56,
   "id": "14520c5d",
   "metadata": {},
   "outputs": [
    {
     "data": {
      "text/plain": [
       "951.229424500714"
      ]
     },
     "execution_count": 56,
     "metadata": {},
     "output_type": "execute_result"
    }
   ],
   "source": [
    "valor_presente_continuo(1000,0.05,1)"
   ]
  },
  {
   "cell_type": "code",
   "execution_count": 61,
   "id": "8a47e463",
   "metadata": {},
   "outputs": [
    {
     "data": {
      "text/plain": [
       "(1050.0, 952.3809523809523, 1051.2710963760242, 951.229424500714)"
      ]
     },
     "execution_count": 61,
     "metadata": {},
     "output_type": "execute_result"
    }
   ],
   "source": [
    "valor_futuro_discreto(1000,0.05,1),valor_present_discreto(1000,0.05,1), valor_futuro_continuo(1000,0.05,1), valor_presente_continuo(1000,0.05,1)\n"
   ]
  },
  {
   "cell_type": "code",
   "execution_count": 63,
   "id": "7d4851ad",
   "metadata": {},
   "outputs": [],
   "source": [
    "if __name__== '__main__ ':\n",
    "    #monto\n",
    "    x=1000\n",
    "    #interés\n",
    "    r=0.05\n",
    "    #tiempo en años\n",
    "    n=1\n",
    "    print(\"El valor futuro discreto de x: %s\" % valor_futuro_discreto (x,r,n))\n",
    "    print(\"El valor presente discreto de x: %s\" % valor_present_discreto (x,r,n))\n",
    "    print(\"El valor presente continuo de x: %s\" % valor_presente_continuo (x,r,n))   \n",
    "    print(\"El valor futuro continuo de x: %s\" % valor_futuro_continuo (x,r,n))    \n",
    "    "
   ]
  },
  {
   "cell_type": "code",
   "execution_count": null,
   "id": "2d84fb8a",
   "metadata": {},
   "outputs": [],
   "source": []
  }
 ],
 "metadata": {
  "kernelspec": {
   "display_name": "Python 3 (ipykernel)",
   "language": "python",
   "name": "python3"
  },
  "language_info": {
   "codemirror_mode": {
    "name": "ipython",
    "version": 3
   },
   "file_extension": ".py",
   "mimetype": "text/x-python",
   "name": "python",
   "nbconvert_exporter": "python",
   "pygments_lexer": "ipython3",
   "version": "3.9.12"
  }
 },
 "nbformat": 4,
 "nbformat_minor": 5
}
