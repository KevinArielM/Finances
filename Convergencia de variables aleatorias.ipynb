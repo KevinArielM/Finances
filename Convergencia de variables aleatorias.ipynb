{
 "cells": [
  {
   "cell_type": "code",
   "execution_count": 2,
   "id": "16617aba",
   "metadata": {},
   "outputs": [],
   "source": [
    "import pandas as pd\n",
    "import numpy as np\n",
    "import seaborn as sns\n",
    "from scipy.stats import norm\n",
    "from scipy.stats import binom\n",
    "\n",
    "\n"
   ]
  },
  {
   "cell_type": "markdown",
   "id": "58f9356d",
   "metadata": {},
   "source": [
    "A continuación se enuncian dos teoremas muy importantes en la teoría de probabilidad. Iniciemos con algunas desigualdades:\n",
    "\n",
    "### Desigualdad de Markov\n",
    "Sea $X \\geq 0$ una variable aleatoria con esperanza finita. Para $\\epsilon > 0$ se cumple que $$P(X\\geq \\epsilon) \\leq \\frac{E(X)}{\\epsilon}$$\n",
    "\n",
    "Ejemplo:\n",
    "\n",
    "1. Sea una variable aleatoria binomial con parámetros $(n,.5)$ (número de ensayos, probabilidad), y sea $\\epsilon = \\frac{3n}{4}$ $$P(X\\geq \\frac{3n}{4}) \\leq \\frac{.5n}{\\frac{3n}{4}}=\\frac{2n}{3n}=\\frac{2}{3}$$\n",
    "\n",
    "Es decir, la probabilidad de que la variable con distribución binomial exceda $\\frac{3n}{4}$ está acotada superiormente por $\\frac{2}{3}$\n",
    "\n",
    "Veamos gráficamente y numéricamente:"
   ]
  },
  {
   "cell_type": "code",
   "execution_count": 171,
   "id": "c4bb5d63",
   "metadata": {},
   "outputs": [],
   "source": [
    "data_binomial = binom.rvs(n=10,p=.5, size=10)\n"
   ]
  },
  {
   "cell_type": "code",
   "execution_count": 172,
   "id": "99b1861c",
   "metadata": {},
   "outputs": [
    {
     "data": {
      "text/plain": [
       "[Text(0.5, 0, 'Distribución binomial'), Text(0, 0.5, 'Frecuencia')]"
      ]
     },
     "execution_count": 172,
     "metadata": {},
     "output_type": "execute_result"
    },
    {
     "data": {
      "image/png": "[encoded data removed]",
      "text/plain": [
       "<Figure size 432x288 with 1 Axes>"
      ]
     },
     "metadata": {
      "needs_background": "light"
     },
     "output_type": "display_data"
    }
   ],
   "source": [
    "ax = sns.distplot(data_binomial,\n",
    "                  kde=False,\n",
    "                  bins=10,\n",
    "                  color='yellow',\n",
    "                  hist_kws={\"linewidth\": 10,'alpha':1})\n",
    "ax.set(xlabel='Distribución binomial', ylabel='Frecuencia')\n",
    "\n",
    "\n"
   ]
  },
  {
   "cell_type": "markdown",
   "id": "cba263e4",
   "metadata": {},
   "source": [
    "Sea $n=10$, entonces $\\epsilon=\\frac{15}{2}$, $$P(X\\geq \\frac{15}{2}) = .0.0546875\n",
    "\\leq \\frac{.5(10)}{\\frac{15}{2}}=\\frac{10}{15}=\\frac{2}{3}$$\n"
   ]
  },
  {
   "cell_type": "code",
   "execution_count": 183,
   "id": "d22173e4",
   "metadata": {},
   "outputs": [
    {
     "data": {
      "text/plain": [
       "0.0546875"
      ]
     },
     "execution_count": 183,
     "metadata": {},
     "output_type": "execute_result"
    }
   ],
   "source": [
    "1-binom(10,.5).cdf(7.5)"
   ]
  },
  {
   "cell_type": "markdown",
   "id": "ade442d6",
   "metadata": {},
   "source": [
    "Ahora el código:"
   ]
  },
  {
   "cell_type": "code",
   "execution_count": 202,
   "id": "0a2c9355",
   "metadata": {},
   "outputs": [],
   "source": [
    "def imarkov(epsilon,Ex):\n",
    "    print(\"La cota superior es\")\n",
    "    return Ex/epsilon\n",
    "\n"
   ]
  },
  {
   "cell_type": "code",
   "execution_count": 203,
   "id": "63b7743d",
   "metadata": {},
   "outputs": [
    {
     "name": "stdout",
     "output_type": "stream",
     "text": [
      "La cota superior es\n"
     ]
    },
    {
     "data": {
      "text/plain": [
       "0.6666666666666666"
      ]
     },
     "execution_count": 203,
     "metadata": {},
     "output_type": "execute_result"
    }
   ],
   "source": [
    "imarkov(15/2,5)"
   ]
  },
  {
   "cell_type": "markdown",
   "id": "3f5cff15",
   "metadata": {},
   "source": [
    "### Desigualdad de Chebyshev\n",
    "Sea $X$ una variable aleatoria con media $\\mu$ y varianza finita $\\sigma^2$, se tiene que para cualquier $\\epsilon>0 $ $$P(|X-\\mu|\\geq\\epsilon) \\leq \\frac{\\sigma^2}{\\epsilon^2}$$\n",
    "\n",
    "Ejemplo:\n",
    "\n",
    "2. Sea una variable aleatoria con distribución binomial con parámetros $(n,.5)$ (número de ensayos, probabilidad), y sea $\\epsilon= n(\\alpha-p)$ con $\\alpha=\\frac{3}{4}$. Se tiene que $$P(|X-n(.5)|\\geq n(\\alpha-p)) \\leq \\frac{np(1-p)}{n^2(\\alpha-p)^2}=\\frac{p(1-p)}{n(\\alpha-p)^2}$$\n",
    "\n",
    "$$P(|X-.5n|\\geq \\frac{n}{4}) \\leq \\frac{\\frac{n}{4}}{\\frac{n^2}{16}}=\\frac{16n}{4n^2}=\\frac{4}{n}$$\n",
    "\n",
    "Es decir, esta desigualdad indica que hay una cota superior para la diferencia entre la variable aleatoria y su media.\n",
    "\n",
    "Veamos gráficamente y numéricamente:\n",
    "\n",
    "$$P(|X-10|\\geq \\frac{20}{4}) \\leq \\frac{\\frac{20}{4}}{\\frac{20^2}{16}}=\\frac{16(20)}{1600}=\\frac{320}{1600}=\\frac{1}{5}$$\n",
    "\n",
    "$$P(X\\leq 5) +P(X\\geq 15) \\leq \\frac{\\frac{20}{4}}{\\frac{20^2}{16}}=\\frac{16(20)}{1600}=\\frac{320}{1600}=\\frac{1}{5}$$\n",
    "\n"
   ]
  },
  {
   "cell_type": "code",
   "execution_count": 207,
   "id": "ab541b38",
   "metadata": {},
   "outputs": [],
   "source": [
    "data_binomial=binom.rvs(n=20,p=.5,size=20)"
   ]
  },
  {
   "cell_type": "code",
   "execution_count": 209,
   "id": "7809d4d2",
   "metadata": {},
   "outputs": [
    {
     "data": {
      "text/plain": [
       "[Text(0.5, 0, 'Distribución binomial'), Text(0, 0.5, 'Frecuencia')]"
      ]
     },
     "execution_count": 209,
     "metadata": {},
     "output_type": "execute_result"
    },
    {
     "data": {
      "image/png": "[encoded data removed]",
      "text/plain": [
       "<Figure size 432x288 with 1 Axes>"
      ]
     },
     "metadata": {
      "needs_background": "light"
     },
     "output_type": "display_data"
    }
   ],
   "source": [
    "ax = sns.distplot(data_binomial,\n",
    "                  kde=False,\n",
    "                  bins=20,\n",
    "                  color='skyblue',\n",
    "                  hist_kws={\"linewidth\": 10,'alpha':1})\n",
    "ax.set(xlabel='Distribución binomial', ylabel='Frecuencia')\n"
   ]
  },
  {
   "cell_type": "code",
   "execution_count": 221,
   "id": "5a76a7a3",
   "metadata": {},
   "outputs": [
    {
     "data": {
      "text/plain": [
       "0.02660369873046875"
      ]
     },
     "execution_count": 221,
     "metadata": {},
     "output_type": "execute_result"
    }
   ],
   "source": [
    "binom(20,.5).cdf(5)+(1-binom(20,.5).cdf(15))"
   ]
  },
  {
   "cell_type": "markdown",
   "id": "b9b083aa",
   "metadata": {},
   "source": [
    "Se cumple que $0.0266<.20$. Entonces la diferencia entre la variable aleatoria y su media tiene como mínimo una cota superior de $\\frac{1}{5}$."
   ]
  },
  {
   "cell_type": "code",
   "execution_count": 2,
   "id": "9d1b8d2e",
   "metadata": {},
   "outputs": [],
   "source": [
    "def ichebyshev(varianza,epsilon):\n",
    "    print(\"La cota superior es\")\n",
    "    return varianza/epsilon"
   ]
  },
  {
   "cell_type": "code",
   "execution_count": 4,
   "id": "768545f5",
   "metadata": {},
   "outputs": [
    {
     "name": "stdout",
     "output_type": "stream",
     "text": [
      "La cota superior es\n"
     ]
    },
    {
     "data": {
      "text/plain": [
       "0.2"
      ]
     },
     "execution_count": 4,
     "metadata": {},
     "output_type": "execute_result"
    }
   ],
   "source": [
    "ichebyshev(5,25)"
   ]
  },
  {
   "cell_type": "markdown",
   "id": "3b21a79e",
   "metadata": {},
   "source": [
    "###  Desigualdad de Kolmogorov\n",
    "\n",
    "Sean $X_{1}, \\dots X_{n}$ variables aleatorias independientes con $E(X_{i})=0$ y $Var(X_{i})< \\infty$, para cualquier $\\epsilon > 0$ $$P(\\max_{k}{|X_{1}+\\dots+ X_{k}|}\\geq \\epsilon) \\leq \\frac{1}{\\epsilon^2}\\sum_{k=1}^{n}Var(X_{k})$$\n",
    "\n",
    "Ejemplo:\n",
    "\n",
    "3. Sean $X_{1},\\dots,X_{10}$ variables aleatorias identicamente distribuidas con distribución Bernoulli $(0)$ y varianza $1$. Entonces $X_{i}$ se distribuye como una binomial $(10,0)$. Sea $\\epsilon=1$ $$P(\\max_{k}{|X_{k}|}\\geq 1)=1-1 \\leq \\frac{1}{1}\\sum_{k=1}^{n}0=0$$\n",
    "\n",
    "Y se cumple la igualdad en este caso, que quiere decir que la probabilidad de que la suma de variables aleatorias exceda algún número está acotada superiormente por la relación entre la suma de las varianzas dividiendo entre el número superado al cuadrado.\n",
    "\n",
    "Notar que la desigualdad de Chebyshev es una particularidad de esta porque para $n=1$, se tiene que\n",
    "\n",
    "$$P(\\max_{k}{|X_{k}|}\\geq \\epsilon) \\leq \\frac{1}{\\epsilon^2}\\sum_{k=1}^{1}Var(X_{k})=\\frac{\\sigma^2}{\\epsilon^2}$$"
   ]
  },
  {
   "cell_type": "code",
   "execution_count": 33,
   "id": "ac2e3638",
   "metadata": {},
   "outputs": [],
   "source": [
    "data_binomiall=binom.rvs(n=10,p=0,size=10)"
   ]
  },
  {
   "cell_type": "code",
   "execution_count": 34,
   "id": "4485edc2",
   "metadata": {},
   "outputs": [
    {
     "data": {
      "text/plain": [
       "[Text(0.5, 0, 'Distribución binomial'), Text(0, 0.5, 'Frecuencia')]"
      ]
     },
     "execution_count": 34,
     "metadata": {},
     "output_type": "execute_result"
    },
    {
     "data": {
      "image/png": "[encoded data removed]",
      "text/plain": [
       "<Figure size 432x288 with 1 Axes>"
      ]
     },
     "metadata": {
      "needs_background": "light"
     },
     "output_type": "display_data"
    }
   ],
   "source": [
    "ax = sns.distplot(data_binomiall,\n",
    "                  kde=False,\n",
    "                  bins=10,\n",
    "                  color='purple',\n",
    "                  hist_kws={\"linewidth\": 10,'alpha':1})\n",
    "ax.set(xlabel='Distribución binomial', ylabel='Frecuencia')"
   ]
  },
  {
   "cell_type": "markdown",
   "id": "9830c524",
   "metadata": {},
   "source": [
    "Es decir, se espera que los datos estén concentrados en una solo intervalo."
   ]
  },
  {
   "cell_type": "markdown",
   "id": "b9eea8f3",
   "metadata": {},
   "source": [
    "### Cotas de Chernoff\n",
    "Las desigualdades de Markov y de Chebyshev proporcionan información relevante con respecto a las probabilidades porque ambas dan como resultado cotas superiores, que sirven para tener más información respecto a algún evento. Sin embargo, estas desigualdades no son muy precisas. Para la desigualdad de Markov la cota se mantiene constante sin importar el número de variables aleatorias, la cota funciona, sí, pero da un rango más amplio de imprecisión. En la desigualdad de Chebyshev la cota tiende a $0$ conforme crece el número de variables, lo cual quiere decir que tiene más presición para medir la diferencia entre variables aleatorias y sus medias. \n",
    "\n",
    "Las cotas de Chernoff se deducen porque $$P(X\\geq a) = P(e^{sX} \\geq e^{sa})$$ para $s>0$  \n",
    "y $$P(X\\leq a) = P(e^{sX} \\geq e^{sx})$$ para $s>0$.  La variable $e^{sX}$ es positiva por lo que se puede aplicar la desigualdad de Markov: $$P(X\\geq a)=P(e^{sX}\\geq e^{sa})\\leq \\frac{E(e^{sX})}{e^{sa}}=\\frac{M_{X}(s)}{e^{sa}}$$\n",
    "mientras que para $s<0$, $$P(X\\leq a)=P(e^{sX}\\geq e^{sa})\\leq \\frac{E(e^{sX})}{e^{sa}}=\\frac{M_{X}(s)}{e^{sa}}$$, en donde $M_{x}(s)$ es la función generadora de momentos.\n",
    "Para encontrar la mejor cota superior, utilizamos la mínima cota superior, teniendo \n",
    "$$P(X\\geq a)\\leq \\min_{s>0}\\frac{M_{X}(s)}{e^{sa}}$$\n",
    "$$P(X\\leq a)\\leq \\min_{s<0}\\frac{M_{X}(s)}{e^{sa}}$$\n",
    "\n",
    "Ejemplo: \n",
    "\n",
    "4. Sea $X$ una variable aleatoria con distribución binomial $(n,.5)$ y $\\alpha = \\frac{3}{4}$. $M_{X}(s)=(pe^s+q)^n$, $q=1-p$. Para la cota considerando $\\alpha n$ $$P(X\\geq n\\alpha)\\leq \\min_{s>0}\\frac{M_{X}(s)}{e^{s\\alpha}}=\\min_{s>0}\\frac{(pe^s+q)^n}{e^{s\\alpha}}$$\n",
    "Para encontar la mínima $s$ se deriva: $$\\frac{d}{ds}\\frac{(pe^s+q)^n}{e^{s\\alpha}}$$  $$\n",
    "e^s=\\frac{\\alpha q}{np(1-\\alpha)}$$\n",
    " Y sustituyendo en la desigualdad $$P(X\\geq n\\alpha)\\leq (\\frac{1-p}{1-\\alpha})^{(1-\\alpha )n}(\\frac{p}{\\alpha})^{\\alpha n} $$\n",
    " \n",
    " Sea $n=1$, $p=.7$ y $\\alpha=.80$\n",
    " $$P(X\\geq \\frac{4}{5})\\leq (\\frac{1-.7}{1-\\frac{4}{5}})^{(1-\\frac{4}{5})}(\\frac{.7}{\\frac{4}{5}})^{\\frac{4}{5}} = \\frac{.3}{.2}^{.2} (.875)^{.8}=.9745 $$\n",
    " \n",
    " Para $n=10$\n",
    " $$P(X\\geq 8)\\leq (\\frac{1-.7}{1-\\frac{4}{5}})^{2}(\\frac{.7}{\\frac{4}{5}})^{8} = \\frac{.3}{.2}^{2} (.875)^{8}=.7731 $$\n",
    " \n",
    " Para $n=100$\n",
    "  $$P(X\\geq 80)\\leq (\\frac{1-.7}{1-\\frac{4}{5}})^{20}(\\frac{.7}{\\frac{4}{5}})^{80} = \\frac{.3}{.2}^{20} (.875)^{80}=.0762 $$\n",
    " \n",
    " Entonces, entre mayor número de variables aleatorias se tengan habrá mejor aproximación para la cota superior porque a diferencia de las desigualdades anteriores esta decrece exponencialmente."
   ]
  },
  {
   "cell_type": "markdown",
   "id": "27f7b27c",
   "metadata": {},
   "source": [
    "### Convergencia y ley de los grandes números \n",
    "\n",
    "Bajo ciertas condiciones el promedio de variables aleatorias converge a una constante cuando el número de variables tiende a infinito. *La ley debil de los grandes números* converge en probabilidad; *la ley fuerte de los grandes números* converge casi seguramente. La ley fuerte implica la ley debil. Repasemos conceptos de convergencia de variables aleatorias:\n",
    "\n",
    "#### Convergencia puntual\n",
    "La sucesión de variables aleatorias $X_{1}, \\dots$ converge *puntualmente* a  la variable $X$ si para cada $w$ en $\\Omega$\n",
    "$$\\lim _{n \\to \\infty} X_{n}(w)= X(w) $$\n",
    "\n",
    "Entonces esta convergencia existe cuando se considera una sucesión de variables aleatorias, por ejemplo $X_{n}(w)=w^n$, y convergen a un número sin importar la $w$ pero aproximando a $\\infty$ cada $w$. El dominio de esta sucesión es un espacio medible, por ejemplo, $([0,1], \\mathcal{B}[0,1])$. La $w$ está entre $[0,1]$, es decir, la sucesión converge a $0$ si $w \\in [0,1)$, pero cuando $w=1$, $X(w)=1$. Y se obtiene la variable a la que converge la sucesión considerando el espacio medible.\n",
    "\n",
    "#### Convergencia casi segura\n",
    "La sucesión de variables aleatorias $X_{1}, \\dots$ converge *casi seguramente* a  la variable $X$ si para cada $w$ en $\\Omega$\n",
    "$$P(\\lim _{n \\to \\infty} X_{n}(w)= X(w))=1 $$\n",
    "\n",
    "En la convergencia puntual todos los elementos de $\\Omega$ tenían que converger a un valor. En la convergencia casi segura se puede tener un subconjunto que no converja a la variable aleatoria, pero con probabilidad cero. Entonces se converge *casi* para todos los $w$.\n",
    "\n",
    "Por ejemplo, sea el espacio de probabilidad $([0,1],\\mathcal{B}[0,1], \\lambda)$ con la sucesión $X_{n}(w)=\\mathbb{1}_{[0,\\frac{1}{n}]}(w)$. La sucesión se distribuye como una bernoulli$(\\frac{1}{n})$ porque toma el valor $0$ o toma el valor $1$. $P(\\lim _{n \\to \\infty} \\mathbb{1}_{[0,\\frac{1}{n}]}(w)= X(w))=1 $. Para encontrar $X(w)$ se tiene que ver que $\\lim _{n \\to \\infty} \\mathbb{1}_{[0,\\frac{1}{n}]}(w)=0$ para cada $w$, excepto cuando $w=0$ porque si toma el valor de $0$ ya no está en la función indicadora. Entonces $X_{n}(w)$ converge casi seguramente a $0$ porque *casi* converge en todo el espacio muestral, salvo en $0$, como se vio anteriormente.\n",
    "\n",
    "#### Convergencia en probabilidad\n",
    "La sucesión de variables aleatorias $X_{1}, \\dots$ converge *en probabilidad* a  la variable $X$ si para cada $\\epsilon > 0$ \n",
    "$$\\lim _{n \\to \\infty} P(w\\in \\Omega: | X_{n}(w)-X(w)|> \\epsilon)=0 $$\n",
    "\n",
    "Resulta de utilidad la desigualdad de Chebyshev para probar este tipo de convergencia porque la cota superior que tiende a $0$ sería su equivalente.\n",
    "\n",
    "#### Convergencia en media\n",
    "La sucesión de variables aleatorias $X_{1}, \\dots$ converge *en media* a  la variable aleatoria integrable $X$ si \n",
    "$$\\lim _{n \\to \\infty} E| X_{n}(w)-X(w)|=0 $$\n",
    "\n",
    "A este tipo de convergencia también se le llama *convergencia en* $L^1$ y sirve para medir distancias entre dos variables aleatorias.\n",
    "\n",
    "#### Convergencia en media cuadrática\n",
    "La sucesión de variables aleatorias $X_{1}, \\dots$ converge *en media cuadrática* a  la variable aleatoria integrable $X$ si \n",
    "$$\\lim _{n \\to \\infty} E| X_{n}(w)-X(w)|^2=0 $$\n",
    "\n",
    "Se le conoce también como *convergencia en* $L^2$. Se supone que las variables tienen segundo momento, por lo que se les exige más que en convergencia en media. Se deduce que convergencia en media cuadrática implica convergencia en media.\n",
    "\n",
    "#### Convergencia en $L^k$ \n",
    "La sucesión de variables aleatorias $X_{1}, \\dots$ converge *en* $L^k$ a  la variable aleatoria integrable $X$ si para cada $k \\geq 1$\n",
    "$$\\lim _{n \\to \\infty} E| X_{n}(w)-X(w)|^k=0 $$\n",
    "\n",
    "Notar que entre mayor sea $k$ más se restringe la convergencia.\n",
    "\n",
    "#### Convergencia en distribución\n",
    "La sucesión de variables aleatorias $X_{1}, \\dots$ converge *en distribución*  a  la variable $X$ si para cada $x \\in F_{X}(x)$, (continua) se cumple que\n",
    "$$\\lim _{n \\to \\infty} F_{X_{n}}(x)=F_{X}(x) $$\n",
    "Este tipo de convergencia no utiliza las variables aleatorias, sino solamente las funciones de distribuciones asociadas a cada variable que bien podrían estar definidas sobre diferentes espacios de probabilidad. Es la convergencia más débil en el sentido de que cualquier otro tipo de convergencia implica convergencia en distribución, pero nunca el contrario.\n",
    "\n",
    "Implicaciones entre convergencias: \n",
    "\n",
    "Convergencia casi segura $\\Rightarrow$ convergencia en probabilidad.\n",
    "\n",
    "Convergencia en media cuadrática$\\Rightarrow$ convergencia en media.\n",
    "\n",
    "Convergencia en media $\\Rightarrow$ convergencia en probabilidad.\n",
    "\n",
    "Convergencia en probabilidad $\\Rightarrow$ convergencia en distribución.\n",
    "\n",
    "\n",
    "Sería interesante saber si en lugar de sucesiones de variables aleatorias o de funciones de distribución (convergencia en distribución) la sucesión de esperanzas asociadas a cada variable converge a la esperanza de la variable convergida, es decir, equivale a \n",
    "$$\\lim _{n \\to \\infty} E( X_{n}(w))=E(\\lim _{n \\to \\infty}X_{n}(w)) $$\n",
    "\n",
    "Sea por ejemplo, el espacio de probabilidad $((0,1),\\mathcal{B}(0,1), \\lambda)$ y $X_{n}(w)=n\\mathbb{1}_{(0,\\frac{1}{n})}(w)$ \n",
    "converge casi seguramente a $0$ pero la $E(X_{n}(w))=1$, por lo tanto no converge a $E(X)=0$. Bajo ciertas condiciones la esperanza y el límite sí son intercambiables:\n",
    "\n",
    "#### Teorema de convergencia monótona\n",
    "Sea $0\\leq X_{1} \\leq X_{2} \\leq \\dots$ una sucesión de variables aleatorias convergente casi seguramente a una variable X. Entonces $$\\lim _{n \\to \\infty} E( X_{n}(w))=E(X_{n}) $$\n",
    "Entonces el límite y la esperanza son intercambiables si y solo si la sucesión converge casi seguramente y además, lo más importante, es una sucesión creciente.\n",
    "\n",
    "#### Teorema de convergencia dominada\n",
    "Sea $X_{1} \\dots $ una sucesión de variables aleatorias para la cual existe otra variable $Y$ integrable tal que $|X_{n}|\\leq Y$ para $n \\geq 1$. Si $\\lim _{n \\to \\infty} E( X_{n}(w))=E(X_{n}) $ casi seguramente entonces $X$ y $X_{n}$ son integrables y $\\lim _{n \\to \\infty} E( X_{n}(w))=E(X_{n}) $.\n",
    "\n",
    "Es decir, además del posible intercambio entre el límite y la esperanza este teorema dice que todas las variables aleatorias (sucesión y convergente) son integrables."
   ]
  },
  {
   "cell_type": "markdown",
   "id": "087b5919",
   "metadata": {},
   "source": [
    "### Ley debil de los grandes números\n",
    "\n",
    "Sean $X_{1}, X_{2}, \\dots$ variables aleatorias independientes e idénticamente distribuidas con media $\\mu$, entonces $$\\frac{1}{n}\\sum _{i=1}^{n} X_{i} \\rightarrow^{p} \\mu$$\n",
    "\n",
    "Ejemplo: \n",
    "\n",
    "Sea $X_{n}$ una sucesión de variables aleatorias con distribución Poisson$(\\lambda)$,  $$P(X_{i}=x)= e^{-\\lambda} \\frac{\\lambda^{x}}{x!}\\mathbb{1}_{{0,1,2 \\dots}}(x)$$\n",
    "$X_{i}$ tiene $E(X_{i})=\\lambda$ y $var(X_{i})=\\lambda$ para toda $i>0$. Aplicando el teorema se tiene que $$\\frac{1}{n}\\sum _{i=1}^{n} X_{i} \\rightarrow^{p} \\lambda$$.\n",
    "\n",
    "Para $i=10$ y $\\lambda=2$, se tiene que $$\\frac{1}{10}\\sum _{i=1}^{10} X_{i} \\rightarrow^{p} 2$$.\n",
    "\n",
    "Se sabe además que $\\sum _{i=1}^{10} X_{i}$ se distribuye como una Poisson$(20)$\n",
    "\n",
    "Gráficamente:\n"
   ]
  },
  {
   "cell_type": "code",
   "execution_count": 4,
   "id": "7c57acbe",
   "metadata": {},
   "outputs": [],
   "source": [
    "from scipy.stats import poisson"
   ]
  },
  {
   "cell_type": "code",
   "execution_count": 5,
   "id": "aac601d2",
   "metadata": {},
   "outputs": [],
   "source": [
    "n=10000\n",
    "start = 20/10\n",
    "width = 1\n",
    "\n",
    "data_poisson = poisson.rvs(mu=start,size=n)"
   ]
  },
  {
   "cell_type": "code",
   "execution_count": 6,
   "id": "b3d00d63",
   "metadata": {},
   "outputs": [
    {
     "name": "stderr",
     "output_type": "stream",
     "text": [
      "C:\\Users\\kevin\\Dropbox\\Python 3.9\\lib\\site-packages\\seaborn\\distributions.py:2619: FutureWarning: `distplot` is a deprecated function and will be removed in a future version. Please adapt your code to use either `displot` (a figure-level function with similar flexibility) or `histplot` (an axes-level function for histograms).\n",
      "  warnings.warn(msg, FutureWarning)\n"
     ]
    },
    {
     "data": {
      "text/plain": [
       "[Text(0.5, 0, 'Distribución Poisson'), Text(0, 0.5, 'Frequency')]"
      ]
     },
     "execution_count": 6,
     "metadata": {},
     "output_type": "execute_result"
    },
    {
     "data": {
      "image/png": "[encoded data removed]",
      "text/plain": [
       "<Figure size 432x288 with 1 Axes>"
      ]
     },
     "metadata": {
      "needs_background": "light"
     },
     "output_type": "display_data"
    }
   ],
   "source": [
    "ax = sns.distplot(data_poisson,\n",
    "                  kde=False, #notar que aquí interesa la frecuencia\n",
    "                  bins=50,\n",
    "                  color='orange',\n",
    "                  hist_kws={\"linewidth\": 15,'alpha':1})\n",
    "ax.set(xlabel='Distribución Poisson', ylabel='Frequency')"
   ]
  },
  {
   "cell_type": "markdown",
   "id": "e55e25a6",
   "metadata": {},
   "source": [
    "Ejemplo:\n",
    "Sea $X_{n}$ una variable aleatoria que se distribuye como una bernoulli$(.27)$, entonces $E(X_{n})=.27$ y $Var(X_{n})=.1971$,\n",
    "para $1500$ variables aleatorias independientes e identicamente distribuidad aplicando la ley fuerte para $\\epsilon > 0$:\n",
    "$$P(|\\frac{\\sum _{i=1}^{1500}X_{i}}{1500}-.27|\\geq \\epsilon) \\leq \\frac{.1971}{1500\\epsilon^2}$$\n",
    "para un intervalo de $90\\%$, $\\frac{.1971}{1500\\epsilon^2}=.1$, $\\epsilon=.036$. Entonces se concluye que el error es menor que $3.7\\%$ para un intervalo de $90\\%$. Las interpretaciones pueden ser diferentes de acuerdo a lo que se refiera $p$. Notar que en este ejemplo se utilizó para buscar una cota superior. \n",
    "\n",
    "Gráficamente:"
   ]
  },
  {
   "cell_type": "code",
   "execution_count": 23,
   "id": "acccbe2b",
   "metadata": {},
   "outputs": [],
   "source": [
    "from scipy.stats import binom"
   ]
  },
  {
   "cell_type": "code",
   "execution_count": 31,
   "id": "528fe8cc",
   "metadata": {},
   "outputs": [],
   "source": [
    "data_binomial=binom.rvs(n=1500,p=.27,size=1000)"
   ]
  },
  {
   "cell_type": "code",
   "execution_count": 32,
   "id": "4c3f1672",
   "metadata": {},
   "outputs": [
    {
     "name": "stderr",
     "output_type": "stream",
     "text": [
      "C:\\Users\\kevin\\Dropbox\\Python 3.9\\lib\\site-packages\\seaborn\\distributions.py:2619: FutureWarning: `distplot` is a deprecated function and will be removed in a future version. Please adapt your code to use either `displot` (a figure-level function with similar flexibility) or `histplot` (an axes-level function for histograms).\n",
      "  warnings.warn(msg, FutureWarning)\n"
     ]
    },
    {
     "data": {
      "text/plain": [
       "[Text(0.5, 0, 'Distribución binomial'), Text(0, 0.5, 'Frecuencia')]"
      ]
     },
     "execution_count": 32,
     "metadata": {},
     "output_type": "execute_result"
    },
    {
     "data": {
      "image/png": "[encoded data removed]",
      "text/plain": [
       "<Figure size 432x288 with 1 Axes>"
      ]
     },
     "metadata": {
      "needs_background": "light"
     },
     "output_type": "display_data"
    }
   ],
   "source": [
    "ax = sns.distplot(data_binomialll,\n",
    "                  kde=True,\n",
    "                  bins=100,\n",
    "                  color='pink',\n",
    "                  hist_kws={\"linewidth\": 10,'alpha':1})\n",
    "ax.set(xlabel='Distribución binomial', ylabel='Frecuencia')"
   ]
  },
  {
   "cell_type": "code",
   "execution_count": 40,
   "id": "5809fc59",
   "metadata": {},
   "outputs": [
    {
     "data": {
      "text/plain": [
       "(0.27, 0.27)"
      ]
     },
     "execution_count": 40,
     "metadata": {},
     "output_type": "execute_result"
    }
   ],
   "source": [
    "(binom(1500,.27).mean())/1500, bernoulli(.27).mean()"
   ]
  },
  {
   "cell_type": "markdown",
   "id": "58e85f88",
   "metadata": {},
   "source": [
    "La gráfica se parece a la de una distribución normal no estandarizada, tiene sentido porque solamente se graficó la distribución de la sucesión. Aun así, esta distribución se puede llevar a una normal estandar aplicando el *teorema central del límite*. Lo que concierne a la ley debil de los grandes número se cumple: la convergencia de las sucesiones coincide con el parámetro (media en este caso) de cada variable."
   ]
  },
  {
   "cell_type": "markdown",
   "id": "50cf9458",
   "metadata": {},
   "source": [
    "### Ley fuerte de los grandes números\n",
    "Sean $X_{1}, X_{2}, \\dots$ variables aleatorias independientes e idénticamente distribuidas con media $\\mu$, entonces $$\\frac{1}{n}\\sum _{i=1}^{n} X_{i} \\rightarrow^{cs} \\mu$$\n",
    "La convergencia casi segura implica la convergencia en probabilidad, de ahí proviene que esta ley es más fuerte.\n",
    "\n",
    "Ejemplo: Sea $X_{n}$ una sucesión de variables aleatorias independientes e identicamente distribuidas con bernoulli$(\\frac{1}{m})^N$, para cada $X_{n}$, $E(X_{n})= (\\frac{1}{m})^N$ y $P(\\lim _{n \\to \\infty}\\frac{1}{n}\\sum_{k=1}^{n}X_{k}= (\\frac{1}{m})^N)=1$. Lo cual quiere decir que cada variable al menos ocurre, es decir, que cada variable es $1$ , (ocurre o no ocurre) por seguir una distribución bernoulli. Entonces para todos los eventos salvo quizá algunos, que marquen $0$ (no ocurren), la probabilidad es casi seguramente 1. Por lo tanto cada variable tiene media $p$ y la $\\frac{1}{n}\\sum_{k=1}^{n}X_{i}$ también tiene media $p$ casi seguramente. Notar que esta distribución con el parámetro, bajo las mismas condiciones, cumple la ley debil de los grandes números.\n"
   ]
  },
  {
   "cell_type": "markdown",
   "id": "07ff965f",
   "metadata": {},
   "source": [
    "### Teorema central del límite \n",
    "Sea $X_{1},X_{2} \\dots$ una sucesión de variables aleatorias identicamente distribuidas con $E(X_{n})=\\mu$ y $Var(X_{n})=\\sigma^2 < \\infty$, entonces\n",
    "\n",
    "$$\\frac{X_{1}+\\dots + X_{n}-n\\mu}{\\sqrt n\\sigma} \\rightarrow ^{D} N(0,1)$$\n",
    "Equivalentemente: $$\\frac{\\sqrt{n}}{\\sigma}(\\overline{X}-\\mu) \\rightarrow ^{D} N(0,1)$$\n",
    "\n",
    "Ejemplo: Sea $X_{n}$ una sucesión de variables aleatorias identicamente distribuidas con Exponencial$(1)$, verificar el teorema central del límite.\n",
    "Con $Y=\\sum_{i=1}^{n}X_{i}$. $E(Y)=n$ y $Var(Y)=n$. Si $n=1000$, entonces $$\\frac{X_{1}+\\dots + X_{1000}-1000}{\\sqrt 1000} \\rightarrow ^{D} N(0,1)$$\n",
    "\n",
    "Gráficamente:"
   ]
  },
  {
   "cell_type": "code",
   "execution_count": 48,
   "id": "78a71cbf",
   "metadata": {},
   "outputs": [],
   "source": [
    "from scipy.stats import gamma"
   ]
  },
  {
   "cell_type": "code",
   "execution_count": 59,
   "id": "73acbee3",
   "metadata": {},
   "outputs": [],
   "source": [
    "data_gamma=gamma.rvs(a=1000,size=1000) #notar qué parámetros acepta la función\n"
   ]
  },
  {
   "cell_type": "code",
   "execution_count": 60,
   "id": "4c263bea",
   "metadata": {},
   "outputs": [
    {
     "name": "stderr",
     "output_type": "stream",
     "text": [
      "C:\\Users\\kevin\\Dropbox\\Python 3.9\\lib\\site-packages\\seaborn\\distributions.py:2619: FutureWarning: `distplot` is a deprecated function and will be removed in a future version. Please adapt your code to use either `displot` (a figure-level function with similar flexibility) or `histplot` (an axes-level function for histograms).\n",
      "  warnings.warn(msg, FutureWarning)\n"
     ]
    },
    {
     "data": {
      "text/plain": [
       "[Text(0.5, 0, 'Distribución gamma'), Text(0, 0.5, 'Frequency')]"
      ]
     },
     "execution_count": 60,
     "metadata": {},
     "output_type": "execute_result"
    },
    {
     "data": {
      "image/png": "[encoded data removed]",
      "text/plain": [
       "<Figure size 432x288 with 1 Axes>"
      ]
     },
     "metadata": {
      "needs_background": "light"
     },
     "output_type": "display_data"
    }
   ],
   "source": [
    "ax=sns.distplot(data_gamma,\n",
    "                  kde=True,\n",
    "                  bins=100,\n",
    "                  color='green',\n",
    "                  hist_kws={\"linewidth\": 15,'alpha':1})\n",
    "ax.set(xlabel='Distribución gamma', ylabel='Frequency')"
   ]
  },
  {
   "cell_type": "code",
   "execution_count": 72,
   "id": "eff2522d",
   "metadata": {},
   "outputs": [
    {
     "data": {
      "text/plain": [
       "(0.5042052441802155, 0.5, 0.5042052441802155)"
      ]
     },
     "execution_count": 72,
     "metadata": {},
     "output_type": "execute_result"
    }
   ],
   "source": [
    "gamma(1000).cdf(1000), norm(0,1).cdf(0), gamma(1000).cdf(1000)"
   ]
  },
  {
   "cell_type": "markdown",
   "id": "77d32d5c",
   "metadata": {},
   "source": [
    "La gráfica parece que proviene de una distribución normal sin normalizar. Si por ejemplo, buscamos la media, recordar que la media de una gamma$(1000)$ es $1000$ (usar notación uniparametral), se tiene que \n",
    "$P({n\\overline{X}}\\leq 1000)$=\n",
    "$P(\\frac{n\\overline{X}-1000}{\\sqrt{1000}}\\leq \\frac{1000-1000}{1000})= P(Z\\leq 0) \\approx 0.50$. De esta forma la aproximación se cumple."
   ]
  }
 ],
 "metadata": {
  "kernelspec": {
   "display_name": "Python 3 (ipykernel)",
   "language": "python",
   "name": "python3"
  },
  "language_info": {
   "codemirror_mode": {
    "name": "ipython",
    "version": 3
   },
   "file_extension": ".py",
   "mimetype": "text/x-python",
   "name": "python",
   "nbconvert_exporter": "python",
   "pygments_lexer": "ipython3",
   "version": "3.9.12"
  }
 },
 "nbformat": 4,
 "nbformat_minor": 5
}
