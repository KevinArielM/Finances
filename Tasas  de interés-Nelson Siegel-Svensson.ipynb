{
 "cells": [
  {
   "cell_type": "markdown",
   "id": "06448d46",
   "metadata": {},
   "source": [
    "A través del tiempo, se analizó que la *TIR* no era lo suficientemente precisa para valuar instrumentos financieros. Las tasas de interés, generalmente, no son constantes. Por ejemplo, un bono a 3 años no debería de tener la misma tasa que un bono a 10 años. La estructura temporal de las tasas de interés tiene una representación gráfica, que se conoce como *curva de rendimientos*, en la que la variable independiente $x$ es el tiempo y la variable dependiente $y$ es la misma *TIR*. Se espera que la curva de rendimientos sea ascendente. El análisis de la curva de rendimientos provee elementos para analizar estrategias de inversión y posibilidades de arbitraje.\n",
    "\n",
    "#### Valuación correcta\n",
    "Un bono se debe de valuar a diferentes tasas de interés, como si cada cupón fuera un bono cupón cero. Si por ejemplo, se desea valuar un bono a tres años, la valuación consiste en la suma de 3 bonos cupón cero con diferentes vencimientos.\n",
    "\n",
    "#### Tasa spot\n",
    "La *tasa spot* o *tasa de contado* o *tasa cero* es la tasa con la que se descuentan los flujos de efectivo *hoy*.\n",
    "\n",
    "Si se adquiere un bono a un año con $1000$ de nominal con cupón cero a $950$, la tasa spot viene dada por $$950=\\frac{1000}{(1+.052)}$$, es decir, la tasa spot es de $5.2\\%$ anual.\n",
    "La tasa implícita en el bono es de $5.2\\%$. Como se tiene el precio del bono y su valor nominal la tasa implícita es el precio puro del tiempo asignado anualmente.\n",
    "\n",
    "#### Tasa futura\n",
    "También conocida como *tasa forward*, se aplica cuando la tasa que deseamos conocer es incierta pero tenemos información. Por ejemplo, nos interesa conocer la tasa de interés que estará vigente dentro de los próximos 2 a 3 años, pero tenemos información de las tasas a 2 y 3 años por separado pero no la intermedia. Se puede pensar que la tasa forward es la tasa que se espera en el mercado considerando las tasas spot. De forma particular se calcula como $$f_{wd}=\\frac{(1+i_{n})^n}{(1+i_{m})}-1$$ con $m \\leq  n$\n",
    "de forma equivalente $$f_{wd}= [\\frac{1+i_{2}\\frac{t_{2}}{Base}}{1+i_{1}\\frac{t_{1}}{Base}}-1](\\frac{Base}{t_{12}})$$\n",
    "\n",
    "Ejemplo: Si una tasa de un cete a seis meses es de $22.27\\%$ anual, a un año hay otro cete con tasa de $23.32\\%$ anual, para calcular la tasa del 6 mes al mes 12 se calcula como $$f_{wd}= [\\frac{1+.2332\\frac{360}{360}}{1+.2227\\frac{180}{360}}-1](\\frac{360}{{180}})=.21928$$, es decir, la tasa del mes 6 al mes 12 es de $21.928\\%$ anual, también se le conoce como la tasa implícita forward.\n",
    "\n",
    "Notar que $$[1+.2332\\frac{360}{360}]=.(21928(\\frac{180}{360})+1)(1+.2227\\frac{180}{360})=1.2332$$\n",
    "\n",
    "Con el otro método: $$f_{wd}=\\frac{(1+.2332\\frac{1}{2})^2}{(1+.2227\\frac{1}{2})}-1=.1218$$\n",
    "\n",
    "Notar que $$(1+.2227\\frac{1}{2})(1.1218)=(1+.2332\\frac{1}{2})^2$$\n",
    "que significa que a esa tasa forward es irrelevante invertir a un año o invertir a seis meses y luego reinvertir durante los próximos seis meses. Si la tasa forward es menor que $.1218$ conviene invertir en el rendimiento a un año; si la tasa forward es mayor que $.1218$ conviene invertir a seis meses y luego reinvertir.\n",
    "\n",
    "El caso general para este método es $$f_{wd}=[\\frac{(1+i_{n})^n}{(1+i_{m})^m}]^{n-m}-1$$ con $m \\leq  n$\n",
    "\n",
    "Ambos métodos estiman correctamente la tasa futura, solo que el primero supone que la inversión se hace con la tasa spot anual, mientras que el otro método supone que se capitaliza dos veces con la tasa semestral."
   ]
  },
  {
   "cell_type": "code",
   "execution_count": 1,
   "id": "8b9a48ef",
   "metadata": {},
   "outputs": [],
   "source": [
    "import pandas as pd\n",
    "import numpy as np\n",
    "import math"
   ]
  },
  {
   "cell_type": "code",
   "execution_count": 2,
   "id": "9f701377",
   "metadata": {},
   "outputs": [],
   "source": [
    "def tasa_fwd(i1,i2,n,m): #tasa del plazo adelantado, tasa del plazo inicial, plazo final, plazo inicial\n",
    "    print(\"La tasa esperada (forward) anual es\")\n",
    "    return (((1+i2)**n /(1+i1)**m)**(n-m)-1 )*(n/m)\n"
   ]
  },
  {
   "cell_type": "code",
   "execution_count": 3,
   "id": "9c6a1549",
   "metadata": {},
   "outputs": [
    {
     "name": "stdout",
     "output_type": "stream",
     "text": [
      "La tasa esperada (forward) anual es\n"
     ]
    },
    {
     "data": {
      "text/plain": [
       "0.24374960183560512"
      ]
     },
     "execution_count": 3,
     "metadata": {},
     "output_type": "execute_result"
    }
   ],
   "source": [
    "tasa_fwd(.111350,.116600,2,1)"
   ]
  },
  {
   "cell_type": "markdown",
   "id": "9296901a",
   "metadata": {},
   "source": [
    "Sea una tasa al primer semestre de $2\\%$ y una tasa al segundo semestre de $2.125\\%$, calcular la tasa forward del final del primer semestre al segundo semestre."
   ]
  },
  {
   "cell_type": "code",
   "execution_count": 4,
   "id": "76c05e3c",
   "metadata": {},
   "outputs": [
    {
     "name": "stdout",
     "output_type": "stream",
     "text": [
      "La tasa esperada (forward) anual es\n"
     ]
    },
    {
     "data": {
      "text/plain": [
       "0.04500306372549012"
      ]
     },
     "execution_count": 4,
     "metadata": {},
     "output_type": "execute_result"
    }
   ],
   "source": [
    "tasa_fwd(.02,0.02125,2,1)"
   ]
  },
  {
   "cell_type": "markdown",
   "id": "49e33e66",
   "metadata": {},
   "source": [
    "Para interés continuo $e^{i}$ se tiene un aproximación parecida:$$f_{wdC}=\\frac{i_{2}T_{2}-i_{1}T_{1}}{T_{2}-T_{1}}$$"
   ]
  },
  {
   "cell_type": "code",
   "execution_count": 5,
   "id": "a0da1c8a",
   "metadata": {},
   "outputs": [],
   "source": [
    "df=pd.DataFrame({\"Tipo de interés cupón cero\":[10,10.5,10.8,11,11.1],\"Tipos a plazo para el año n\":[10,11,11.4,11.6,11.5]}, index=[1,2,3,4,5])"
   ]
  },
  {
   "cell_type": "code",
   "execution_count": 6,
   "id": "d1d976ba",
   "metadata": {},
   "outputs": [
    {
     "data": {
      "text/html": [
       "<div>\n",
       "<style scoped>\n",
       "    .dataframe tbody tr th:only-of-type {\n",
       "        vertical-align: middle;\n",
       "    }\n",
       "\n",
       "    .dataframe tbody tr th {\n",
       "        vertical-align: top;\n",
       "    }\n",
       "\n",
       "    .dataframe thead th {\n",
       "        text-align: right;\n",
       "    }\n",
       "</style>\n",
       "<table border=\"1\" class=\"dataframe\">\n",
       "  <thead>\n",
       "    <tr style=\"text-align: right;\">\n",
       "      <th></th>\n",
       "      <th>Tipo de interés cupón cero</th>\n",
       "      <th>Tipos a plazo para el año n</th>\n",
       "    </tr>\n",
       "    <tr>\n",
       "      <th>Año (n)</th>\n",
       "      <th></th>\n",
       "      <th></th>\n",
       "    </tr>\n",
       "  </thead>\n",
       "  <tbody>\n",
       "    <tr>\n",
       "      <th>1</th>\n",
       "      <td>10.0</td>\n",
       "      <td>10.0</td>\n",
       "    </tr>\n",
       "    <tr>\n",
       "      <th>2</th>\n",
       "      <td>10.5</td>\n",
       "      <td>11.0</td>\n",
       "    </tr>\n",
       "    <tr>\n",
       "      <th>3</th>\n",
       "      <td>10.8</td>\n",
       "      <td>11.4</td>\n",
       "    </tr>\n",
       "    <tr>\n",
       "      <th>4</th>\n",
       "      <td>11.0</td>\n",
       "      <td>11.6</td>\n",
       "    </tr>\n",
       "    <tr>\n",
       "      <th>5</th>\n",
       "      <td>11.1</td>\n",
       "      <td>11.5</td>\n",
       "    </tr>\n",
       "  </tbody>\n",
       "</table>\n",
       "</div>"
      ],
      "text/plain": [
       "         Tipo de interés cupón cero  Tipos a plazo para el año n\n",
       "Año (n)                                                         \n",
       "1                              10.0                         10.0\n",
       "2                              10.5                         11.0\n",
       "3                              10.8                         11.4\n",
       "4                              11.0                         11.6\n",
       "5                              11.1                         11.5"
      ]
     },
     "execution_count": 6,
     "metadata": {},
     "output_type": "execute_result"
    }
   ],
   "source": [
    "df1=df.rename_axis(\"Año (n)\")\n",
    "df1"
   ]
  },
  {
   "cell_type": "code",
   "execution_count": 7,
   "id": "ee7de7c0",
   "metadata": {},
   "outputs": [
    {
     "data": {
      "text/plain": [
       "<AxesSubplot:xlabel='Años', ylabel='Tasa de interés'>"
      ]
     },
     "execution_count": 7,
     "metadata": {},
     "output_type": "execute_result"
    },
    {
     "data": {
      "image/png": "[encoded data removed]",
      "text/plain": [
       "<Figure size 432x288 with 1 Axes>"
      ]
     },
     "metadata": {
      "needs_background": "light"
     },
     "output_type": "display_data"
    }
   ],
   "source": [
    "df1.plot(xlabel=\"Años\",ylabel=\"Tasa de interés\")"
   ]
  },
  {
   "cell_type": "markdown",
   "id": "93dfaeaa",
   "metadata": {},
   "source": [
    "Para calcular la tasa del año 3 al año 4 con interés continuo: $$f_{wdC}=\\frac{.11(4)-.108(3)}{4-3}=.116$$"
   ]
  },
  {
   "cell_type": "code",
   "execution_count": 8,
   "id": "50b1385d",
   "metadata": {},
   "outputs": [],
   "source": [
    "def tasa_fwdC(i1,i2,T1,T2):\n",
    "    print(\"La tasa esperada(forward) para tiempo continuo es\")\n",
    "    return (i2*T2-i1*T1)/(T2-T1)"
   ]
  },
  {
   "cell_type": "code",
   "execution_count": 9,
   "id": "09359027",
   "metadata": {},
   "outputs": [
    {
     "name": "stdout",
     "output_type": "stream",
     "text": [
      "La tasa esperada(forward) para tiempo continuo es\n"
     ]
    },
    {
     "data": {
      "text/plain": [
       "0.11599999999999999"
      ]
     },
     "execution_count": 9,
     "metadata": {},
     "output_type": "execute_result"
    }
   ],
   "source": [
    "tasa_fwdC(.11,.108,4,3)"
   ]
  },
  {
   "cell_type": "markdown",
   "id": "a301a430",
   "metadata": {},
   "source": [
    "Se comprueba que $e^{.108(3)}e^{.116}=e^{.11(4)}=1.5527$"
   ]
  },
  {
   "cell_type": "code",
   "execution_count": 2,
   "id": "f9c279ed",
   "metadata": {},
   "outputs": [
    {
     "data": {
      "text/plain": [
       "(1.552707218511336, 1.552707218511336)"
      ]
     },
     "execution_count": 2,
     "metadata": {},
     "output_type": "execute_result"
    }
   ],
   "source": [
    "math.exp(.108*3)*math.exp(.116),math.exp(.11*4)\n",
    "\n"
   ]
  },
  {
   "cell_type": "markdown",
   "id": "a3e14bbb",
   "metadata": {},
   "source": [
    "#### Determinación de la tasa cupón cero\n",
    "\n",
    "En ocasiones las tasas de interés cupón cero son desconocidas, por lo que se motiva a investigar cómo calcular estas tasas. Una metodología posible es el *método bootstrap*, que consiste en calcular las tasas con los datos que se tienen en el mercado. Otros métodos son parecidos a la interpolación lineal, cuadrática o cúbica. Todos estos métodos en esencia calculan las posibles tasas con información conocida. \n",
    "Si por ejemplo se quiere calcular las tasas para los próximos 5 años pagaderos semestralmente, se tiene que echar un vistazo a los bonos que hay en el mercado en ese periodo, principalmente a los bonos cupón cero con vencimiento en 6 meses y sus múltiplos para usar su rendimiento.\n",
    "\n",
    "Ejemplo numérico:"
   ]
  },
  {
   "cell_type": "code",
   "execution_count": 15,
   "id": "78269286",
   "metadata": {},
   "outputs": [
    {
     "data": {
      "text/html": [
       "<div>\n",
       "<style scoped>\n",
       "    .dataframe tbody tr th:only-of-type {\n",
       "        vertical-align: middle;\n",
       "    }\n",
       "\n",
       "    .dataframe tbody tr th {\n",
       "        vertical-align: top;\n",
       "    }\n",
       "\n",
       "    .dataframe thead th {\n",
       "        text-align: right;\n",
       "    }\n",
       "</style>\n",
       "<table border=\"1\" class=\"dataframe\">\n",
       "  <thead>\n",
       "    <tr style=\"text-align: right;\">\n",
       "      <th></th>\n",
       "      <th>Vencimiento anual</th>\n",
       "      <th>Cupón anual</th>\n",
       "      <th>Precio del bono</th>\n",
       "    </tr>\n",
       "    <tr>\n",
       "      <th>Nominal del bono</th>\n",
       "      <th></th>\n",
       "      <th></th>\n",
       "      <th></th>\n",
       "    </tr>\n",
       "  </thead>\n",
       "  <tbody>\n",
       "    <tr>\n",
       "      <th>100</th>\n",
       "      <td>0.25</td>\n",
       "      <td>0</td>\n",
       "      <td>97.5</td>\n",
       "    </tr>\n",
       "    <tr>\n",
       "      <th>100</th>\n",
       "      <td>0.50</td>\n",
       "      <td>0</td>\n",
       "      <td>94.9</td>\n",
       "    </tr>\n",
       "    <tr>\n",
       "      <th>100</th>\n",
       "      <td>1.00</td>\n",
       "      <td>0</td>\n",
       "      <td>90.0</td>\n",
       "    </tr>\n",
       "    <tr>\n",
       "      <th>100</th>\n",
       "      <td>1.50</td>\n",
       "      <td>8</td>\n",
       "      <td>96.0</td>\n",
       "    </tr>\n",
       "    <tr>\n",
       "      <th>100</th>\n",
       "      <td>2.00</td>\n",
       "      <td>12</td>\n",
       "      <td>101.6</td>\n",
       "    </tr>\n",
       "  </tbody>\n",
       "</table>\n",
       "</div>"
      ],
      "text/plain": [
       "                  Vencimiento anual  Cupón anual  Precio del bono\n",
       "Nominal del bono                                                 \n",
       "100                            0.25            0             97.5\n",
       "100                            0.50            0             94.9\n",
       "100                            1.00            0             90.0\n",
       "100                            1.50            8             96.0\n",
       "100                            2.00           12            101.6"
      ]
     },
     "execution_count": 15,
     "metadata": {},
     "output_type": "execute_result"
    }
   ],
   "source": [
    "Boot=pd.DataFrame({\"Vencimiento anual\":[.25,.50,1,1.5,2],\"Cupón anual\":[0,0,0,8,12],\"Precio del bono\":\n",
    "                [97.5,94.9,90.0,96.0,101.6]},index=[100,100,100,100,100])\n",
    "Boot.rename_axis(\"Nominal del bono\")"
   ]
  },
  {
   "cell_type": "markdown",
   "id": "5853294b",
   "metadata": {},
   "source": [
    "Para calcular las tasas por bootstrap se puede hacer considerando tasas discretas o tasas continuas. \n",
    "\n",
    "Discretas: $$B_{1}=(\\frac{100}{97.5}-1)(4)=.102565$$, $$B_{2}=(\\frac{100}{94.9}-1)(2)=.107482$$, $$B_{3}=(\\frac{100}{90}-1)(\\frac{4}{4})=.1111$$ \n",
    "como a partir del periodo se paga cupón, $$\\frac{4}{(1+\\frac{.107482}{2})}+\\frac{4}{(1.1111)}+\\frac{104}{(1+B_{4})^{1.5}}=96$$\n",
    "Dando como resultado $B_{4}=.112721$\n",
    "\n",
    "Para $B_{5}$  es similar:\n",
    "$$\\frac{6}{(1+\\frac{.107482}{2})}+\\frac{6}{(1.1111)}+\\frac{6}{(1.112721)^{1.5}}+\\frac{106}{(1+B_{5})^2}=101.6$$\n",
    "Dando como resultado $B_{5}=.112876$. De esta manera se finaliza el cálculo de tasas por bootstrap en la forma discreta."
   ]
  },
  {
   "cell_type": "code",
   "execution_count": 53,
   "id": "375f079f",
   "metadata": {},
   "outputs": [],
   "source": [
    "def BootstrapD(N,P,n): #nominal, precio y capitalización sin cupones \n",
    "    return  (N/P-1)*n"
   ]
  },
  {
   "cell_type": "code",
   "execution_count": 35,
   "id": "ad2e1cac",
   "metadata": {},
   "outputs": [
    {
     "data": {
      "text/plain": [
       "0.1025641025641022"
      ]
     },
     "execution_count": 35,
     "metadata": {},
     "output_type": "execute_result"
    }
   ],
   "source": [
    "BootstrapD(100,97.5,4)"
   ]
  },
  {
   "cell_type": "markdown",
   "id": "9c4bef03",
   "metadata": {},
   "source": [
    "Bootstrap para tasas continuas:\n",
    "Tomando el mismo ejemplo, $$B_{1}=4\\ln(\\frac{100}{97.5})=.10127$$, $$B_{2}=2\\ln(\\frac{100}{94.9})=.10469$$,  $$B_{3}=1\\ln(\\frac{100}{90})=.10536$$, $$96=4e^{-.10469(.5)}+4e^{-.10536(1)}+104e^{-B_{4}1.5}$$ con $B_{4}=\\frac{-\\ln(.85196)}{1.5}=.10681$\n",
    "\n",
    "Para $B_{5}$: $$101.6=6e^{-.10469(.5)}+6e^{-.10536(1)}+6e^{-.10681(1.5)}+106e^{-B_{5}(2)}$$ con $B_{5}=\\frac{-\\ln(.80560)}{2}=.10808$"
   ]
  },
  {
   "cell_type": "code",
   "execution_count": 54,
   "id": "7a005d99",
   "metadata": {},
   "outputs": [],
   "source": [
    "def bootstrapC(N,P,n): #nominal, precio y capitalización sin cupones\n",
    "    return n*np.log(N/P)"
   ]
  },
  {
   "cell_type": "code",
   "execution_count": 62,
   "id": "f486060a",
   "metadata": {},
   "outputs": [
    {
     "data": {
      "text/plain": [
       "(0.10127123193715915, 0.10469296074441839, 0.10536051565782635)"
      ]
     },
     "execution_count": 62,
     "metadata": {},
     "output_type": "execute_result"
    }
   ],
   "source": [
    "bootstrapC(100,97.5,4),bootstrapC(100,94.9,2),bootstrapC(100,90,1)"
   ]
  },
  {
   "cell_type": "markdown",
   "id": "5282d65f",
   "metadata": {},
   "source": [
    "#### Modelo de Nelson-Siegel\n",
    "\n",
    "El modelo de Nelson-Siegel sirve para analizar los factores que intervienen en la curva de rendimiento, con el objetivo de predecir los movimientos futuros en las tasas de interés.\n",
    "Se supone que el tipo forward es solución de una ecuación diferencial de segundo orden con raices iguales y repetidas. El modelo establece que la tasa forward instantánea en el momento $t$ se presenta como $$fwd_{t}=\\beta_{0}+\\beta_{1}e^{(\\frac{-t}{\\lambda})}+\\beta_{2}\\frac{t}{\\lambda}e^{(\\frac{-t}{\\lambda})}$$ \n",
    "\n",
    "Notas:\n",
    "1. La tasa forward está en función del tiempo\n",
    "2. El $\\lim _{t \\to \\infty}fwd_{t}=\\beta_{0}$, que quiere decir que $\\beta_{0}$ representa el comportamiento de la tasa forward a largo plazo. También se le conoce como *nivel de la curva de rendimientos*.\n",
    "3. El $\\lim_{t \\to 0} fwd_{t}=\\beta_{0}+\\beta_{1}$  si $fwd_{t}=f(0)=\\beta_{0}+\\beta_{1}$, entonces $f(0)-\\beta_{0}=\\beta_{1}$ y $\\beta_{1}$ es la diferencia entre la tasa forward instantánea y la tasa forward a largo plazo (punto anterior). También quiere decir que $\\beta_{0}+\\beta_{1}$ representa la tasa de interés a muy corto plazo (cuando tiende a cero). $\\beta_{1}$ es conocida como la *pendiente de la curva de rendimientos*. Notar que el nivel de la curva de rendimientos y la pendiente de la curva de rendimientos en una función lineal serían la ordenada al origen y la pendiente, respectivamente.\n",
    "4. $\\beta_{2}$ y $\\lambda$ tienen relación con la curvatura de la función en tiempos medios exclusivamente. Estos parámetros hacen que la curvatura se presente entre los límites $\\beta_{0}$ y $\\beta_{0}+\\beta_{1}$."
   ]
  },
  {
   "cell_type": "code",
   "execution_count": 60,
   "id": "16991740",
   "metadata": {},
   "outputs": [],
   "source": [
    "def Nelson_Siegel(B0,B1,B2,t,l): #beta0, beta1, beta3,tiempo y lambda\n",
    "    print(\"Estas son las tasas forward instantáneas para t\")\n",
    "\n",
    "    for t in range(1,t+1):\n",
    "        t= B0+B1*math.exp(-t/l)+B2*(t/l)*math.exp(-t/l) \n",
    "        print(t,\"\")\n",
    "\n",
    "    return "
   ]
  },
  {
   "cell_type": "markdown",
   "id": "f5e494c8",
   "metadata": {},
   "source": [
    "A modo de ejemplo, se consideran los parámetros con los siguientes valores: $\\beta_{0}=6$, $\\beta_{1}=.3$, $\\beta_{2}=3$, $t=10$ y $\\lambda=3$"
   ]
  },
  {
   "cell_type": "code",
   "execution_count": 59,
   "id": "1900c547",
   "metadata": {},
   "outputs": [
    {
     "name": "stdout",
     "output_type": "stream",
     "text": [
      "Estas son las tasas forward instantáneas para t\n",
      "6.931490703745927 \n",
      "7.180859373774961 \n",
      "7.21400215586576 \n",
      "7.133467693897625 \n",
      "7.001040695039078 \n",
      "6.85261228439066 \n",
      "6.707895365410157 \n",
      "6.576712645149253 \n",
      "6.463019735821135 \n",
      "6.3674421314767 \n"
     ]
    }
   ],
   "source": [
    "Nelson_Siegel(6,.3,3,10,3)"
   ]
  },
  {
   "cell_type": "code",
   "execution_count": 76,
   "id": "14ef791f",
   "metadata": {},
   "outputs": [],
   "source": [
    "ejemplo=pd.DataFrame({\"Tipo forward instantaneo\":[6.931490703745927, \n",
    "7.180859373774961 ,\n",
    "7.21400215586576, \n",
    "7.133467693897625 ,\n",
    "7.001040695039078 ,\n",
    "6.85261228439066 ,\n",
    "6.707895365410157 ,\n",
    "6.576712645149253 ,\n",
    "6.463019735821135 ,\n",
    "6.3674421314767 ]},index=[1,2,3,4,5,6,7,8,9,10])"
   ]
  },
  {
   "cell_type": "code",
   "execution_count": 77,
   "id": "e7639bbe",
   "metadata": {},
   "outputs": [
    {
     "data": {
      "text/html": [
       "<div>\n",
       "<style scoped>\n",
       "    .dataframe tbody tr th:only-of-type {\n",
       "        vertical-align: middle;\n",
       "    }\n",
       "\n",
       "    .dataframe tbody tr th {\n",
       "        vertical-align: top;\n",
       "    }\n",
       "\n",
       "    .dataframe thead th {\n",
       "        text-align: right;\n",
       "    }\n",
       "</style>\n",
       "<table border=\"1\" class=\"dataframe\">\n",
       "  <thead>\n",
       "    <tr style=\"text-align: right;\">\n",
       "      <th></th>\n",
       "      <th>Tipo forward instantaneo</th>\n",
       "    </tr>\n",
       "    <tr>\n",
       "      <th>Tiempo</th>\n",
       "      <th></th>\n",
       "    </tr>\n",
       "  </thead>\n",
       "  <tbody>\n",
       "    <tr>\n",
       "      <th>1</th>\n",
       "      <td>6.931491</td>\n",
       "    </tr>\n",
       "    <tr>\n",
       "      <th>2</th>\n",
       "      <td>7.180859</td>\n",
       "    </tr>\n",
       "    <tr>\n",
       "      <th>3</th>\n",
       "      <td>7.214002</td>\n",
       "    </tr>\n",
       "    <tr>\n",
       "      <th>4</th>\n",
       "      <td>7.133468</td>\n",
       "    </tr>\n",
       "    <tr>\n",
       "      <th>5</th>\n",
       "      <td>7.001041</td>\n",
       "    </tr>\n",
       "    <tr>\n",
       "      <th>6</th>\n",
       "      <td>6.852612</td>\n",
       "    </tr>\n",
       "    <tr>\n",
       "      <th>7</th>\n",
       "      <td>6.707895</td>\n",
       "    </tr>\n",
       "    <tr>\n",
       "      <th>8</th>\n",
       "      <td>6.576713</td>\n",
       "    </tr>\n",
       "    <tr>\n",
       "      <th>9</th>\n",
       "      <td>6.463020</td>\n",
       "    </tr>\n",
       "    <tr>\n",
       "      <th>10</th>\n",
       "      <td>6.367442</td>\n",
       "    </tr>\n",
       "  </tbody>\n",
       "</table>\n",
       "</div>"
      ],
      "text/plain": [
       "        Tipo forward instantaneo\n",
       "Tiempo                          \n",
       "1                       6.931491\n",
       "2                       7.180859\n",
       "3                       7.214002\n",
       "4                       7.133468\n",
       "5                       7.001041\n",
       "6                       6.852612\n",
       "7                       6.707895\n",
       "8                       6.576713\n",
       "9                       6.463020\n",
       "10                      6.367442"
      ]
     },
     "execution_count": 77,
     "metadata": {},
     "output_type": "execute_result"
    }
   ],
   "source": [
    "ejemplo.rename_axis(\"Tiempo\")"
   ]
  },
  {
   "cell_type": "code",
   "execution_count": 79,
   "id": "3de2071f",
   "metadata": {},
   "outputs": [
    {
     "data": {
      "text/plain": [
       "<AxesSubplot:xlabel='Tiempo', ylabel='Tasa instantánea'>"
      ]
     },
     "execution_count": 79,
     "metadata": {},
     "output_type": "execute_result"
    },
    {
     "data": {
      "image/png": "[encoded data removed]",
      "text/plain": [
       "<Figure size 432x288 with 1 Axes>"
      ]
     },
     "metadata": {
      "needs_background": "light"
     },
     "output_type": "display_data"
    }
   ],
   "source": [
    "ejemplo.plot(xlabel=\"Tiempo\",ylabel=\"Tasa instantánea\")"
   ]
  },
  {
   "cell_type": "markdown",
   "id": "6f8b08b8",
   "metadata": {},
   "source": [
    "El resultado puede cambiar conforme se cambien los parámetros, pero todas las variaciones cumplen con los resultados del modelo."
   ]
  },
  {
   "cell_type": "markdown",
   "id": "a17743a2",
   "metadata": {},
   "source": [
    "#### Modelo de Nelson-Siegel-Svensson\n",
    "Al igual que en el modelo de Nelson-Siegel, se supone que la tasa forward instantánea es solución de una ecuación diferencial de segundo orden con dos raíces iguales. Lo que se agrega para mejorar las condiciones de ajuste de la curva es una pareja de parámetros: $\\beta_{3}$ y $\\lambda_{1}$, que representa el segmento de una curva muy parecida a la de $\\beta_{2}$. El modelo es como sigue $$fwd_{t}=\\beta_{0}+\\beta_{1}e^{(\\frac{-t}{\\lambda})}+\\beta_{2}\\frac{t}{\\lambda}e^{(\\frac{-t}{\\lambda})}++\\beta_{3}\\frac{t}{\\lambda_{1}}e^{(\\frac{-t}{\\lambda_{1}})}$$ \n",
    "Las conclusiones del modelo de Nelson-Siegel son muy parecidas para este método. Se agregan solamente dos nuevos parámetros a estimar, que se espera que ajusten mejor la curva.\n",
    "\n",
    "Considerando el mismo ejemplo que en el modelo de Nelson-Siegel, pero añadiendo los nuevos parámetros (iguales al último término del modelo anterior porque comparten similitud en su estructura): $\\beta_{3}=3$ y $\\lambda_{1}=3$."
   ]
  },
  {
   "cell_type": "code",
   "execution_count": 81,
   "id": "32687e66",
   "metadata": {},
   "outputs": [],
   "source": [
    "def Nelson_Siegel_Svensson(B0,B1,B2,B3,t,l,l1): #beta0, beta1, beta3,tiempo y lambda\n",
    "    print(\"Estas son las tasas forward instantáneas para t\")\n",
    "\n",
    "    for t in range(1,t+1):\n",
    "        t= B0+B1*math.exp(-t/l)+B2*(t/l)*math.exp(-t/l)+B3*(t/l1)*math.exp(-t/l1) \n",
    "        print(t,\"\")\n",
    "\n",
    "    return "
   ]
  },
  {
   "cell_type": "code",
   "execution_count": 86,
   "id": "76487ab9",
   "metadata": {},
   "outputs": [
    {
     "name": "stdout",
     "output_type": "stream",
     "text": [
      "Estas son las tasas forward instantáneas para t\n",
      "7.648022014319716 \n",
      "8.207693611840146 \n",
      "8.317640479380087 \n",
      "8.187856246360532 \n",
      "7.945418709226887 \n",
      "7.664623983810336 \n",
      "7.386699140460992 \n",
      "7.132580254931665 \n",
      "6.91110335113191 \n",
      "6.7241820649492245 \n"
     ]
    }
   ],
   "source": [
    "Nelson_Siegel_Svensson(6,.3,3,3,10,3,3) #beta0, beta1,beta2,beta3, t,lambda1, lambda2"
   ]
  },
  {
   "cell_type": "code",
   "execution_count": 88,
   "id": "34c52829",
   "metadata": {},
   "outputs": [],
   "source": [
    "ejemplo2=pd.DataFrame({\"Tipo forward instantáneo\":[7.648022014319716, \n",
    "8.207693611840146 ,\n",
    "8.317640479380087 ,\n",
    "8.187856246360532 ,\n",
    "7.945418709226887 ,\n",
    "7.664623983810336 ,\n",
    "7.386699140460992 ,\n",
    "7.132580254931665 ,\n",
    "6.91110335113191 ,\n",
    "6.7241820649492245, ]}, index=[1,2,3,4,5,6,7,8,9,10])"
   ]
  },
  {
   "cell_type": "code",
   "execution_count": 90,
   "id": "679dab82",
   "metadata": {},
   "outputs": [
    {
     "data": {
      "text/html": [
       "<div>\n",
       "<style scoped>\n",
       "    .dataframe tbody tr th:only-of-type {\n",
       "        vertical-align: middle;\n",
       "    }\n",
       "\n",
       "    .dataframe tbody tr th {\n",
       "        vertical-align: top;\n",
       "    }\n",
       "\n",
       "    .dataframe thead th {\n",
       "        text-align: right;\n",
       "    }\n",
       "</style>\n",
       "<table border=\"1\" class=\"dataframe\">\n",
       "  <thead>\n",
       "    <tr style=\"text-align: right;\">\n",
       "      <th></th>\n",
       "      <th>Tipo forward instantáneo</th>\n",
       "    </tr>\n",
       "    <tr>\n",
       "      <th>Tiempo</th>\n",
       "      <th></th>\n",
       "    </tr>\n",
       "  </thead>\n",
       "  <tbody>\n",
       "    <tr>\n",
       "      <th>1</th>\n",
       "      <td>7.648022</td>\n",
       "    </tr>\n",
       "    <tr>\n",
       "      <th>2</th>\n",
       "      <td>8.207694</td>\n",
       "    </tr>\n",
       "    <tr>\n",
       "      <th>3</th>\n",
       "      <td>8.317640</td>\n",
       "    </tr>\n",
       "    <tr>\n",
       "      <th>4</th>\n",
       "      <td>8.187856</td>\n",
       "    </tr>\n",
       "    <tr>\n",
       "      <th>5</th>\n",
       "      <td>7.945419</td>\n",
       "    </tr>\n",
       "    <tr>\n",
       "      <th>6</th>\n",
       "      <td>7.664624</td>\n",
       "    </tr>\n",
       "    <tr>\n",
       "      <th>7</th>\n",
       "      <td>7.386699</td>\n",
       "    </tr>\n",
       "    <tr>\n",
       "      <th>8</th>\n",
       "      <td>7.132580</td>\n",
       "    </tr>\n",
       "    <tr>\n",
       "      <th>9</th>\n",
       "      <td>6.911103</td>\n",
       "    </tr>\n",
       "    <tr>\n",
       "      <th>10</th>\n",
       "      <td>6.724182</td>\n",
       "    </tr>\n",
       "  </tbody>\n",
       "</table>\n",
       "</div>"
      ],
      "text/plain": [
       "        Tipo forward instantáneo\n",
       "Tiempo                          \n",
       "1                       7.648022\n",
       "2                       8.207694\n",
       "3                       8.317640\n",
       "4                       8.187856\n",
       "5                       7.945419\n",
       "6                       7.664624\n",
       "7                       7.386699\n",
       "8                       7.132580\n",
       "9                       6.911103\n",
       "10                      6.724182"
      ]
     },
     "execution_count": 90,
     "metadata": {},
     "output_type": "execute_result"
    }
   ],
   "source": [
    "ejemplo2.rename_axis(\"Tiempo\")"
   ]
  },
  {
   "cell_type": "code",
   "execution_count": 94,
   "id": "000e0e6c",
   "metadata": {},
   "outputs": [
    {
     "data": {
      "text/plain": [
       "<AxesSubplot:xlabel='tiempo', ylabel='tasa de interés'>"
      ]
     },
     "execution_count": 94,
     "metadata": {},
     "output_type": "execute_result"
    },
    {
     "data": {
      "image/png": "[encoded data removed]",
      "text/plain": [
       "<Figure size 432x288 with 1 Axes>"
      ]
     },
     "metadata": {
      "needs_background": "light"
     },
     "output_type": "display_data"
    }
   ],
   "source": [
    "ejemplo2.plot(xlabel=\"tiempo\",ylabel=\"tasa de interés\")"
   ]
  },
  {
   "cell_type": "markdown",
   "id": "e4446a92",
   "metadata": {},
   "source": [
    "Notar que en este ejemplo la curva es más pronunciada. Al final ambas convergen a lo mismo para plazos largos: a $\\beta_{0}$. \n",
    "\n",
    "Lo importante de la aplicación del modelo es estimar los parámetros que mejor representen el entorno estudiado."
   ]
  }
 ],
 "metadata": {
  "kernelspec": {
   "display_name": "Python 3 (ipykernel)",
   "language": "python",
   "name": "python3"
  },
  "language_info": {
   "codemirror_mode": {
    "name": "ipython",
    "version": 3
   },
   "file_extension": ".py",
   "mimetype": "text/x-python",
   "name": "python",
   "nbconvert_exporter": "python",
   "pygments_lexer": "ipython3",
   "version": "3.9.12"
  }
 },
 "nbformat": 4,
 "nbformat_minor": 5
}
