{
 "cells": [
  {
   "cell_type": "markdown",
   "id": "beb98168",
   "metadata": {},
   "source": [
    "El primer *loop* es el *while*, que consiste en *hacer mientras*. Su estructura es \n",
    "\n",
    "*while expression*\n",
    "\n",
    "*statement*"
   ]
  },
  {
   "cell_type": "code",
   "execution_count": 5,
   "id": "9271f64c",
   "metadata": {},
   "outputs": [
    {
     "name": "stdout",
     "output_type": "stream",
     "text": [
      "0\n",
      "1\n",
      "2\n",
      "3\n",
      "4\n",
      "5\n",
      "6\n",
      "7\n",
      "8\n",
      "9\n",
      "10\n",
      "11\n",
      "12\n",
      "13\n",
      "14\n"
     ]
    }
   ],
   "source": [
    "x=0 #iniciar en cero\n",
    "while (x<15): \n",
    "    print(x) #imprime la variable\n",
    "    x = x+1 #pero incrementando una unidad\n"
   ]
  },
  {
   "cell_type": "code",
   "execution_count": 166,
   "id": "52a01b2d",
   "metadata": {},
   "outputs": [
    {
     "name": "stdout",
     "output_type": "stream",
     "text": [
      "1\n",
      "2\n",
      "3\n",
      "4\n",
      "5\n",
      "6\n",
      "7\n",
      "8\n",
      "9\n",
      "10\n",
      "11\n",
      "12\n",
      "13\n",
      "14\n"
     ]
    }
   ],
   "source": [
    "x= 1\n",
    "while x in range (1,15):\n",
    "    print(x)\n",
    "    x+=1 #x=x+1 indica el incremento\n"
   ]
  },
  {
   "cell_type": "code",
   "execution_count": 168,
   "id": "414d5757",
   "metadata": {},
   "outputs": [
    {
     "name": "stdout",
     "output_type": "stream",
     "text": [
      "6\n"
     ]
    }
   ],
   "source": [
    "j=0\n",
    "while j<6:\n",
    "    j+=3\n",
    "    if j==3: #recorre el ciclo sin 3\n",
    "        continue\n",
    "    print(j)\n"
   ]
  },
  {
   "cell_type": "code",
   "execution_count": 173,
   "id": "35f1cbcf",
   "metadata": {},
   "outputs": [
    {
     "name": "stdout",
     "output_type": "stream",
     "text": [
      "20\n",
      "30\n",
      "40\n",
      "50\n",
      "60\n",
      "70\n",
      "80\n",
      "90\n"
     ]
    }
   ],
   "source": [
    "j=10\n",
    "while j in range(10,100):\n",
    "    j+=10\n",
    "    if j==100:\n",
    "        continue\n",
    "    print(j)"
   ]
  },
  {
   "cell_type": "markdown",
   "id": "045d450a",
   "metadata": {},
   "source": [
    "Notar que la numeración comienza en *0*."
   ]
  },
  {
   "cell_type": "code",
   "execution_count": 183,
   "id": "bf625576",
   "metadata": {},
   "outputs": [
    {
     "name": "stdout",
     "output_type": "stream",
     "text": [
      "2\n",
      "3\n",
      "4\n",
      "5\n",
      "6\n",
      "7\n",
      "No hay mayores que 8\n"
     ]
    }
   ],
   "source": [
    "for h in range(1,7):\n",
    "    h += 1\n",
    "    print(h)\n",
    "else:\n",
    "        print(\"No hay mayores que 8\")\n"
   ]
  },
  {
   "cell_type": "code",
   "execution_count": 189,
   "id": "bff3bcc8",
   "metadata": {},
   "outputs": [
    {
     "name": "stdout",
     "output_type": "stream",
     "text": [
      "Alguna condición es cierta\n"
     ]
    }
   ],
   "source": [
    "a=330\n",
    "b=320 \n",
    "c=102\n",
    "if a<b or c<b:\n",
    "    print(\"Alguna condición es cierta\")\n"
   ]
  },
  {
   "cell_type": "markdown",
   "id": "2a856f1c",
   "metadata": {},
   "source": [
    "Ejemplo. Generar tasas de interés  aleatorias."
   ]
  },
  {
   "cell_type": "code",
   "execution_count": 27,
   "id": "8f05cee3",
   "metadata": {},
   "outputs": [
    {
     "name": "stdout",
     "output_type": "stream",
     "text": [
      "Requirement already satisfied: numpy-financial in c:\\users\\kevin\\dropbox\\python 3.9\\lib\\site-packages (1.0.0)\n",
      "Requirement already satisfied: numpy>=1.15 in c:\\users\\kevin\\dropbox\\python 3.9\\lib\\site-packages (from numpy-financial) (1.21.5)\n",
      "Note: you may need to restart the kernel to use updated packages.\n"
     ]
    }
   ],
   "source": [
    "pip install numpy-financial\n"
   ]
  },
  {
   "cell_type": "code",
   "execution_count": 32,
   "id": "e48d9be6",
   "metadata": {},
   "outputs": [],
   "source": [
    "import random"
   ]
  },
  {
   "cell_type": "code",
   "execution_count": 151,
   "id": "b3a114e9",
   "metadata": {},
   "outputs": [
    {
     "name": "stdout",
     "output_type": "stream",
     "text": [
      "0.6344085183425263\n",
      "0.7228619941077667\n",
      "0.14854265313729198\n",
      "0.7719868916526452\n",
      "0.7197362949078558\n",
      "0.16712627513102096\n",
      "0.2789571803752168\n",
      "0.2973644290549662\n",
      "0.8188091162577265\n",
      "0.2107444239924654\n"
     ]
    }
   ],
   "source": [
    "tasas = random.random()\n",
    "for i in range(1,11):\n",
    "    print(random.random())"
   ]
  },
  {
   "cell_type": "code",
   "execution_count": 147,
   "id": "e9df9644",
   "metadata": {},
   "outputs": [
    {
     "name": "stdout",
     "output_type": "stream",
     "text": [
      "[0.37, 0.69, 0.25, 0.86, 0.09, 0.18, 0.58, 0.02, 0.11, 0.35, 0.59, 0.12, 0.86, 0.91, 0.23, 0.32, 0.71, 1.0, 0.2, 0.73, 0.47, 0.83]\n"
     ]
    }
   ],
   "source": [
    "random_float_list = []\n",
    "for i in range(0, 22):\n",
    "    x = round(random.uniform(0, 1), 2)\n",
    "    random_float_list.append(x)\n",
    "\n",
    "print(random_float_list)"
   ]
  },
  {
   "cell_type": "code",
   "execution_count": 117,
   "id": "80754322",
   "metadata": {},
   "outputs": [],
   "source": [
    "import pandas as pd\n",
    "import numpy as np"
   ]
  },
  {
   "cell_type": "markdown",
   "id": "d14d1331",
   "metadata": {},
   "source": [
    "Generar 10 escenarios para tasas a 15 plazos (años o meses o dias)"
   ]
  },
  {
   "cell_type": "code",
   "execution_count": 133,
   "id": "c8824f29",
   "metadata": {},
   "outputs": [],
   "source": [
    "multipletasa = pd.DataFrame(np.random.uniform(0,1,size=(15, 10)), columns=list('ABCDEFGHIJ')) #nombrar columnas de acuerdo a la cantidad\n"
   ]
  },
  {
   "cell_type": "code",
   "execution_count": 139,
   "id": "741ebf3c",
   "metadata": {},
   "outputs": [
    {
     "data": {
      "text/html": [
       "<div>\n",
       "<style scoped>\n",
       "    .dataframe tbody tr th:only-of-type {\n",
       "        vertical-align: middle;\n",
       "    }\n",
       "\n",
       "    .dataframe tbody tr th {\n",
       "        vertical-align: top;\n",
       "    }\n",
       "\n",
       "    .dataframe thead th {\n",
       "        text-align: right;\n",
       "    }\n",
       "</style>\n",
       "<table border=\"1\" class=\"dataframe\">\n",
       "  <thead>\n",
       "    <tr style=\"text-align: right;\">\n",
       "      <th></th>\n",
       "      <th>A</th>\n",
       "      <th>B</th>\n",
       "      <th>C</th>\n",
       "      <th>D</th>\n",
       "      <th>E</th>\n",
       "      <th>F</th>\n",
       "      <th>G</th>\n",
       "      <th>H</th>\n",
       "      <th>I</th>\n",
       "      <th>J</th>\n",
       "    </tr>\n",
       "  </thead>\n",
       "  <tbody>\n",
       "    <tr>\n",
       "      <th>0</th>\n",
       "      <td>0.932360</td>\n",
       "      <td>0.348534</td>\n",
       "      <td>0.930115</td>\n",
       "      <td>0.134806</td>\n",
       "      <td>0.725452</td>\n",
       "      <td>0.455146</td>\n",
       "      <td>0.094459</td>\n",
       "      <td>0.604161</td>\n",
       "      <td>0.305173</td>\n",
       "      <td>0.442658</td>\n",
       "    </tr>\n",
       "    <tr>\n",
       "      <th>1</th>\n",
       "      <td>0.380420</td>\n",
       "      <td>0.110053</td>\n",
       "      <td>0.491141</td>\n",
       "      <td>0.964008</td>\n",
       "      <td>0.495264</td>\n",
       "      <td>0.966624</td>\n",
       "      <td>0.965286</td>\n",
       "      <td>0.330949</td>\n",
       "      <td>0.121811</td>\n",
       "      <td>0.633250</td>\n",
       "    </tr>\n",
       "    <tr>\n",
       "      <th>2</th>\n",
       "      <td>0.185544</td>\n",
       "      <td>0.719086</td>\n",
       "      <td>0.491582</td>\n",
       "      <td>0.929654</td>\n",
       "      <td>0.219491</td>\n",
       "      <td>0.693052</td>\n",
       "      <td>0.499869</td>\n",
       "      <td>0.010161</td>\n",
       "      <td>0.932257</td>\n",
       "      <td>0.098218</td>\n",
       "    </tr>\n",
       "    <tr>\n",
       "      <th>3</th>\n",
       "      <td>0.771954</td>\n",
       "      <td>0.433974</td>\n",
       "      <td>0.500636</td>\n",
       "      <td>0.255522</td>\n",
       "      <td>0.227186</td>\n",
       "      <td>0.003974</td>\n",
       "      <td>0.286563</td>\n",
       "      <td>0.961779</td>\n",
       "      <td>0.517357</td>\n",
       "      <td>0.120966</td>\n",
       "    </tr>\n",
       "    <tr>\n",
       "      <th>4</th>\n",
       "      <td>0.262342</td>\n",
       "      <td>0.101624</td>\n",
       "      <td>0.671453</td>\n",
       "      <td>0.881807</td>\n",
       "      <td>0.766703</td>\n",
       "      <td>0.090953</td>\n",
       "      <td>0.509746</td>\n",
       "      <td>0.289112</td>\n",
       "      <td>0.002070</td>\n",
       "      <td>0.998084</td>\n",
       "    </tr>\n",
       "    <tr>\n",
       "      <th>5</th>\n",
       "      <td>0.812248</td>\n",
       "      <td>0.027784</td>\n",
       "      <td>0.271688</td>\n",
       "      <td>0.137542</td>\n",
       "      <td>0.730530</td>\n",
       "      <td>0.900823</td>\n",
       "      <td>0.346950</td>\n",
       "      <td>0.730313</td>\n",
       "      <td>0.084313</td>\n",
       "      <td>0.027105</td>\n",
       "    </tr>\n",
       "    <tr>\n",
       "      <th>6</th>\n",
       "      <td>0.844221</td>\n",
       "      <td>0.885305</td>\n",
       "      <td>0.006049</td>\n",
       "      <td>0.078678</td>\n",
       "      <td>0.497461</td>\n",
       "      <td>0.368386</td>\n",
       "      <td>0.609908</td>\n",
       "      <td>0.526452</td>\n",
       "      <td>0.664641</td>\n",
       "      <td>0.278828</td>\n",
       "    </tr>\n",
       "    <tr>\n",
       "      <th>7</th>\n",
       "      <td>0.336792</td>\n",
       "      <td>0.340761</td>\n",
       "      <td>0.746628</td>\n",
       "      <td>0.250974</td>\n",
       "      <td>0.720409</td>\n",
       "      <td>0.394557</td>\n",
       "      <td>0.916324</td>\n",
       "      <td>0.690044</td>\n",
       "      <td>0.122247</td>\n",
       "      <td>0.937776</td>\n",
       "    </tr>\n",
       "    <tr>\n",
       "      <th>8</th>\n",
       "      <td>0.340018</td>\n",
       "      <td>0.973361</td>\n",
       "      <td>0.572908</td>\n",
       "      <td>0.866868</td>\n",
       "      <td>0.346092</td>\n",
       "      <td>0.556882</td>\n",
       "      <td>0.099305</td>\n",
       "      <td>0.457340</td>\n",
       "      <td>0.189155</td>\n",
       "      <td>0.373097</td>\n",
       "    </tr>\n",
       "    <tr>\n",
       "      <th>9</th>\n",
       "      <td>0.419798</td>\n",
       "      <td>0.410829</td>\n",
       "      <td>0.029056</td>\n",
       "      <td>0.585531</td>\n",
       "      <td>0.823279</td>\n",
       "      <td>0.706849</td>\n",
       "      <td>0.926207</td>\n",
       "      <td>0.005979</td>\n",
       "      <td>0.845992</td>\n",
       "      <td>0.676828</td>\n",
       "    </tr>\n",
       "    <tr>\n",
       "      <th>10</th>\n",
       "      <td>0.357479</td>\n",
       "      <td>0.850157</td>\n",
       "      <td>0.595493</td>\n",
       "      <td>0.136606</td>\n",
       "      <td>0.809475</td>\n",
       "      <td>0.078685</td>\n",
       "      <td>0.876768</td>\n",
       "      <td>0.207172</td>\n",
       "      <td>0.028654</td>\n",
       "      <td>0.595814</td>\n",
       "    </tr>\n",
       "    <tr>\n",
       "      <th>11</th>\n",
       "      <td>0.432703</td>\n",
       "      <td>0.342727</td>\n",
       "      <td>0.144023</td>\n",
       "      <td>0.091576</td>\n",
       "      <td>0.833645</td>\n",
       "      <td>0.207373</td>\n",
       "      <td>0.669506</td>\n",
       "      <td>0.471792</td>\n",
       "      <td>0.770392</td>\n",
       "      <td>0.448573</td>\n",
       "    </tr>\n",
       "    <tr>\n",
       "      <th>12</th>\n",
       "      <td>0.847531</td>\n",
       "      <td>0.670382</td>\n",
       "      <td>0.219815</td>\n",
       "      <td>0.382354</td>\n",
       "      <td>0.147985</td>\n",
       "      <td>0.080144</td>\n",
       "      <td>0.567350</td>\n",
       "      <td>0.473175</td>\n",
       "      <td>0.429636</td>\n",
       "      <td>0.535694</td>\n",
       "    </tr>\n",
       "    <tr>\n",
       "      <th>13</th>\n",
       "      <td>0.193260</td>\n",
       "      <td>0.138180</td>\n",
       "      <td>0.830964</td>\n",
       "      <td>0.959841</td>\n",
       "      <td>0.873012</td>\n",
       "      <td>0.706818</td>\n",
       "      <td>0.861826</td>\n",
       "      <td>0.064412</td>\n",
       "      <td>0.249158</td>\n",
       "      <td>0.231206</td>\n",
       "    </tr>\n",
       "    <tr>\n",
       "      <th>14</th>\n",
       "      <td>0.515937</td>\n",
       "      <td>0.470155</td>\n",
       "      <td>0.872768</td>\n",
       "      <td>0.603522</td>\n",
       "      <td>0.320388</td>\n",
       "      <td>0.656778</td>\n",
       "      <td>0.277458</td>\n",
       "      <td>0.393015</td>\n",
       "      <td>0.231068</td>\n",
       "      <td>0.477037</td>\n",
       "    </tr>\n",
       "  </tbody>\n",
       "</table>\n",
       "</div>"
      ],
      "text/plain": [
       "           A         B         C         D         E         F         G  \\\n",
       "0   0.932360  0.348534  0.930115  0.134806  0.725452  0.455146  0.094459   \n",
       "1   0.380420  0.110053  0.491141  0.964008  0.495264  0.966624  0.965286   \n",
       "2   0.185544  0.719086  0.491582  0.929654  0.219491  0.693052  0.499869   \n",
       "3   0.771954  0.433974  0.500636  0.255522  0.227186  0.003974  0.286563   \n",
       "4   0.262342  0.101624  0.671453  0.881807  0.766703  0.090953  0.509746   \n",
       "5   0.812248  0.027784  0.271688  0.137542  0.730530  0.900823  0.346950   \n",
       "6   0.844221  0.885305  0.006049  0.078678  0.497461  0.368386  0.609908   \n",
       "7   0.336792  0.340761  0.746628  0.250974  0.720409  0.394557  0.916324   \n",
       "8   0.340018  0.973361  0.572908  0.866868  0.346092  0.556882  0.099305   \n",
       "9   0.419798  0.410829  0.029056  0.585531  0.823279  0.706849  0.926207   \n",
       "10  0.357479  0.850157  0.595493  0.136606  0.809475  0.078685  0.876768   \n",
       "11  0.432703  0.342727  0.144023  0.091576  0.833645  0.207373  0.669506   \n",
       "12  0.847531  0.670382  0.219815  0.382354  0.147985  0.080144  0.567350   \n",
       "13  0.193260  0.138180  0.830964  0.959841  0.873012  0.706818  0.861826   \n",
       "14  0.515937  0.470155  0.872768  0.603522  0.320388  0.656778  0.277458   \n",
       "\n",
       "           H         I         J  \n",
       "0   0.604161  0.305173  0.442658  \n",
       "1   0.330949  0.121811  0.633250  \n",
       "2   0.010161  0.932257  0.098218  \n",
       "3   0.961779  0.517357  0.120966  \n",
       "4   0.289112  0.002070  0.998084  \n",
       "5   0.730313  0.084313  0.027105  \n",
       "6   0.526452  0.664641  0.278828  \n",
       "7   0.690044  0.122247  0.937776  \n",
       "8   0.457340  0.189155  0.373097  \n",
       "9   0.005979  0.845992  0.676828  \n",
       "10  0.207172  0.028654  0.595814  \n",
       "11  0.471792  0.770392  0.448573  \n",
       "12  0.473175  0.429636  0.535694  \n",
       "13  0.064412  0.249158  0.231206  \n",
       "14  0.393015  0.231068  0.477037  "
      ]
     },
     "execution_count": 139,
     "metadata": {},
     "output_type": "execute_result"
    }
   ],
   "source": [
    "multipletasa"
   ]
  },
  {
   "cell_type": "markdown",
   "id": "78d24811",
   "metadata": {},
   "source": [
    "Estadística descriptiva y su matriz de varianzas:"
   ]
  },
  {
   "cell_type": "code",
   "execution_count": 137,
   "id": "283a6c04",
   "metadata": {},
   "outputs": [
    {
     "data": {
      "text/html": [
       "<div>\n",
       "<style scoped>\n",
       "    .dataframe tbody tr th:only-of-type {\n",
       "        vertical-align: middle;\n",
       "    }\n",
       "\n",
       "    .dataframe tbody tr th {\n",
       "        vertical-align: top;\n",
       "    }\n",
       "\n",
       "    .dataframe thead th {\n",
       "        text-align: right;\n",
       "    }\n",
       "</style>\n",
       "<table border=\"1\" class=\"dataframe\">\n",
       "  <thead>\n",
       "    <tr style=\"text-align: right;\">\n",
       "      <th></th>\n",
       "      <th>A</th>\n",
       "      <th>B</th>\n",
       "      <th>C</th>\n",
       "      <th>D</th>\n",
       "      <th>E</th>\n",
       "      <th>F</th>\n",
       "      <th>G</th>\n",
       "      <th>H</th>\n",
       "      <th>I</th>\n",
       "      <th>J</th>\n",
       "    </tr>\n",
       "  </thead>\n",
       "  <tbody>\n",
       "    <tr>\n",
       "      <th>count</th>\n",
       "      <td>15.000000</td>\n",
       "      <td>15.000000</td>\n",
       "      <td>15.000000</td>\n",
       "      <td>15.000000</td>\n",
       "      <td>15.000000</td>\n",
       "      <td>15.000000</td>\n",
       "      <td>15.000000</td>\n",
       "      <td>15.000000</td>\n",
       "      <td>15.000000</td>\n",
       "      <td>15.000000</td>\n",
       "    </tr>\n",
       "    <tr>\n",
       "      <th>mean</th>\n",
       "      <td>0.508841</td>\n",
       "      <td>0.454861</td>\n",
       "      <td>0.491621</td>\n",
       "      <td>0.483953</td>\n",
       "      <td>0.569091</td>\n",
       "      <td>0.457803</td>\n",
       "      <td>0.567168</td>\n",
       "      <td>0.414390</td>\n",
       "      <td>0.366262</td>\n",
       "      <td>0.458342</td>\n",
       "    </tr>\n",
       "    <tr>\n",
       "      <th>std</th>\n",
       "      <td>0.259670</td>\n",
       "      <td>0.303845</td>\n",
       "      <td>0.300044</td>\n",
       "      <td>0.356835</td>\n",
       "      <td>0.258543</td>\n",
       "      <td>0.314593</td>\n",
       "      <td>0.300670</td>\n",
       "      <td>0.274035</td>\n",
       "      <td>0.309630</td>\n",
       "      <td>0.286062</td>\n",
       "    </tr>\n",
       "    <tr>\n",
       "      <th>min</th>\n",
       "      <td>0.185544</td>\n",
       "      <td>0.027784</td>\n",
       "      <td>0.006049</td>\n",
       "      <td>0.078678</td>\n",
       "      <td>0.147985</td>\n",
       "      <td>0.003974</td>\n",
       "      <td>0.094459</td>\n",
       "      <td>0.005979</td>\n",
       "      <td>0.002070</td>\n",
       "      <td>0.027105</td>\n",
       "    </tr>\n",
       "    <tr>\n",
       "      <th>25%</th>\n",
       "      <td>0.338405</td>\n",
       "      <td>0.239470</td>\n",
       "      <td>0.245752</td>\n",
       "      <td>0.137074</td>\n",
       "      <td>0.333240</td>\n",
       "      <td>0.149163</td>\n",
       "      <td>0.316756</td>\n",
       "      <td>0.248142</td>\n",
       "      <td>0.122029</td>\n",
       "      <td>0.255017</td>\n",
       "    </tr>\n",
       "    <tr>\n",
       "      <th>50%</th>\n",
       "      <td>0.419798</td>\n",
       "      <td>0.410829</td>\n",
       "      <td>0.500636</td>\n",
       "      <td>0.382354</td>\n",
       "      <td>0.720409</td>\n",
       "      <td>0.455146</td>\n",
       "      <td>0.567350</td>\n",
       "      <td>0.457340</td>\n",
       "      <td>0.249158</td>\n",
       "      <td>0.448573</td>\n",
       "    </tr>\n",
       "    <tr>\n",
       "      <th>75%</th>\n",
       "      <td>0.792101</td>\n",
       "      <td>0.694734</td>\n",
       "      <td>0.709041</td>\n",
       "      <td>0.874337</td>\n",
       "      <td>0.788089</td>\n",
       "      <td>0.699935</td>\n",
       "      <td>0.869297</td>\n",
       "      <td>0.565307</td>\n",
       "      <td>0.590999</td>\n",
       "      <td>0.614532</td>\n",
       "    </tr>\n",
       "    <tr>\n",
       "      <th>max</th>\n",
       "      <td>0.932360</td>\n",
       "      <td>0.973361</td>\n",
       "      <td>0.930115</td>\n",
       "      <td>0.964008</td>\n",
       "      <td>0.873012</td>\n",
       "      <td>0.966624</td>\n",
       "      <td>0.965286</td>\n",
       "      <td>0.961779</td>\n",
       "      <td>0.932257</td>\n",
       "      <td>0.998084</td>\n",
       "    </tr>\n",
       "  </tbody>\n",
       "</table>\n",
       "</div>"
      ],
      "text/plain": [
       "               A          B          C          D          E          F  \\\n",
       "count  15.000000  15.000000  15.000000  15.000000  15.000000  15.000000   \n",
       "mean    0.508841   0.454861   0.491621   0.483953   0.569091   0.457803   \n",
       "std     0.259670   0.303845   0.300044   0.356835   0.258543   0.314593   \n",
       "min     0.185544   0.027784   0.006049   0.078678   0.147985   0.003974   \n",
       "25%     0.338405   0.239470   0.245752   0.137074   0.333240   0.149163   \n",
       "50%     0.419798   0.410829   0.500636   0.382354   0.720409   0.455146   \n",
       "75%     0.792101   0.694734   0.709041   0.874337   0.788089   0.699935   \n",
       "max     0.932360   0.973361   0.930115   0.964008   0.873012   0.966624   \n",
       "\n",
       "               G          H          I          J  \n",
       "count  15.000000  15.000000  15.000000  15.000000  \n",
       "mean    0.567168   0.414390   0.366262   0.458342  \n",
       "std     0.300670   0.274035   0.309630   0.286062  \n",
       "min     0.094459   0.005979   0.002070   0.027105  \n",
       "25%     0.316756   0.248142   0.122029   0.255017  \n",
       "50%     0.567350   0.457340   0.249158   0.448573  \n",
       "75%     0.869297   0.565307   0.590999   0.614532  \n",
       "max     0.965286   0.961779   0.932257   0.998084  "
      ]
     },
     "execution_count": 137,
     "metadata": {},
     "output_type": "execute_result"
    }
   ],
   "source": [
    "multipletasa.describe()"
   ]
  },
  {
   "cell_type": "code",
   "execution_count": 142,
   "id": "fb9054fd",
   "metadata": {},
   "outputs": [
    {
     "data": {
      "text/html": [
       "<div>\n",
       "<style scoped>\n",
       "    .dataframe tbody tr th:only-of-type {\n",
       "        vertical-align: middle;\n",
       "    }\n",
       "\n",
       "    .dataframe tbody tr th {\n",
       "        vertical-align: top;\n",
       "    }\n",
       "\n",
       "    .dataframe thead th {\n",
       "        text-align: right;\n",
       "    }\n",
       "</style>\n",
       "<table border=\"1\" class=\"dataframe\">\n",
       "  <thead>\n",
       "    <tr style=\"text-align: right;\">\n",
       "      <th></th>\n",
       "      <th>A</th>\n",
       "      <th>B</th>\n",
       "      <th>C</th>\n",
       "      <th>D</th>\n",
       "      <th>E</th>\n",
       "      <th>F</th>\n",
       "      <th>G</th>\n",
       "      <th>H</th>\n",
       "      <th>I</th>\n",
       "      <th>J</th>\n",
       "    </tr>\n",
       "  </thead>\n",
       "  <tbody>\n",
       "    <tr>\n",
       "      <th>A</th>\n",
       "      <td>1.000000</td>\n",
       "      <td>0.061517</td>\n",
       "      <td>-0.263906</td>\n",
       "      <td>-0.684312</td>\n",
       "      <td>-0.247721</td>\n",
       "      <td>-0.195625</td>\n",
       "      <td>-0.461480</td>\n",
       "      <td>0.671543</td>\n",
       "      <td>0.065339</td>\n",
       "      <td>-0.322267</td>\n",
       "    </tr>\n",
       "    <tr>\n",
       "      <th>B</th>\n",
       "      <td>0.061517</td>\n",
       "      <td>1.000000</td>\n",
       "      <td>-0.213126</td>\n",
       "      <td>-0.142521</td>\n",
       "      <td>-0.468737</td>\n",
       "      <td>-0.323564</td>\n",
       "      <td>-0.196430</td>\n",
       "      <td>-0.093039</td>\n",
       "      <td>0.303289</td>\n",
       "      <td>-0.160006</td>\n",
       "    </tr>\n",
       "    <tr>\n",
       "      <th>C</th>\n",
       "      <td>-0.263906</td>\n",
       "      <td>-0.213126</td>\n",
       "      <td>1.000000</td>\n",
       "      <td>0.299436</td>\n",
       "      <td>0.054358</td>\n",
       "      <td>0.046832</td>\n",
       "      <td>-0.254642</td>\n",
       "      <td>0.017475</td>\n",
       "      <td>-0.581455</td>\n",
       "      <td>0.174802</td>\n",
       "    </tr>\n",
       "    <tr>\n",
       "      <th>D</th>\n",
       "      <td>-0.684312</td>\n",
       "      <td>-0.142521</td>\n",
       "      <td>0.299436</td>\n",
       "      <td>1.000000</td>\n",
       "      <td>-0.186179</td>\n",
       "      <td>0.432112</td>\n",
       "      <td>0.106675</td>\n",
       "      <td>-0.607091</td>\n",
       "      <td>-0.082941</td>\n",
       "      <td>0.114129</td>\n",
       "    </tr>\n",
       "    <tr>\n",
       "      <th>E</th>\n",
       "      <td>-0.247721</td>\n",
       "      <td>-0.468737</td>\n",
       "      <td>0.054358</td>\n",
       "      <td>-0.186179</td>\n",
       "      <td>1.000000</td>\n",
       "      <td>0.087694</td>\n",
       "      <td>0.438899</td>\n",
       "      <td>-0.225723</td>\n",
       "      <td>-0.230454</td>\n",
       "      <td>0.335208</td>\n",
       "    </tr>\n",
       "    <tr>\n",
       "      <th>F</th>\n",
       "      <td>-0.195625</td>\n",
       "      <td>-0.323564</td>\n",
       "      <td>0.046832</td>\n",
       "      <td>0.432112</td>\n",
       "      <td>0.087694</td>\n",
       "      <td>1.000000</td>\n",
       "      <td>0.097158</td>\n",
       "      <td>-0.310612</td>\n",
       "      <td>-0.009880</td>\n",
       "      <td>-0.263234</td>\n",
       "    </tr>\n",
       "    <tr>\n",
       "      <th>G</th>\n",
       "      <td>-0.461480</td>\n",
       "      <td>-0.196430</td>\n",
       "      <td>-0.254642</td>\n",
       "      <td>0.106675</td>\n",
       "      <td>0.438899</td>\n",
       "      <td>0.097158</td>\n",
       "      <td>1.000000</td>\n",
       "      <td>-0.461714</td>\n",
       "      <td>0.044682</td>\n",
       "      <td>0.421221</td>\n",
       "    </tr>\n",
       "    <tr>\n",
       "      <th>H</th>\n",
       "      <td>0.671543</td>\n",
       "      <td>-0.093039</td>\n",
       "      <td>0.017475</td>\n",
       "      <td>-0.607091</td>\n",
       "      <td>-0.225723</td>\n",
       "      <td>-0.310612</td>\n",
       "      <td>-0.461714</td>\n",
       "      <td>1.000000</td>\n",
       "      <td>-0.233467</td>\n",
       "      <td>-0.170199</td>\n",
       "    </tr>\n",
       "    <tr>\n",
       "      <th>I</th>\n",
       "      <td>0.065339</td>\n",
       "      <td>0.303289</td>\n",
       "      <td>-0.581455</td>\n",
       "      <td>-0.082941</td>\n",
       "      <td>-0.230454</td>\n",
       "      <td>-0.009880</td>\n",
       "      <td>0.044682</td>\n",
       "      <td>-0.233467</td>\n",
       "      <td>1.000000</td>\n",
       "      <td>-0.357744</td>\n",
       "    </tr>\n",
       "    <tr>\n",
       "      <th>J</th>\n",
       "      <td>-0.322267</td>\n",
       "      <td>-0.160006</td>\n",
       "      <td>0.174802</td>\n",
       "      <td>0.114129</td>\n",
       "      <td>0.335208</td>\n",
       "      <td>-0.263234</td>\n",
       "      <td>0.421221</td>\n",
       "      <td>-0.170199</td>\n",
       "      <td>-0.357744</td>\n",
       "      <td>1.000000</td>\n",
       "    </tr>\n",
       "  </tbody>\n",
       "</table>\n",
       "</div>"
      ],
      "text/plain": [
       "          A         B         C         D         E         F         G  \\\n",
       "A  1.000000  0.061517 -0.263906 -0.684312 -0.247721 -0.195625 -0.461480   \n",
       "B  0.061517  1.000000 -0.213126 -0.142521 -0.468737 -0.323564 -0.196430   \n",
       "C -0.263906 -0.213126  1.000000  0.299436  0.054358  0.046832 -0.254642   \n",
       "D -0.684312 -0.142521  0.299436  1.000000 -0.186179  0.432112  0.106675   \n",
       "E -0.247721 -0.468737  0.054358 -0.186179  1.000000  0.087694  0.438899   \n",
       "F -0.195625 -0.323564  0.046832  0.432112  0.087694  1.000000  0.097158   \n",
       "G -0.461480 -0.196430 -0.254642  0.106675  0.438899  0.097158  1.000000   \n",
       "H  0.671543 -0.093039  0.017475 -0.607091 -0.225723 -0.310612 -0.461714   \n",
       "I  0.065339  0.303289 -0.581455 -0.082941 -0.230454 -0.009880  0.044682   \n",
       "J -0.322267 -0.160006  0.174802  0.114129  0.335208 -0.263234  0.421221   \n",
       "\n",
       "          H         I         J  \n",
       "A  0.671543  0.065339 -0.322267  \n",
       "B -0.093039  0.303289 -0.160006  \n",
       "C  0.017475 -0.581455  0.174802  \n",
       "D -0.607091 -0.082941  0.114129  \n",
       "E -0.225723 -0.230454  0.335208  \n",
       "F -0.310612 -0.009880 -0.263234  \n",
       "G -0.461714  0.044682  0.421221  \n",
       "H  1.000000 -0.233467 -0.170199  \n",
       "I -0.233467  1.000000 -0.357744  \n",
       "J -0.170199 -0.357744  1.000000  "
      ]
     },
     "execution_count": 142,
     "metadata": {},
     "output_type": "execute_result"
    }
   ],
   "source": [
    "multipletasa.corr()"
   ]
  },
  {
   "cell_type": "code",
   "execution_count": 153,
   "id": "68471194",
   "metadata": {},
   "outputs": [
    {
     "data": {
      "text/plain": [
       "A   -1.391715\n",
       "B   -1.041825\n",
       "C   -1.050166\n",
       "D   -1.796923\n",
       "E   -1.539203\n",
       "F   -1.261588\n",
       "G   -1.255948\n",
       "H   -0.287759\n",
       "I   -0.944418\n",
       "J   -0.332552\n",
       "dtype: float64"
      ]
     },
     "execution_count": 153,
     "metadata": {},
     "output_type": "execute_result"
    }
   ],
   "source": [
    "multipletasa.kurtosis() #es decir, todas son platicúrticas (curva aplanada)"
   ]
  },
  {
   "cell_type": "code",
   "execution_count": 161,
   "id": "f776b608",
   "metadata": {},
   "outputs": [
    {
     "name": "stdout",
     "output_type": "stream",
     "text": [
      "\n",
      "Please wait a moment while I gather a list of all available modules...\n",
      "\n"
     ]
    },
    {
     "name": "stderr",
     "output_type": "stream",
     "text": [
      "WARNING: AstropyDeprecationWarning: The private astropy._erfa module has been made into its own package, pyerfa, which is a dependency of astropy and can be imported directly using \"import erfa\" [astropy._erfa]\n",
      "C:\\Users\\kevin\\Dropbox\\Python 3.9\\lib\\site-packages\\nltk\\twitter\\__init__.py:20: UserWarning: The twython library has not been installed. Some functionality from the twitter package will not be available.\n",
      "  warnings.warn(\n",
      "C:\\Users\\kevin\\Dropbox\\Python 3.9\\lib\\site-packages\\_distutils_hack\\__init__.py:30: UserWarning: Setuptools is replacing distutils.\n",
      "  warnings.warn(\"Setuptools is replacing distutils.\")\n"
     ]
    },
    {
     "name": "stdout",
     "output_type": "stream",
     "text": [
      "Update LANGUAGE_CODES (inside config/base.py) if a new translation has been added to Spyder\n"
     ]
    },
    {
     "name": "stderr",
     "output_type": "stream",
     "text": [
      "No QCoreApplication instance found. Application patches not applied. You have to call load_stylesheet function after instantiation of QApplication to take effect. \n",
      "C:\\Users\\kevin\\Dropbox\\Python 3.9\\lib\\pkgutil.py:108: VisibleDeprecationWarning:\n",
      "\n",
      "zmq.eventloop.minitornado is deprecated in pyzmq 14.0 and will be removed.\n",
      "    Install tornado itself to use zmq with the tornado IOLoop.\n",
      "    \n",
      "\n"
     ]
    },
    {
     "name": "stdout",
     "output_type": "stream",
     "text": [
      "Cython              colorsys            mmapfile            sndhdr\n",
      "IPython             commctrl            mmsystem            sniffio\n",
      "OpenSSL             compileall          mock                snowballstemmer\n",
      "PIL                 comtypes            modulefinder        socket\n",
      "PyQt5               concurrent          mpmath              socketserver\n",
      "TBB                 conda               msgpack             socks\n",
      "__future__          conda_build         msilib              sockshandler\n",
      "_abc                conda_content_trust msvcrt              sortedcollections\n",
      "_aix_support        conda_env           multidict           sortedcontainers\n",
      "_argon2_cffi_bindings conda_pack          multipledispatch    soupsieve\n",
      "_ast                conda_package_handling multiprocessing     sphinx\n",
      "_asyncio            conda_token         munkres             spyder\n",
      "_bisect             conda_verify        mypy_extensions     spyder_kernels\n",
      "_black_version      configparser        nacl                sqlalchemy\n",
      "_blake2             constantly          navigator_updater   sqlite3\n",
      "_bootlocale         contextlib          nbclassic           sre_compile\n",
      "_bootsubprocess     contextvars         nbclient            sre_constants\n",
      "_bz2                cookiecutter        nbconvert           sre_parse\n",
      "_cffi_backend       copy                nbformat            ssl\n",
      "_codecs             copyreg             nest_asyncio        sspi\n",
      "_codecs_cn          crypt               netbios             sspicon\n",
      "_codecs_hk          cryptography        netrc               stack_data\n",
      "_codecs_iso2022     cssselect           networkx            stat\n",
      "_codecs_jp          csv                 nltk                statistics\n",
      "_codecs_kr          ctypes              nntplib             statsmodels\n",
      "_codecs_tw          curl                nose                string\n",
      "_collections        curses              notebook            stringprep\n",
      "_collections_abc    cwp                 nt                  struct\n",
      "_compat_pickle      cycler              ntpath              subprocess\n",
      "_compression        cython              ntsecuritycon       sunau\n",
      "_contextvars        cytoolz             nturl2path          symbol\n",
      "_csv                daal4py             numba               sympy\n",
      "_ctypes             dask                numbergen           symtable\n",
      "_ctypes_test        dataclasses         numbers             sys\n",
      "_datetime           datashader          numexpr             sysconfig\n",
      "_decimal            datashape           numpy               tables\n",
      "_distutils_hack     datetime            numpy_financial     tabnanny\n",
      "_elementtree        dateutil            numpydoc            tabulate\n",
      "_functools          dbi                 odbc                tarfile\n",
      "_hashlib            dbm                 olefile             tbb\n",
      "_heapq              dde                 onedal              tblib\n",
      "_imp                debugpy             opcode              telnetlib\n",
      "_io                 decimal             openpyxl            tempfile\n",
      "_json               decorator           operator            tenacity\n",
      "_locale             defusedxml          optparse            terminado\n",
      "_lsprof             diff_match_patch    os                  test\n",
      "_lzma               difflib             packaging           test_pycosat\n",
      "_markupbase         dis                 pandas              testpath\n",
      "_md5                distributed         pandocfilters       text_unidecode\n",
      "_msi                distutils           panel               textdistance\n",
      "_multibytecodec     doctest             param               textwrap\n",
      "_multiprocessing    docutils            paramiko            this\n",
      "_nsis               email               parsel              threading\n",
      "_opcode             encodings           parser              threadpoolctl\n",
      "_operator           ensurepip           parso               three_merge\n",
      "_osx_support        entrypoints         partd               tifffile\n",
      "_overlapped         enum                past                time\n",
      "_peg_parser         erfa                pathlib             timeit\n",
      "_pickle             errno               pathspec            timer\n",
      "_plotly_future_     et_xmlfile          patsy               tinycss\n",
      "_plotly_utils       executing           pdb                 tkinter\n",
      "_py_abc             fastjsonschema      pep8                tldextract\n",
      "_pydecimal          faulthandler        perfmon             tlz\n",
      "_pyio               filecmp             pexpect             token\n",
      "_pyrsistent_version fileinput           pickle              tokenize\n",
      "_pytest             filelock            pickleshare         toml\n",
      "_queue              flake8              pickletools         tomli\n",
      "_random             flask               pip                 toolz\n",
      "_sha1               fnmatch             pipes               tornado\n",
      "_sha256             fontTools           pkg_resources       tqdm\n",
      "_sha3               formatter           pkginfo             trace\n",
      "_sha512             fractions           pkgutil             traceback\n",
      "_signal             frozenlist          platform            tracemalloc\n",
      "_sitebuiltins       fsspec              plistlib            traitlets\n",
      "_socket             ftplib              plotly              tty\n",
      "_sqlite3            functools           pluggy              turtle\n",
      "_sre                future              poplib              turtledemo\n",
      "_ssl                gc                  posixpath           twisted\n",
      "_stat               genericpath         poyo                typed_ast\n",
      "_statistics         gensim              pprint              types\n",
      "_string             getopt              profile             typing\n",
      "_strptime           getpass             prometheus_client   typing_extensions\n",
      "_struct             gettext             prompt_toolkit      ujson\n",
      "_symtable           glob                protego             unicodedata\n",
      "_system_path        glob2               pstats              unidecode\n",
      "_testbuffer         google_crc32c       psutil              unittest\n",
      "_testcapi           graphlib            pty                 urllib\n",
      "_testconsole        greenlet            ptyprocess          urllib3\n",
      "_testimportmultiple grpc                pure_eval           uu\n",
      "_testinternalcapi   gzip                pvectorc            uuid\n",
      "_testmultiphase     h5py                py                  venv\n",
      "_thread             hamcrest            py_compile          w3lib\n",
      "_threading_local    hashlib             pyasn1              warnings\n",
      "_tkinter            heapdict            pyasn1_modules      watchdog\n",
      "_tracemalloc        heapq               pyclbr              wave\n",
      "_uuid               hmac                pycodestyle         wcwidth\n",
      "_warnings           holoviews           pycosat             weakref\n",
      "_weakref            html                pycparser           webbrowser\n",
      "_weakrefset         http                pyct                webencodings\n",
      "_win32sysloader     hvplot              pycurl              websocket\n",
      "_winapi             hyperlink           pydispatch          werkzeug\n",
      "_winxptheme         idlelib             pydoc               wheel\n",
      "_xxsubinterpreters  idna                pydoc_data          widgetsnbextension\n",
      "_yaml               imagecodecs         pydocstyle          win2kras\n",
      "_zoneinfo           imageio             pyexpat             win32api\n",
      "abc                 imagesize           pyflakes            win32clipboard\n",
      "adodbapi            imaplib             pygments            win32com\n",
      "afxres              imghdr              pylab               win32con\n",
      "aifc                imp                 pylint              win32console\n",
      "aiohttp             importlib           pyls_spyder         win32cred\n",
      "aiosignal           importlib_metadata  pylsp               win32crypt\n",
      "alabaster           incremental         pylsp_black         win32cryptcon\n",
      "anaconda_navigator  inflection          pylsp_jsonrpc       win32ctypes\n",
      "anaconda_project    iniconfig           pyodbc              win32event\n",
      "antigravity         inspect             pyparsing           win32evtlog\n",
      "anyio               intake              pyreadline          win32evtlogutil\n",
      "appdirs             intervaltree        pyrsistent          win32file\n",
      "argon2              io                  pytest              win32gui\n",
      "argparse            ipaddress           pythoncom           win32gui_struct\n",
      "array               ipykernel           pytz                win32help\n",
      "arrow               ipykernel_launcher  pyviz_comms         win32inet\n",
      "ast                 ipython_genutils    pywin               win32inetcon\n",
      "astroid             ipywidgets          pywin32_bootstrap   win32job\n",
      "astropy             isapi               pywin32_testutil    win32lz\n",
      "asttokens           isort               pywintypes          win32net\n",
      "async_timeout       isympy              pywt                win32netcon\n",
      "asynchat            itemadapter         pyximport           win32pdh\n",
      "asyncio             itemloaders         qdarkstyle          win32pdhquery\n",
      "asyncore            itertools           qstylizer           win32pdhutil\n",
      "atexit              itsdangerous        qtawesome           win32pipe\n",
      "atomicwrites        jdcal               qtconsole           win32print\n",
      "attr                jedi                qtpy                win32process\n",
      "attrs               jinja2              queue               win32profile\n",
      "audioop             jinja2_time         queuelib            win32ras\n",
      "automat             jmespath            quopri              win32rcparser\n",
      "autopep8            joblib              random              win32security\n",
      "babel               json                rasutil             win32service\n",
      "backcall            json5               re                  win32serviceutil\n",
      "backports           jsonschema          readline            win32timezone\n",
      "base64              jupyter             regcheck            win32trace\n",
      "bcrypt              jupyter_client      regex               win32traceutil\n",
      "bdb                 jupyter_console     regutil             win32transaction\n",
      "binaryornot         jupyter_core        repo_cli            win32ts\n",
      "binascii            jupyter_server      reprlib             win32ui\n",
      "binhex              jupyterlab          requests            win32uiole\n",
      "binstar_client      jupyterlab_plotly   requests_file       win32verstamp\n",
      "bisect              jupyterlab_pygments rlcompleter         win32wnet\n",
      "bitarray            jupyterlab_server   rope                win_inet_pton\n",
      "bkcharts            jupyterlab_widgets  rsa                 win_unicode_console\n",
      "black               jwt                 rtree               wincertstore\n",
      "blackd              keyring             ruamel_yaml         winerror\n",
      "bleach              keyword             run                 winioctlcon\n",
      "blib2to3            kiwisolver          runpy               winnt\n",
      "bokeh               lazy_object_proxy   s3transfer          winperf\n",
      "boto3               lib2to3             sched               winpty\n",
      "botocore            libarchive          scipy               winreg\n",
      "bottleneck          libfuturize         scrapy              winsound\n",
      "brotli              libpasteurize       seaborn             winxpgui\n",
      "bs4                 lief                secrets             winxptheme\n",
      "builtins            linecache           select              wrapt\n",
      "bz2                 llvmlite            selectors           wsgiref\n",
      "cProfile            locale              send2trash          xarray\n",
      "cachetools          locket              service_identity    xdrlib\n",
      "calendar            logging             servicemanager      xlrd\n",
      "certifi             lxml                setuptools          xlsxwriter\n",
      "cffi                lzma                shelve              xlwings\n",
      "cgi                 mailbox             shlex               xml\n",
      "cgitb               mailcap             shutil              xmlrpc\n",
      "chardet             markdown            signal              xxsubtype\n",
      "charset_normalizer  markupsafe          sip                 yaml\n",
      "chunk               marshal             sipconfig           yapf\n",
      "click               math                sipdistutils        yapftests\n",
      "cloudpickle         matplotlib          site                yarl\n",
      "clyent              matplotlib_inline   six                 zict\n",
      "cmath               mccabe              skimage             zipapp\n",
      "cmd                 menuinst            sklearn             zipfile\n",
      "code                mimetypes           sklearnex           zipimport\n",
      "codecs              mistune             slugify             zipp\n",
      "codeop              mkl                 smart_open          zlib\n",
      "collections         mkl_fft             smtpd               zmq\n",
      "colorama            mkl_random          smtplib             zoneinfo\n",
      "colorcet            mmap                snappy              zope\n",
      "\n",
      "Enter any module name to get more help.  Or, type \"modules spam\" to search\n",
      "for modules whose name or summary contain the string \"spam\".\n",
      "\n"
     ]
    }
   ],
   "source": [
    "help(\"modules\") #ver los modulos que tienes instalados"
   ]
  },
  {
   "cell_type": "code",
   "execution_count": 175,
   "id": "1ba1dc17",
   "metadata": {},
   "outputs": [],
   "source": [
    "import statsmodels as sm\n",
    "import matplotlib.pyplot as plt\n",
    "import seaborn as sns"
   ]
  },
  {
   "cell_type": "markdown",
   "id": "dc74d509",
   "metadata": {},
   "source": [
    "   El siguiente ciclo es el *for*, que se utiliza para iterar sobre listas, tuplas, conjuntos o diccionarios. Veámos estos tipos de datos:"
   ]
  },
  {
   "cell_type": "code",
   "execution_count": 5,
   "id": "17005c92",
   "metadata": {},
   "outputs": [
    {
     "data": {
      "text/plain": [
       "[1, 2, 3, 4, 5, 6, 7, 8]"
      ]
     },
     "execution_count": 5,
     "metadata": {},
     "output_type": "execute_result"
    }
   ],
   "source": [
    "list(range(1,9)) #lista en un rango"
   ]
  },
  {
   "cell_type": "code",
   "execution_count": 30,
   "id": "03432df3",
   "metadata": {},
   "outputs": [
    {
     "data": {
      "text/plain": [
       "[1, 2, 3]"
      ]
     },
     "execution_count": 30,
     "metadata": {},
     "output_type": "execute_result"
    }
   ],
   "source": [
    "list([1,2,3]) #lista para números específicos"
   ]
  },
  {
   "cell_type": "code",
   "execution_count": 32,
   "id": "bdbafea4",
   "metadata": {},
   "outputs": [],
   "source": [
    "listaa=[\"Ana\",\"Juan\", \"Gloria\"]"
   ]
  },
  {
   "cell_type": "code",
   "execution_count": 33,
   "id": "2ae25290",
   "metadata": {},
   "outputs": [
    {
     "data": {
      "text/plain": [
       "['Ana', 'Juan', 'Gloria']"
      ]
     },
     "execution_count": 33,
     "metadata": {},
     "output_type": "execute_result"
    }
   ],
   "source": [
    "listaa"
   ]
  },
  {
   "cell_type": "code",
   "execution_count": 19,
   "id": "9731a602",
   "metadata": {},
   "outputs": [],
   "source": [
    "lista=list([\"Ana\",\"Juan\", \"Gloria\"]) #diferentes caracteres"
   ]
  },
  {
   "cell_type": "code",
   "execution_count": 22,
   "id": "64a13be1",
   "metadata": {},
   "outputs": [
    {
     "name": "stdout",
     "output_type": "stream",
     "text": [
      "Ana Juan\n"
     ]
    }
   ],
   "source": [
    "print(lista[0], lista[1]) #imprimir el elemento que deseamos"
   ]
  },
  {
   "cell_type": "code",
   "execution_count": 23,
   "id": "f00270d3",
   "metadata": {},
   "outputs": [
    {
     "data": {
      "text/plain": [
       "['Ana', 'Juan', 'Gloria']"
      ]
     },
     "execution_count": 23,
     "metadata": {},
     "output_type": "execute_result"
    }
   ],
   "source": [
    "lista"
   ]
  },
  {
   "cell_type": "markdown",
   "id": "21df7df7",
   "metadata": {},
   "source": [
    "Tuplas"
   ]
  },
  {
   "cell_type": "code",
   "execution_count": 34,
   "id": "5ace4d40",
   "metadata": {},
   "outputs": [
    {
     "data": {
      "text/plain": [
       "(1, 4, 5)"
      ]
     },
     "execution_count": 34,
     "metadata": {},
     "output_type": "execute_result"
    }
   ],
   "source": [
    "tuple([1,4,5]) #aquí una tupla."
   ]
  },
  {
   "cell_type": "code",
   "execution_count": 36,
   "id": "6a8340d2",
   "metadata": {},
   "outputs": [],
   "source": [
    "tupla=(1,4,5)"
   ]
  },
  {
   "cell_type": "code",
   "execution_count": 40,
   "id": "bf8ef1f2",
   "metadata": {},
   "outputs": [
    {
     "name": "stdout",
     "output_type": "stream",
     "text": [
      "4\n"
     ]
    }
   ],
   "source": [
    "print(tupla[1])"
   ]
  },
  {
   "cell_type": "code",
   "execution_count": 27,
   "id": "5c64be09",
   "metadata": {},
   "outputs": [
    {
     "data": {
      "text/plain": [
       "('Ana', 1, 2)"
      ]
     },
     "execution_count": 27,
     "metadata": {},
     "output_type": "execute_result"
    }
   ],
   "source": [
    "tuple([\"Ana\",1,2]) #notar que lista \"[]\" y tupla \"()\" "
   ]
  },
  {
   "cell_type": "markdown",
   "id": "f38a7b00",
   "metadata": {},
   "source": [
    "Ahora conjuntos"
   ]
  },
  {
   "cell_type": "code",
   "execution_count": 45,
   "id": "2b40ab69",
   "metadata": {},
   "outputs": [],
   "source": [
    "conjunto = set([1,1,2,3,4,5,5,5,0,0])"
   ]
  },
  {
   "cell_type": "code",
   "execution_count": 52,
   "id": "39d3aee8",
   "metadata": {},
   "outputs": [
    {
     "data": {
      "text/plain": [
       "{0, 1, 2, 3, 4, 5}"
      ]
     },
     "execution_count": 52,
     "metadata": {},
     "output_type": "execute_result"
    }
   ],
   "source": [
    "conjunto #notar que no se repiten los números y los ordena logicamente, no como se escriben"
   ]
  },
  {
   "cell_type": "code",
   "execution_count": 54,
   "id": "dc30858a",
   "metadata": {},
   "outputs": [
    {
     "ename": "TypeError",
     "evalue": "'set' object is not subscriptable",
     "output_type": "error",
     "traceback": [
      "\u001b[1;31m---------------------------------------------------------------------------\u001b[0m",
      "\u001b[1;31mTypeError\u001b[0m                                 Traceback (most recent call last)",
      "Input \u001b[1;32mIn [54]\u001b[0m, in \u001b[0;36m<cell line: 1>\u001b[1;34m()\u001b[0m\n\u001b[1;32m----> 1\u001b[0m \u001b[38;5;28mprint\u001b[39m(\u001b[43mconjunto\u001b[49m\u001b[43m[\u001b[49m\u001b[38;5;241;43m2\u001b[39;49m\u001b[43m]\u001b[49m)\n",
      "\u001b[1;31mTypeError\u001b[0m: 'set' object is not subscriptable"
     ]
    }
   ],
   "source": [
    "print(conjunto[2]) #y no se puede imprimir en orden deseado"
   ]
  },
  {
   "cell_type": "markdown",
   "id": "6686832e",
   "metadata": {},
   "source": [
    "diccionarios"
   ]
  },
  {
   "cell_type": "code",
   "execution_count": 69,
   "id": "d9758bfc",
   "metadata": {},
   "outputs": [],
   "source": [
    "diccionario= dict({'Ana':1, 'Juan': 2, 'Gloria':3}) #el diccionario funciona como un mapeo de funciones"
   ]
  },
  {
   "cell_type": "code",
   "execution_count": 68,
   "id": "087cfbdc",
   "metadata": {},
   "outputs": [
    {
     "data": {
      "text/plain": [
       "{'Ana': 1, 'Juan': 2, 'Gloria': 3}"
      ]
     },
     "execution_count": 68,
     "metadata": {},
     "output_type": "execute_result"
    }
   ],
   "source": [
    "diccionario"
   ]
  },
  {
   "cell_type": "code",
   "execution_count": 73,
   "id": "89b9ab9b",
   "metadata": {},
   "outputs": [
    {
     "name": "stdout",
     "output_type": "stream",
     "text": [
      "0\n",
      "1\n",
      "2\n",
      "3\n",
      "4\n"
     ]
    }
   ],
   "source": [
    "for t in range(0,5):\n",
    "    print (t)"
   ]
  },
  {
   "cell_type": "code",
   "execution_count": 77,
   "id": "0440b359",
   "metadata": {},
   "outputs": [
    {
     "name": "stdout",
     "output_type": "stream",
     "text": [
      "0\n",
      "1\n",
      "2\n",
      "3\n",
      "4\n"
     ]
    }
   ],
   "source": [
    "for u in range(5): #notar que es lo mismo porque el rango inicia en 0 por defecto\n",
    "    print(u)\n"
   ]
  },
  {
   "cell_type": "code",
   "execution_count": 80,
   "id": "70fb267b",
   "metadata": {},
   "outputs": [
    {
     "name": "stdout",
     "output_type": "stream",
     "text": [
      "Ana\n",
      "Juan\n",
      "Gloria\n"
     ]
    }
   ],
   "source": [
    "for x in lista: #recordar \"lista\"\n",
    "    print(x) "
   ]
  },
  {
   "cell_type": "code",
   "execution_count": 83,
   "id": "98d8d56c",
   "metadata": {},
   "outputs": [
    {
     "data": {
      "text/plain": [
       "['Ana', 'Juan', 'Gloria']"
      ]
     },
     "execution_count": 83,
     "metadata": {},
     "output_type": "execute_result"
    }
   ],
   "source": [
    "lista "
   ]
  },
  {
   "cell_type": "code",
   "execution_count": 86,
   "id": "0cbc3453",
   "metadata": {},
   "outputs": [
    {
     "name": "stdout",
     "output_type": "stream",
     "text": [
      "A\n",
      "n\n",
      "a\n"
     ]
    }
   ],
   "source": [
    "for x in \"Ana\": #arroja secuencia de caracteres\n",
    "    print(x)"
   ]
  },
  {
   "cell_type": "code",
   "execution_count": 95,
   "id": "5661acd5",
   "metadata": {},
   "outputs": [
    {
     "name": "stdout",
     "output_type": "stream",
     "text": [
      "Ana\n",
      "Juan\n"
     ]
    }
   ],
   "source": [
    "for x in lista: \n",
    "    print(x)\n",
    "    if x == \"Juan\":\n",
    "        break  #recorrer el elemento hasta que se encuentre con el elemento de la condicion if"
   ]
  },
  {
   "cell_type": "code",
   "execution_count": 108,
   "id": "d6106140",
   "metadata": {},
   "outputs": [
    {
     "name": "stdout",
     "output_type": "stream",
     "text": [
      "Ana\n",
      "Juan\n",
      "Gloria\n"
     ]
    }
   ],
   "source": [
    "for x in lista:\n",
    "    print(x)\n",
    "    if x==\"Anaaa\": #si el valor no existe el if no existe\n",
    "        break"
   ]
  },
  {
   "cell_type": "code",
   "execution_count": 112,
   "id": "88e3f832",
   "metadata": {},
   "outputs": [
    {
     "name": "stdout",
     "output_type": "stream",
     "text": [
      "Ana\n"
     ]
    }
   ],
   "source": [
    "for x in lista:\n",
    "    if x==\"Juan\":\n",
    "        break\n",
    "    print(x) #parar un valor antes"
   ]
  },
  {
   "cell_type": "code",
   "execution_count": 116,
   "id": "3fe8aeb1",
   "metadata": {},
   "outputs": [
    {
     "name": "stdout",
     "output_type": "stream",
     "text": [
      "Ana\n",
      "Gloria\n"
     ]
    }
   ],
   "source": [
    "for x in lista:\n",
    "    if x==\"Juan\":\n",
    "        continue #parte del if y da vuelta al ciclo sin regresar al valor\n",
    "    print(x) \n",
    "    \n"
   ]
  },
  {
   "cell_type": "code",
   "execution_count": 118,
   "id": "64874d47",
   "metadata": {},
   "outputs": [
    {
     "name": "stdout",
     "output_type": "stream",
     "text": [
      "1\n",
      "4\n",
      "7\n"
     ]
    }
   ],
   "source": [
    "for w in range(1,10,3): #rango y número del salto\n",
    "    print(w)\n"
   ]
  },
  {
   "cell_type": "code",
   "execution_count": 120,
   "id": "3cf5d120",
   "metadata": {},
   "outputs": [
    {
     "name": "stdout",
     "output_type": "stream",
     "text": [
      "1\n",
      "3\n",
      "5\n",
      "7\n",
      "9\n",
      "11\n",
      "13\n",
      "15\n",
      "17\n",
      "19\n",
      "Finalizamos\n"
     ]
    }
   ],
   "source": [
    "for t in range(1,20,2):\n",
    "    print(t)\n",
    "else: #además imprimir \"finalizamos\"\n",
    "    print(\"Finalizamos\")"
   ]
  },
  {
   "cell_type": "code",
   "execution_count": 138,
   "id": "0be8301e",
   "metadata": {},
   "outputs": [
    {
     "name": "stdout",
     "output_type": "stream",
     "text": [
      "1\n",
      "3\n",
      "5\n",
      "7\n",
      "9\n"
     ]
    }
   ],
   "source": [
    "for k in range(1,20,2):\n",
    "    print(k)   \n",
    "    if k == 9:\n",
    "        break "
   ]
  },
  {
   "cell_type": "code",
   "execution_count": 142,
   "id": "99cc6f8d",
   "metadata": {},
   "outputs": [
    {
     "name": "stdout",
     "output_type": "stream",
     "text": [
      "1\n",
      "3\n",
      "5\n",
      "7\n"
     ]
    }
   ],
   "source": [
    "for k in range(1,20,2):\n",
    "    if k==9: #parar en 9 antes, o sea, 7\n",
    "        break\n",
    "    print(k)"
   ]
  },
  {
   "cell_type": "code",
   "execution_count": 107,
   "id": "2b669487",
   "metadata": {},
   "outputs": [
    {
     "name": "stdout",
     "output_type": "stream",
     "text": [
      "0\n",
      "1\n",
      "2\n",
      "3\n",
      "4\n",
      "5\n",
      "6\n",
      "7\n"
     ]
    }
   ],
   "source": [
    "\n",
    "for x in range(10):\n",
    "    print(x)\n",
    "    if x==7:\n",
    "        break"
   ]
  },
  {
   "cell_type": "code",
   "execution_count": 144,
   "id": "c8a478fb",
   "metadata": {},
   "outputs": [
    {
     "name": "stdout",
     "output_type": "stream",
     "text": [
      "0\n",
      "1\n",
      "2\n"
     ]
    }
   ],
   "source": [
    "for e in range(7):\n",
    "    if e==3:\n",
    "        break\n",
    "    print(e)\n",
    "else: #no hay else con break\n",
    "    print(\"Ya\")"
   ]
  },
  {
   "cell_type": "markdown",
   "id": "d0ce1e88",
   "metadata": {},
   "source": [
    "Nested loop"
   ]
  },
  {
   "cell_type": "code",
   "execution_count": 148,
   "id": "d9be9a65",
   "metadata": {},
   "outputs": [
    {
     "name": "stdout",
     "output_type": "stream",
     "text": [
      "['Honda', 'VW', 'Seat'] ['amarillo', 'azul', 'verde']\n"
     ]
    }
   ],
   "source": [
    "Carro= [\"Honda\", \"VW\",\"Seat\"]\n",
    "Color=[\"amarillo\", \"azul\", \"verde\"]\n",
    "print(Carro, Color)"
   ]
  },
  {
   "cell_type": "code",
   "execution_count": 154,
   "id": "dcc98d49",
   "metadata": {},
   "outputs": [
    {
     "name": "stdout",
     "output_type": "stream",
     "text": [
      "Honda amarillo\n",
      "Honda azul\n",
      "Honda verde\n",
      "VW amarillo\n",
      "VW azul\n",
      "VW verde\n",
      "Seat amarillo\n",
      "Seat azul\n",
      "Seat verde\n"
     ]
    }
   ],
   "source": [
    "for x in Carro:\n",
    "    for y in Color:\n",
    "        print(x,y) #que es como un producto cartesiano\n"
   ]
  },
  {
   "cell_type": "code",
   "execution_count": 100,
   "id": "1992dd93",
   "metadata": {},
   "outputs": [
    {
     "data": {
      "text/plain": [
       "((True, False), [True, False])"
      ]
     },
     "execution_count": 100,
     "metadata": {},
     "output_type": "execute_result"
    }
   ],
   "source": [
    "(2==2,2==5), [2==2,2==5] #tupla y lista "
   ]
  },
  {
   "cell_type": "markdown",
   "id": "4ae78b44",
   "metadata": {},
   "source": []
  }
 ],
 "metadata": {
  "kernelspec": {
   "display_name": "Python 3 (ipykernel)",
   "language": "python",
   "name": "python3"
  },
  "language_info": {
   "codemirror_mode": {
    "name": "ipython",
    "version": 3
   },
   "file_extension": ".py",
   "mimetype": "text/x-python",
   "name": "python",
   "nbconvert_exporter": "python",
   "pygments_lexer": "ipython3",
   "version": "3.9.12"
  }
 },
 "nbformat": 4,
 "nbformat_minor": 5
}
