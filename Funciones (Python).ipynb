{
 "cells": [
  {
   "cell_type": "markdown",
   "id": "76a4d584",
   "metadata": {},
   "source": [
    "Creando funciones:"
   ]
  },
  {
   "cell_type": "code",
   "execution_count": 3,
   "id": "98a12ed8",
   "metadata": {},
   "outputs": [],
   "source": [
    "def funcion (): #sin parametros\n",
    "    print(\"Aquí una función\")"
   ]
  },
  {
   "cell_type": "code",
   "execution_count": 6,
   "id": "40c87d61",
   "metadata": {},
   "outputs": [
    {
     "name": "stdout",
     "output_type": "stream",
     "text": [
      "Aquí una función\n"
     ]
    }
   ],
   "source": [
    "funcion()"
   ]
  },
  {
   "cell_type": "code",
   "execution_count": 23,
   "id": "1500ecb3",
   "metadata": {},
   "outputs": [],
   "source": [
    "def nombre(nombre):\n",
    "    print(nombre + \" faltan apellidos\")"
   ]
  },
  {
   "cell_type": "code",
   "execution_count": 25,
   "id": "46081207",
   "metadata": {},
   "outputs": [
    {
     "name": "stdout",
     "output_type": "stream",
     "text": [
      "Ariel faltan apellidos\n"
     ]
    }
   ],
   "source": [
    "nombre(\"Ariel\")"
   ]
  },
  {
   "cell_type": "code",
   "execution_count": 29,
   "id": "f176df65",
   "metadata": {},
   "outputs": [],
   "source": [
    "def nombrecompleto(nombre, apellido):\n",
    "    print(nombre+ \" \"+ apellido)"
   ]
  },
  {
   "cell_type": "code",
   "execution_count": 31,
   "id": "75fbf374",
   "metadata": {},
   "outputs": [
    {
     "name": "stdout",
     "output_type": "stream",
     "text": [
      "Ariel Aguilar\n"
     ]
    }
   ],
   "source": [
    "nombrecompleto(\"Ariel\",\"Aguilar\")"
   ]
  },
  {
   "cell_type": "code",
   "execution_count": 37,
   "id": "8e739aee",
   "metadata": {},
   "outputs": [],
   "source": [
    "def nombres(*nombres): #número de argumentos desconocidos pero se imprime el que se menciona en nombres[]\n",
    "    print(\"Tu primer nombre es \" + nombres[0])"
   ]
  },
  {
   "cell_type": "code",
   "execution_count": 39,
   "id": "56f71f69",
   "metadata": {},
   "outputs": [
    {
     "name": "stdout",
     "output_type": "stream",
     "text": [
      "Tu primer nombre es Virgilio\n"
     ]
    }
   ],
   "source": [
    "nombres(\"Virgilio\", \"Sanchez\", \"Pérez\")"
   ]
  },
  {
   "cell_type": "code",
   "execution_count": 51,
   "id": "c4eba030",
   "metadata": {},
   "outputs": [],
   "source": [
    "def colores(**color): #son desconocidos los nombres de los argumentos\n",
    "    print(\"El color deseado es \" + color[\"colores\"])"
   ]
  },
  {
   "cell_type": "code",
   "execution_count": 52,
   "id": "6edfe8fa",
   "metadata": {},
   "outputs": [
    {
     "name": "stdout",
     "output_type": "stream",
     "text": [
      "El color deseado es rojo\n"
     ]
    }
   ],
   "source": [
    "colores(altura=\"baja\", colores=\"rojo\")"
   ]
  },
  {
   "cell_type": "code",
   "execution_count": 54,
   "id": "f55dc695",
   "metadata": {},
   "outputs": [],
   "source": [
    "def nacionalidad(pais=\"Argentina\"):\n",
    "    print(\"No soy de \" + pais)"
   ]
  },
  {
   "cell_type": "code",
   "execution_count": 58,
   "id": "f7291ebd",
   "metadata": {},
   "outputs": [
    {
     "name": "stdout",
     "output_type": "stream",
     "text": [
      "No soy de Bolivia\n",
      "No soy de Perú\n",
      "No soy de Argentina\n"
     ]
    },
    {
     "data": {
      "text/plain": [
       "(None, None, None)"
      ]
     },
     "execution_count": 58,
     "metadata": {},
     "output_type": "execute_result"
    }
   ],
   "source": [
    "nacionalidad(\"Bolivia\"), nacionalidad(\"Perú\"), nacionalidad()"
   ]
  },
  {
   "cell_type": "code",
   "execution_count": 62,
   "id": "c42d2974",
   "metadata": {},
   "outputs": [],
   "source": [
    "def comida(frutas):\n",
    "    for x in frutas:\n",
    "        print(x)\n",
    "frutas=[\"pera\", \"manzana\", \"piña\"]\n",
    "\n"
   ]
  },
  {
   "cell_type": "code",
   "execution_count": 64,
   "id": "3ba923a9",
   "metadata": {},
   "outputs": [
    {
     "name": "stdout",
     "output_type": "stream",
     "text": [
      "pera\n",
      "manzana\n",
      "piña\n"
     ]
    }
   ],
   "source": [
    "comida(frutas)"
   ]
  },
  {
   "cell_type": "markdown",
   "id": "9ccca65b",
   "metadata": {},
   "source": [
    "Para funciones matemáticas usar *return*"
   ]
  },
  {
   "cell_type": "code",
   "execution_count": 66,
   "id": "e6c9b4cf",
   "metadata": {},
   "outputs": [],
   "source": [
    "def sumafacil(x,y):\n",
    "    return x+y"
   ]
  },
  {
   "cell_type": "code",
   "execution_count": 68,
   "id": "0f75a174",
   "metadata": {},
   "outputs": [
    {
     "data": {
      "text/plain": [
       "29"
      ]
     },
     "execution_count": 68,
     "metadata": {},
     "output_type": "execute_result"
    }
   ],
   "source": [
    "sumafacil(10,19)"
   ]
  },
  {
   "cell_type": "code",
   "execution_count": 70,
   "id": "94a9cbc5",
   "metadata": {},
   "outputs": [],
   "source": [
    "def producto(π):\n",
    "    return 5*π"
   ]
  },
  {
   "cell_type": "code",
   "execution_count": 73,
   "id": "55dd7fed",
   "metadata": {},
   "outputs": [
    {
     "data": {
      "text/plain": [
       "25"
      ]
     },
     "execution_count": 73,
     "metadata": {},
     "output_type": "execute_result"
    }
   ],
   "source": [
    "producto(5)"
   ]
  },
  {
   "cell_type": "code",
   "execution_count": 87,
   "id": "8ab53408",
   "metadata": {},
   "outputs": [],
   "source": [
    "import math"
   ]
  },
  {
   "cell_type": "code",
   "execution_count": 95,
   "id": "6b00b494",
   "metadata": {},
   "outputs": [
    {
     "data": {
      "text/plain": [
       "78.53981633974483"
      ]
     },
     "execution_count": 95,
     "metadata": {},
     "output_type": "execute_result"
    }
   ],
   "source": [
    "producto(math.pi*5)"
   ]
  },
  {
   "cell_type": "code",
   "execution_count": 96,
   "id": "52b245f9",
   "metadata": {},
   "outputs": [],
   "source": [
    "def sumenteros(n): #suma números consecutivos\n",
    "    return n*(n+1)/2"
   ]
  },
  {
   "cell_type": "code",
   "execution_count": 98,
   "id": "03432ba5",
   "metadata": {},
   "outputs": [
    {
     "data": {
      "text/plain": [
       "55.0"
      ]
     },
     "execution_count": 98,
     "metadata": {},
     "output_type": "execute_result"
    }
   ],
   "source": [
    "sumenteros(10)"
   ]
  },
  {
   "cell_type": "code",
   "execution_count": 118,
   "id": "87e44db7",
   "metadata": {},
   "outputs": [
    {
     "name": "stdout",
     "output_type": "stream",
     "text": [
      "[15.0]\n",
      "[20.0]\n",
      "[25.0]\n",
      "[30.0]\n",
      "[35.0]\n"
     ]
    }
   ],
   "source": [
    "for i in range(5,10): #para una diferencia de sumas\n",
    "    print([sumenteros(i)-sumenteros(i-5)])\n",
    "\n"
   ]
  },
  {
   "cell_type": "markdown",
   "id": "c1b733ea",
   "metadata": {},
   "source": [
    " Función lambda ($\\lambda$). Es una función anónima que puede tomar cualquier argumento."
   ]
  },
  {
   "cell_type": "code",
   "execution_count": 119,
   "id": "f352afb4",
   "metadata": {},
   "outputs": [],
   "source": [
    "x = lambda b: b+18"
   ]
  },
  {
   "cell_type": "code",
   "execution_count": 121,
   "id": "963ec90d",
   "metadata": {},
   "outputs": [
    {
     "name": "stdout",
     "output_type": "stream",
     "text": [
      "23\n"
     ]
    }
   ],
   "source": [
    "print(x(5))"
   ]
  },
  {
   "cell_type": "code",
   "execution_count": 122,
   "id": "c2fde01d",
   "metadata": {},
   "outputs": [],
   "source": [
    "x= lambda a,b: a*b"
   ]
  },
  {
   "cell_type": "code",
   "execution_count": 125,
   "id": "56144e3f",
   "metadata": {},
   "outputs": [
    {
     "name": "stdout",
     "output_type": "stream",
     "text": [
      "La función λ es \n",
      "20\n"
     ]
    }
   ],
   "source": [
    "print(\"La función λ es \")\n",
    "print(x(4,5))"
   ]
  },
  {
   "cell_type": "code",
   "execution_count": 127,
   "id": "a6a4b57e",
   "metadata": {},
   "outputs": [],
   "source": [
    "x = lambda a,b,c,d: a*b*c*d"
   ]
  },
  {
   "cell_type": "code",
   "execution_count": 129,
   "id": "e1cfd804",
   "metadata": {},
   "outputs": [
    {
     "name": "stdout",
     "output_type": "stream",
     "text": [
      "16\n"
     ]
    }
   ],
   "source": [
    "print(x(2,2,2,2)) #que es 2^4"
   ]
  },
  {
   "cell_type": "markdown",
   "id": "ae31be8e",
   "metadata": {},
   "source": [
    "Utilidad de $\\lambda$:"
   ]
  },
  {
   "cell_type": "code",
   "execution_count": 136,
   "id": "da095b71",
   "metadata": {},
   "outputs": [],
   "source": [
    "def lambdaa(n): \n",
    "    return lambda a: a*n\n"
   ]
  },
  {
   "cell_type": "code",
   "execution_count": 141,
   "id": "5e5884b5",
   "metadata": {},
   "outputs": [],
   "source": [
    "doble = lambdaa(2) #duplicar el valor de la funcion"
   ]
  },
  {
   "cell_type": "code",
   "execution_count": 143,
   "id": "9eb5e511",
   "metadata": {},
   "outputs": [
    {
     "data": {
      "text/plain": [
       "20"
      ]
     },
     "execution_count": 143,
     "metadata": {},
     "output_type": "execute_result"
    }
   ],
   "source": [
    "doble(10)"
   ]
  },
  {
   "cell_type": "code",
   "execution_count": 148,
   "id": "41d3b986",
   "metadata": {},
   "outputs": [],
   "source": [
    "def lamb(n):\n",
    "    return lambda b: b*n"
   ]
  },
  {
   "cell_type": "code",
   "execution_count": 151,
   "id": "0ac4e18f",
   "metadata": {},
   "outputs": [],
   "source": [
    "triple = lamb(3) #triple"
   ]
  },
  {
   "cell_type": "code",
   "execution_count": 152,
   "id": "c7932907",
   "metadata": {},
   "outputs": [
    {
     "data": {
      "text/plain": [
       "30"
      ]
     },
     "execution_count": 152,
     "metadata": {},
     "output_type": "execute_result"
    }
   ],
   "source": [
    "triple(10)"
   ]
  },
  {
   "cell_type": "code",
   "execution_count": null,
   "id": "fff534c2",
   "metadata": {},
   "outputs": [],
   "source": []
  }
 ],
 "metadata": {
  "kernelspec": {
   "display_name": "Python 3 (ipykernel)",
   "language": "python",
   "name": "python3"
  },
  "language_info": {
   "codemirror_mode": {
    "name": "ipython",
    "version": 3
   },
   "file_extension": ".py",
   "mimetype": "text/x-python",
   "name": "python",
   "nbconvert_exporter": "python",
   "pygments_lexer": "ipython3",
   "version": "3.9.12"
  }
 },
 "nbformat": 4,
 "nbformat_minor": 5
}
