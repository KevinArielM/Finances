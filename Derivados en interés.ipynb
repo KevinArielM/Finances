{
 "cells": [
  {
   "cell_type": "markdown",
   "id": "05d406a9",
   "metadata": {},
   "source": [
    "# Contrato *Forward rate agreement* (FRA). \n"
   ]
  },
  {
   "cell_type": "markdown",
   "id": "e497ca1c",
   "metadata": {},
   "source": [
    "Son compromisos entre dos partes sobre un tipo de interés de un valor teórico (nocional) a un plazo y por un importe \n",
    "determinado dado un lapso.\n",
    "El método para calcular la liquidación a pagar por quien compra o viceversa o es como sigue:\n",
    "\n",
    "$$L= \\frac{(i_{p}- i_{r})\\centerdot T\\centerdot N}{36000+(i_{p}\\centerdot T)}$$\n",
    "\n",
    "En donde $L$ es el importe de liquidación, quien compra si este es negativo pagará a quien vende y viceversa. $i_{p}$ es el interés garantizado porcentual en FRA. $i_{r}$ es el interés vigente al momento de la operación. $T$ es el número de días de diposición del depósito teórico. $N$ es el valor nominal del contrato.  "
   ]
  },
  {
   "cell_type": "code",
   "execution_count": 16,
   "id": "fa309e7c",
   "metadata": {},
   "outputs": [],
   "source": [
    "def fra (ip,ir,T,N):\n",
    "    return ((ip-ir)*T*N)/(36000+(ir*T))"
   ]
  },
  {
   "cell_type": "markdown",
   "id": "b05e73be",
   "metadata": {},
   "source": [
    "Sea un FRA 3/9 meses con depósito de 10,000,000, a tres meses la tasa de referencia es de 5% por 6 meses, con interés pactado del 4%."
   ]
  },
  {
   "cell_type": "code",
   "execution_count": 20,
   "id": "d15916c3",
   "metadata": {},
   "outputs": [
    {
     "data": {
      "text/plain": [
       "-48780.48780487805"
      ]
     },
     "execution_count": 20,
     "metadata": {},
     "output_type": "execute_result"
    }
   ],
   "source": [
    "fra (4,5,180,10000000)"
   ]
  },
  {
   "cell_type": "markdown",
   "id": "8f801d62",
   "metadata": {},
   "source": [
    "Es decir, quien vende paga 48780. "
   ]
  },
  {
   "cell_type": "markdown",
   "id": "9a74093c",
   "metadata": {},
   "source": [
    "Sea un FRA 3/6 meses con depósito de 500,000,000 a tipo de interés pactado del 8% y el interés refencial a tres meses es de 7%."
   ]
  },
  {
   "cell_type": "code",
   "execution_count": 28,
   "id": "ed590679",
   "metadata": {},
   "outputs": [
    {
     "data": {
      "text/plain": [
       "1228501.2285012286"
      ]
     },
     "execution_count": 28,
     "metadata": {},
     "output_type": "execute_result"
    }
   ],
   "source": [
    "fra (8,7,90,500000000)"
   ]
  },
  {
   "cell_type": "markdown",
   "id": "83263a7c",
   "metadata": {},
   "source": [
    "Es decir, quien compra paga 1228501. La fórmula hasta este momento, sencilla: si el interés pactado es menor al interés al momento de la operación, quien vende paga; si el interés pactado es mayor al interés al momento de la operación, quien compra paga."
   ]
  }
 ],
 "metadata": {
  "kernelspec": {
   "display_name": "Python 3 (ipykernel)",
   "language": "python",
   "name": "python3"
  },
  "language_info": {
   "codemirror_mode": {
    "name": "ipython",
    "version": 3
   },
   "file_extension": ".py",
   "mimetype": "text/x-python",
   "name": "python",
   "nbconvert_exporter": "python",
   "pygments_lexer": "ipython3",
   "version": "3.9.12"
  }
 },
 "nbformat": 4,
 "nbformat_minor": 5
}
