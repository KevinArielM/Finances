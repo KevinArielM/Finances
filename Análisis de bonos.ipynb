{
 "cells": [
  {
   "cell_type": "markdown",
   "id": "3d49e76c",
   "metadata": {},
   "source": [
    "## Bonos\n",
    "\n",
    "Los bonos son contratos entre dos partes, un deudor o emisor, que son quienes buscan financiamiento y acreedor o inversionista, que son quienes buscan ganar algún rendimiento con los flujos que genere el contrato más la inversión principal. Un bono se obtiene mediante la oferta del emisor, que gestionada por un agente o *underwriter*, es decir, se vende con intermediarios al inversor. Un emisor es comunmente un gobierno estatal o federal o una empresa; el agente podría ser un banco; y el ente inversor puede ser individual o institucional. \n",
    "\n",
    "El *mercado primario* es cuando los títulos (contratos) se venden por primera vez a un inversor mediante un agente, que es el caso del parrafo anterior. El *mercado secundario*, en cambio, es cuando los bonos se negocian ya colocados en la bolsa o en el mercado abierto. Entonces el primario es un paso para el secundario.\n",
    "\n",
    "A diferencia de un préstamo ordinario, los bonos generalmente tienen plazos de vencimiento más largos, las condiciones de pago son establecidas por el ente deudor, que tienen que ver con los flujos de efectivo, la tasa de interés y la fecha de vencimiento, se puede cambiar de acreedor mediante el mercado secundario y existe un valor nominal que es establecido como *a la par*, *bajo par* o *sobre par* según sea el caso.\n",
    "\n",
    "El prospecto de emisión es un documento en donde se detallan las características del mercado de bonos: tipo de bono, estructura, organización, amortizaciones interes y otras características especiales. \n",
    "\n",
    "El *rating* del bono es la calificación otorgada por las calificadoras de riesgo, por ejemplo Moody's y Standard and Poor's, para analizar la solidez y la capacidad de pago. Los bonos que reciben **AAA** (máxima calificación) son los de mayor calidad y más dignos de inversión. **AAA** a **Baa** es el rango más seguro para invertir en un bono. Los bonos en este rango son de bajo riesgo pero su tasa de interés es más baja. En cambio un *junk bond* (bono basura) ofrecen una tasa de interés mayor pero al vencimiento es dudoso que se reciba el valor nominal, es decir, el valor al que se pactó el contrato. Vale la pena mencionar un adagio: a mayor riesgo mayor rendimiento.\n",
    "\n",
    "El precio de un bono se calcula considerando el flujo de caja futuro descontado. $$ P=\\frac{C}{(1+i)}+\\frac{C}{(1+i)^2}+\\frac{C}{(1+i)^3}+ \\dots + \\frac{C+N}{(1+i)^n}$$\n",
    "\n",
    "En donde $C$ el el cupón que se pagará, es decir, un porcentaje del valor nominal que es tomado en cuenta como interés del contrato y $N$ el valor nominal.\n",
    "\n"
   ]
  },
  {
   "cell_type": "code",
   "execution_count": 7,
   "id": "bc9b103d",
   "metadata": {},
   "outputs": [],
   "source": [
    "def Bono (N,C,i,n): #definir parámetros del bono (nominal,cupones, interés, periodo)\n",
    "    sum=0 #la suma inicia sumando un cero\n",
    "    for c in range(1,n): #para c, una nueva variable, definimos el rango de 1 hasta n, que es el tiempo del bono\n",
    "        c = C/((1+i)**c) #la fórmula recursiva para valuar el bono\n",
    "        #print(c,\" \") #opcional: imprimir flujos descontados hasta n-1\n",
    "        sum = sum+c #sumar flujos descontados\n",
    "    \n",
    "    return sum+(C+N)/((1+i)**n) #que regrese la suma total: flujos descontados más nominal descontado\n",
    "    \n",
    "    \n",
    "\n",
    "\n"
   ]
  },
  {
   "cell_type": "markdown",
   "id": "e795081d",
   "metadata": {},
   "source": [
    "Sea un bono con nominal de 100, con tasa de cupón del 10% anual a 5 años que rinde al 11%."
   ]
  },
  {
   "cell_type": "code",
   "execution_count": 8,
   "id": "de41a443",
   "metadata": {},
   "outputs": [
    {
     "data": {
      "text/plain": [
       "96.3041029823505"
      ]
     },
     "execution_count": 8,
     "metadata": {},
     "output_type": "execute_result"
    }
   ],
   "source": [
    "Bono(100,10,.11,5)"
   ]
  },
  {
   "cell_type": "markdown",
   "id": "5eb06c7f",
   "metadata": {},
   "source": [
    "Comparando el bono con diferentes tasa de interés (8%, 9%, 10%, 11%, 12%)"
   ]
  },
  {
   "cell_type": "code",
   "execution_count": 9,
   "id": "31523773",
   "metadata": {},
   "outputs": [
    {
     "data": {
      "text/plain": [
       "(107.98542007415614,\n",
       " 103.88965126335168,\n",
       " 99.99999999999997,\n",
       " 96.3041029823505,\n",
       " 92.79044759530996)"
      ]
     },
     "execution_count": 9,
     "metadata": {},
     "output_type": "execute_result"
    }
   ],
   "source": [
    "Bono(100,10,.08,5), Bono(100,10,.09,5), Bono(100,10,.10,5), Bono(100,10,.11,5), Bono(100,10,.12,5)"
   ]
  },
  {
   "cell_type": "markdown",
   "id": "fabb3eec",
   "metadata": {},
   "source": [
    "Es notoria la relación entre tasa de interés y el precio del bono. Es una relación inversa: si la tasa sube el precio baja; si la tasa baja el precio sube, como se vio en los 4 bonos valuados anteriormente. \n",
    "\n",
    "Un bono **cupón cero** es un bono que no paga cupones, es decir, es una forma de financiamiento que solo considera el valor nominal y la tasa descontada. El precio de este bono se calcula descontando el valor nominal a la tasa de rendimiento, que también se le conoce como *yield to maturity*: $$P=\\frac{VN}{(1+i)^n}$$\n",
    "La esencia de estos bonos es la seguridad porque, al no requerir cupones, se supone que es muy improbable que no se pague el valor nominal. El ente emisor de estos bonos suelen ser los gobiernos o empresas que no generen sospechas de incumplimiento. \n",
    "\n",
    "Sea un bono cupón cero con nominal de 1000 y tasa de 10% capitalizable semestralmente durante dos años."
   ]
  },
  {
   "cell_type": "code",
   "execution_count": 10,
   "id": "4ed216c0",
   "metadata": {},
   "outputs": [
    {
     "data": {
      "text/plain": [
       "822.7024747918819"
      ]
     },
     "execution_count": 10,
     "metadata": {},
     "output_type": "execute_result"
    }
   ],
   "source": [
    "Bono(1000,0,.05,4)"
   ]
  },
  {
   "cell_type": "markdown",
   "id": "ed169214",
   "metadata": {},
   "source": [
    "Notar que no se requiere un nuevo código para bonos cupón cero, pues el código *Bono* es una forma generalizada, basta con sustituir *0* en cupones, o sea, en el segundo parámetro."
   ]
  },
  {
   "cell_type": "markdown",
   "id": "30c16de7",
   "metadata": {},
   "source": [
    "## Medidas de rendimiento \n",
    "\n",
    "La medida de rendimiento más conocida es la Tasa Interna de Retorno (TIR), en inglés *Yield to Maturity* (YTM). Significa rentabilidad el vencimiento. Quiere decir que se ganaría ese rendimiento si se reinvierten los flujos de caja del bono a la misma TIR. Esta interpretación no considera las oportunidades de reinversión con las que contará el inversor durante la vida del bono. Es importante medir el rendimiento en bonos porque los bonos se venden comparando la TIR de diferentes instrumentos financieros. Es decir, el precio no es tan importante si no se analiza la TIR. Aunque en la vida real, la TIR dificilmente se conoce, ya que la tasa se toma de una curva teórica cupón cero, es importante entender el papel de las tasas de interés.\n",
    "\n",
    "Otras medidas de rendimiento:\n",
    "\n",
    "*Current yield*, rendimiento corriente, es la relación entre la cantidad de interés recibida (cupón) y el precio del bono.\n",
    "\n",
    "$$CY=\\frac{Cupón}{Precio}$$\n",
    "\n",
    "A diferencia de la TIR, que considera los flujos de toda la vida del bono, esta tasa considera la ganancia en un momento dado, de ahí viene el *current*. Es intuitivo que si la TIR es mayor que la CY, el precio del bono es bajo par; si la TIR es menor que la CY entonces es sobre par el precio. La CY, al ser una medida en un momento, no tiene en cuenta la reinversión de cupones ni las ganancias o pérdidas de capital a causa de los cambios en el precio del bono.\n",
    "\n",
    "Hay medidas para calcular el rendimiento de la inversión de bonos. El *Capital Gain Yield* (CGY) que es el rendimiento ganado en un periodo. Se calcula valuando el bono en tiempo $t_{0}$ y en $t_{i}$ en donde $i>0$. $$CGY=\\frac{P_{1}-P_{0}}{P_{0}}$$\n",
    "\n",
    "La igualdad entre estas medidas de rendimiento es como sigue: $$TIR=CY+CGY$$\n",
    "\n",
    "Un ejemplo de esto. Sea un bono con nominal 100, tasa del 11% con cupones anuales de 10 a 5 años. (ejemplo anterior)\n",
    "La TIR viene intrínseca aquí porque es el rendimiento supuesto. Ahora hacer la valuación del precio un año después"
   ]
  },
  {
   "cell_type": "code",
   "execution_count": 11,
   "id": "40e48061",
   "metadata": {},
   "outputs": [
    {
     "data": {
      "text/plain": [
       "(96.3041029823505, 96.89755431040906)"
      ]
     },
     "execution_count": 11,
     "metadata": {},
     "output_type": "execute_result"
    }
   ],
   "source": [
    "Bono(100,10,.11,5), Bono(100,10,.11,4)"
   ]
  },
  {
   "cell_type": "code",
   "execution_count": 12,
   "id": "2b64cd10",
   "metadata": {},
   "outputs": [
    {
     "data": {
      "text/plain": [
       "0.10996226422011661"
      ]
     },
     "execution_count": 12,
     "metadata": {},
     "output_type": "execute_result"
    }
   ],
   "source": [
    "((-Bono(100,10,.11,5)+Bono(100,10,.11,4))/Bono(100,10,.11,5))+.1038"
   ]
  },
  {
   "cell_type": "markdown",
   "id": "07eb6d5a",
   "metadata": {},
   "source": [
    "Se sigue que el $CGY=0.061622\\%$ y el $CY=\\frac{10}{96.3}=10.38\\%$ y $TIR=.1099$, como indicaba la relación anterior."
   ]
  },
  {
   "cell_type": "markdown",
   "id": "a3a9b708",
   "metadata": {},
   "source": [
    "En general, sin importar si el bono es bajo par o sobre par, los bonos convergen hacia su valor par a medida que la amortización final se reduce."
   ]
  },
  {
   "cell_type": "markdown",
   "id": "65347022",
   "metadata": {},
   "source": [
    "Otras medidas son el *yield to call*, que consiste en la tasa del bono rescatado a cierta fecha, es decir, el bono se puede liquidar antes del vencimiento. *Yield to worst* se utiliza cuando un bono tiene más de una fecha de rescate y la peor tasa entre las fechas de rescate es la que corresponde. *Yield to average life* es la tasa promedio entre bonos que fueron rescatados, esta tasa se utilizará para bonos que no fueron rescatados.\n",
    "Al ente inversor naturalmente le interesan los rendimientos obtenidos para un lapso invertido. Si decide tener el bono hasta el vencimiento, se puede calcular el *total return*, rendimiento total. Al reinvertir los flujos a la misma *TIR*, se calcula el valor futuro vencido: $$VF=C(\\frac{(1+TIR)^n-1}{TIR})$$\n",
    "\n",
    "Sea el bono valuado anteriormente a la *TIR* de 11%: $$10(\\frac{(1+.11)^5-1}{.11})=62.27$$\n",
    "\n",
    "Que tendría una ganancia total de $100+62.27-96.3=65.97$. Quien recibe el bono al vencimiento obtiene esa cantidad. \n",
    "\n",
    "Otra relación importante es la el *Total return %*, que consiste en calcular $$TR\\%=(\\frac{N+VF}{P})^\\frac{1}{n}-1$$ \n",
    "Que para el mismo caso es $$(\\frac{100+62.27}{96.3})^\\frac{1}{5}-1=10.99\\%$$\n",
    "\n",
    "El resultado es la misma *TIR* porque los flujos se reinvirtieron a la misma tasa, entonces el rendimiento total *rinde* a la *TIR*.\n",
    "\n",
    "Se puede resumir el rendimiento total como: intereses (cupones)+ intereses (reinversión de flujos)+ ganancia de capital = rendimiento total. En el ejemplo anterior: $5(10)+ 12.27+ 100-96.3=65.97$\n",
    "\n",
    "Es importante señalar que, a mayor plazo, el bono tiene más rendimiento y la *TIR* se aproxima al verdadero rendimiento al vencimiento. En la realidad la *TIR* no es conocida y el bono tiene que ser valuado aproximándose a una tasa de referencia, en México, Cetes, por ejemplo, que se valua por cada periodo. Es equivalente decir que el bono se puede calcular como la suma de difentes cupones cero a diferente tasa."
   ]
  },
  {
   "cell_type": "markdown",
   "id": "b66bda01",
   "metadata": {},
   "source": [
    "## Análisis de sensibilidad\n",
    "\n",
    "Para realizar un análisis de sensibilidad para rendimiento total, basta con calcular los rendimientos totales y porcentuales para diferentes tasas de reinversión."
   ]
  }
 ],
 "metadata": {
  "kernelspec": {
   "display_name": "Python 3 (ipykernel)",
   "language": "python",
   "name": "python3"
  },
  "language_info": {
   "codemirror_mode": {
    "name": "ipython",
    "version": 3
   },
   "file_extension": ".py",
   "mimetype": "text/x-python",
   "name": "python",
   "nbconvert_exporter": "python",
   "pygments_lexer": "ipython3",
   "version": "3.9.12"
  }
 },
 "nbformat": 4,
 "nbformat_minor": 5
}
