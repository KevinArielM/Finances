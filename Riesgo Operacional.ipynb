{
 "cells": [
  {
   "cell_type": "markdown",
   "id": "c1599844",
   "metadata": {},
   "source": [
    "El riesgo operacional se puede definir como la exposición a las anomalías provenientes de realizar una operación financiera. \n",
    "Dentro del riesgo operacional, hay una clasificación de riesgos:\n",
    "1. Riesgo tecnológico: Es la exposición de que el estado de la tecnología actual evolucione dejando a la compañía o al proyecto en cuestión obsoleto.\n",
    "2. Riesgo del modelo: Es el riesgo de que se utilice mal un modelo al momento de la valuación de un producto financiero.\n",
    "3. Riesgo de mercancía y riesgo de inventario: Son los riesgos directos de una compañía, por ejemplo, cambios en el precio de las mercancías básicas, que afecta al precio de los productos o que el precio del mercado de los productos varíe, modificando el valor del inventario.\n",
    "\n",
    "A partir del acuerdo de Basilea II, el Comité recoge explícitamente el riesgo operacional dando su definición y proponiendo diversas metodologías para su medición.\n",
    "\n",
    "Definición (Basilea II): Es el riesgo de pérdida debido a la inadecuación o a fallos de los procesos, el personal y los sistemas internos o bien a causa de acontecimientos externos.\n",
    "\n",
    "Aunque en esta definición se incluye el riesgo legal, no incluyen los riesgos estratégico y reputacional.\n",
    "\n",
    "Metodologías:\n",
    "1. #### Método del Indicador Básico\n",
    "El banco deberá cubrir el riesgo operacional con capital equivalente al promedio de los últimos tres años de un porcentaje fijo, denotado como alfa. Se excluyen los ingresos anuales negativos de cualquier año. La exigencia de capital se expresa como sigue \n",
    "\n",
    "$$K_{BIA}=\\frac{\\sum(\\lambda GI_{1, \\dots, n})}{n}$$\n",
    "\n",
    "$K_{BIA}$= Exigencia de capital en el método indicado básico.\n",
    "\n",
    "$GI$= Ingresos brutos anuales medios, cuando sean positivos, de los tres últimos años.\n",
    "\n",
    "$n$= Número de años, entre los tres últimos, en los que los ingresos brutos fueron positivos.\n",
    "\n",
    "$\\lambda: 15\\%$: Parámetro establecido por el Comité, que relaciona el capital exigido al conjunto del sector con el nivel del indicador en el conjunto del sector."
   ]
  },
  {
   "cell_type": "code",
   "execution_count": 10,
   "id": "7bdf4778",
   "metadata": {},
   "outputs": [],
   "source": [
    "def M_indicador_basico(GI,n,lamb):\n",
    "    sum=0\n",
    "    for i in range (0,n):\n",
    "        i = lamb*GI/n\n",
    "        print(i,\"\")\n",
    "        sum=sum+i\n",
    "    \n",
    "    return sum\n",
    "\n",
    "    \n",
    "\n",
    "\n"
   ]
  },
  {
   "cell_type": "code",
   "execution_count": 13,
   "id": "965017ba",
   "metadata": {},
   "outputs": [
    {
     "name": "stdout",
     "output_type": "stream",
     "text": [
      "5.0 \n",
      "5.0 \n",
      "5.0 \n"
     ]
    },
    {
     "data": {
      "text/plain": [
       "15.0"
      ]
     },
     "execution_count": 13,
     "metadata": {},
     "output_type": "execute_result"
    }
   ],
   "source": [
    "M_indicador_basico(100,3,.15)"
   ]
  },
  {
   "cell_type": "markdown",
   "id": "1424e279",
   "metadata": {},
   "source": [
    "### Método Estándar\n",
    "En este modelo se dividen las actividades en ocho líneas de operación: finanzas corporativas, negociación y venta, banca minorista, banca comercial, pagos y liquidación, servicios de agencia, administraciónde activos e intermediación minorista. Para cada línea se establece un indicador amplio que permite aproximar el volumen de operaciones del banco y con ello el nivel de riesgo operativo que se asumirá por línea de negocio. Se asigna un factor de capital $(\\beta)$ por cada línea, que refleja la relación entre la pérdida por riesgo operacional y el indicador de la misma."
   ]
  },
  {
   "cell_type": "code",
   "execution_count": 15,
   "id": "986d96ec",
   "metadata": {},
   "outputs": [],
   "source": [
    "import pandas as pd, numpy as np"
   ]
  },
  {
   "cell_type": "code",
   "execution_count": 27,
   "id": "9279513f",
   "metadata": {},
   "outputs": [
    {
     "data": {
      "text/html": [
       "<div>\n",
       "<style scoped>\n",
       "    .dataframe tbody tr th:only-of-type {\n",
       "        vertical-align: middle;\n",
       "    }\n",
       "\n",
       "    .dataframe tbody tr th {\n",
       "        vertical-align: top;\n",
       "    }\n",
       "\n",
       "    .dataframe thead th {\n",
       "        text-align: right;\n",
       "    }\n",
       "</style>\n",
       "<table border=\"1\" class=\"dataframe\">\n",
       "  <thead>\n",
       "    <tr style=\"text-align: right;\">\n",
       "      <th></th>\n",
       "      <th>Factores Beta</th>\n",
       "    </tr>\n",
       "  </thead>\n",
       "  <tbody>\n",
       "    <tr>\n",
       "      <th>Finanzas corporativas</th>\n",
       "      <td>0.18</td>\n",
       "    </tr>\n",
       "    <tr>\n",
       "      <th>Negociación y ventas</th>\n",
       "      <td>0.18</td>\n",
       "    </tr>\n",
       "    <tr>\n",
       "      <th>Banca minorista</th>\n",
       "      <td>0.12</td>\n",
       "    </tr>\n",
       "    <tr>\n",
       "      <th>Banca comercial</th>\n",
       "      <td>0.15</td>\n",
       "    </tr>\n",
       "    <tr>\n",
       "      <th>Pagos y liquidación</th>\n",
       "      <td>0.18</td>\n",
       "    </tr>\n",
       "    <tr>\n",
       "      <th>Servicio de agencia</th>\n",
       "      <td>0.15</td>\n",
       "    </tr>\n",
       "    <tr>\n",
       "      <th>Administración de activos</th>\n",
       "      <td>0.12</td>\n",
       "    </tr>\n",
       "    <tr>\n",
       "      <th>Intermediación minorista</th>\n",
       "      <td>0.12</td>\n",
       "    </tr>\n",
       "  </tbody>\n",
       "</table>\n",
       "</div>"
      ],
      "text/plain": [
       "                           Factores Beta\n",
       "Finanzas corporativas               0.18\n",
       "Negociación y ventas                0.18\n",
       "Banca minorista                     0.12\n",
       "Banca comercial                     0.15\n",
       "Pagos y liquidación                 0.18\n",
       "Servicio de agencia                 0.15\n",
       "Administración de activos           0.12\n",
       "Intermediación minorista            0.12"
      ]
     },
     "execution_count": 27,
     "metadata": {},
     "output_type": "execute_result"
    }
   ],
   "source": [
    "Factor_de_capital=pd.DataFrame({\"Factores Beta\":[.18,.18,.12,.15,.18,.15,.12,.12]},\n",
    "                               index=[\"Finanzas corporativas\", \"Negociación y ventas\", \"Banca minorista\", \"Banca comercial\", \"Pagos y liquidación\",\n",
    "                                     \"Servicio de agencia\", \"Administración de activos\", \"Intermediación minorista\"])\n",
    "Factor_de_capital"
   ]
  },
  {
   "cell_type": "markdown",
   "id": "0f48c428",
   "metadata": {},
   "source": [
    "De tal forma que el requirimiento de capital es $$K_{TSA}=\\frac{\\max(\\sum_{años 1-3}(\\beta_{1-8})GI_{1-8},0)}{3}$$\n",
    "\n",
    "$K_{TSA}$= Exigencia de capital en el Método Estándar\n",
    "\n",
    "$GI_{1-8}$= Ingresos brutos anuales de un año dado por cada una de las 8 líneas de operación\n",
    "\n",
    "$\\beta_{1-8}$= Porcentaje fijo, mencionados en la tabla anterior"
   ]
  },
  {
   "cell_type": "code",
   "execution_count": 36,
   "id": "68618845",
   "metadata": {},
   "outputs": [],
   "source": [
    "def Metodo_Estandar(GI,Beta,n):\n",
    "    sum=0\n",
    "    for i in range (0,n):\n",
    "        i=Beta*GI/3\n",
    "        print(i,\"\")\n",
    "        sum=sum+i\n",
    "    return max(sum,0)\n"
   ]
  },
  {
   "cell_type": "code",
   "execution_count": 39,
   "id": "7b4a303e",
   "metadata": {},
   "outputs": [
    {
     "name": "stdout",
     "output_type": "stream",
     "text": [
      "-6.0 \n",
      "-6.0 \n"
     ]
    },
    {
     "data": {
      "text/plain": [
       "0"
      ]
     },
     "execution_count": 39,
     "metadata": {},
     "output_type": "execute_result"
    }
   ],
   "source": [
    "Metodo_Estandar(-100,.18,2)"
   ]
  },
  {
   "cell_type": "markdown",
   "id": "42ea8a8b",
   "metadata": {},
   "source": [
    "### Método de Medición Avanzada (AMA)\n",
    "\n",
    "El requirimiento de capital regulador será igual a la medida de riesgo generada por el sistema interna del banco. La utilización de estos modelos está sujeta a la aprobación del supervisor."
   ]
  }
 ],
 "metadata": {
  "kernelspec": {
   "display_name": "Python 3 (ipykernel)",
   "language": "python",
   "name": "python3"
  },
  "language_info": {
   "codemirror_mode": {
    "name": "ipython",
    "version": 3
   },
   "file_extension": ".py",
   "mimetype": "text/x-python",
   "name": "python",
   "nbconvert_exporter": "python",
   "pygments_lexer": "ipython3",
   "version": "3.9.12"
  }
 },
 "nbformat": 4,
 "nbformat_minor": 5
}
