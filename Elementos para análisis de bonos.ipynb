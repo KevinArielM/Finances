{
 "cells": [
  {
   "cell_type": "markdown",
   "id": "b66fb2bc",
   "metadata": {},
   "source": [
    "## Tipos de tasas de interés\n",
    "En la teoría financiera, las tasas de interés vencidas son fundamentales porque representan el rendimiento de oportunidad de un periodo (futuro). La tasa *nominal* es la tasa referencial, que será útil para calcular la tasa *efectiva*. Por ejemplo, si nos pagan mensualmente una tasa del 12% anual, no significa que la tasa de referencia sea la que vamos a recibir. Lo que sí recibiremos en cambio será una proporción de la tasa anual considerando, en este caso, un mes.   $$i_{m}=\\frac{j_{m}}{12}=\\frac{.12}{12}=.01$$\n",
    "$j_{m}$ representa la tasa nominal, mientras que $i_{m}$ es la tasa propocional aplicable al periodo, que en este caso es mensual. La tasa proporcional coincide con la tasa efectiva mensual, es decir, se gana *efectivamente* 1% en un mes. "
   ]
  },
  {
   "cell_type": "code",
   "execution_count": 7,
   "id": "11f88eca",
   "metadata": {},
   "outputs": [],
   "source": [
    "def tproporcion (jm,n):\n",
    "    return jm/n\n"
   ]
  },
  {
   "cell_type": "markdown",
   "id": "bd75453d",
   "metadata": {},
   "source": [
    "Sea una tasa anual de 16.6%, la proporcional capitalizable trimestralmente sería 4.15%:"
   ]
  },
  {
   "cell_type": "code",
   "execution_count": 6,
   "id": "59fb65b0",
   "metadata": {},
   "outputs": [
    {
     "data": {
      "text/plain": [
       "0.0415"
      ]
     },
     "execution_count": 6,
     "metadata": {},
     "output_type": "execute_result"
    }
   ],
   "source": [
    "tproporcion(.166,4)"
   ]
  },
  {
   "cell_type": "markdown",
   "id": "7e0f6eb4",
   "metadata": {},
   "source": [
    "La tasa efectiva se puede entender como la tasa que produce el mismo resultado capitalizando una vez de otra tasa a diferentes capitalizaciones. $$(1+i)=(1+\\frac{j_{m}}{m})^m$$\n",
    "$$i=(1+\\frac{j_{m}}{m})^m-1$$\n",
    "\n",
    "En donde $i$ es la tasa efectiva; $j_{m}$, la nominal; $\\frac{j_{m}}{m}$, la proporcional y m el número de capitalizaciones."
   ]
  },
  {
   "cell_type": "code",
   "execution_count": 18,
   "id": "2e04147c",
   "metadata": {},
   "outputs": [],
   "source": [
    "def tasaefectiva (jm,m):\n",
    "    return (1+jm/m)**m -1"
   ]
  },
  {
   "cell_type": "markdown",
   "id": "15abae27",
   "metadata": {},
   "source": [
    "Por ejemplo, tenemos una tasa anual de 12% capitalizable semestralmente, queremos la tasa en la que es indiferente que capitalice. "
   ]
  },
  {
   "cell_type": "code",
   "execution_count": 20,
   "id": "f6ce403c",
   "metadata": {},
   "outputs": [
    {
     "data": {
      "text/plain": [
       "0.12360000000000015"
      ]
     },
     "execution_count": 20,
     "metadata": {},
     "output_type": "execute_result"
    }
   ],
   "source": [
    "tasaefectiva(.12,2)"
   ]
  },
  {
   "cell_type": "markdown",
   "id": "868ba60e",
   "metadata": {},
   "source": [
    "Es decir, con una tasa de 12.36% *equivale* a una tasa de 12% anual capitalizable semestralmente."
   ]
  },
  {
   "cell_type": "markdown",
   "id": "14a798f7",
   "metadata": {},
   "source": [
    "Para la misma tasa nominal capitalizable mensualmente:"
   ]
  },
  {
   "cell_type": "code",
   "execution_count": 26,
   "id": "5dca6515",
   "metadata": {},
   "outputs": [
    {
     "data": {
      "text/plain": [
       "0.12682503013196977"
      ]
     },
     "execution_count": 26,
     "metadata": {},
     "output_type": "execute_result"
    }
   ],
   "source": [
    "tasaefectiva(.12,12)"
   ]
  },
  {
   "cell_type": "markdown",
   "id": "812ed2ca",
   "metadata": {},
   "source": [
    "La tasa de 12.68% equivale a una tasa del 12% anual capitalizable mensualmente."
   ]
  },
  {
   "cell_type": "markdown",
   "id": "c8797fed",
   "metadata": {},
   "source": [
    "Se ofrece una tasa anual de 6% para una operación mensual y queremos calcularla a 3 meses:"
   ]
  },
  {
   "cell_type": "code",
   "execution_count": 64,
   "id": "6b2e952a",
   "metadata": {},
   "outputs": [
    {
     "data": {
      "text/plain": [
       "0.015498841925007945"
      ]
     },
     "execution_count": 64,
     "metadata": {},
     "output_type": "execute_result"
    }
   ],
   "source": [
    "(1+tasaefectiva(.06,12)/12)**3-1"
   ]
  },
  {
   "cell_type": "markdown",
   "id": "d424f074",
   "metadata": {},
   "source": [
    "La tasa aproximada es de 1.549%."
   ]
  },
  {
   "cell_type": "markdown",
   "id": "a4de3a87",
   "metadata": {},
   "source": [
    "La tasa equivalente es la que al capitalizar a difentes periodos es igual que la tasa efectiva. Se tiene que $$(1+i_{m})^m=(1+i)$$ y despejando tendríamos $$i_{m}=(1+i)^\\frac{1}{m} -1$$\n",
    "\n",
    "En donde $i$ es la tasa equivalente, $i_{m}$, la tasa efectiva y $m$ el plazo capitalizable. Notar que para calcular la tasa anual efectiva con días es necesario cambiar la base (tasa proporcional/365 y plazo sobre días). "
   ]
  },
  {
   "cell_type": "code",
   "execution_count": 58,
   "id": "b6dc9dfc",
   "metadata": {},
   "outputs": [],
   "source": [
    "def tasaequivalente (i,m):\n",
    "    return (1+i)**(1/m)-1"
   ]
  },
  {
   "cell_type": "code",
   "execution_count": 72,
   "id": "8a8c3763",
   "metadata": {},
   "outputs": [
    {
     "data": {
      "text/plain": [
       "0.009758794179192343"
      ]
     },
     "execution_count": 72,
     "metadata": {},
     "output_type": "execute_result"
    }
   ],
   "source": [
    "tasaequivalente(0.1236,12)"
   ]
  },
  {
   "cell_type": "markdown",
   "id": "d43e8572",
   "metadata": {},
   "source": [
    "Quiere decir que invertir a 0.97% al mes es igual que ganar 12.36% anualmente porque producen el mismo rendimiento."
   ]
  },
  {
   "cell_type": "markdown",
   "id": "11e8087d",
   "metadata": {},
   "source": [
    "Es decir, con la tasa nominal calculamos la tasa proporcional, que sirve para obtener la tasa efectiva, que se utiliza para la tasa equivalente. Aunque este orden no importa porque la relación existe siempre, solo es para una interpretación práctica."
   ]
  },
  {
   "cell_type": "markdown",
   "id": "0fc82fc0",
   "metadata": {},
   "source": [
    "## Valor presente y valor futuro\n",
    "\n",
    "Hay una distinción entre calcular valor presente de flujos vencidos y adelantados. \n",
    "\n",
    "Para el primer caso: $$S_{v}=\\frac{C}{(1+i)}+\\frac{C}{(1+i)^2}+\\frac{C}{(1+i)^3}+\\dots+ \\frac{C}{(1+i)^n}$$\n",
    "\n",
    "En donde  $S_{v}=\\frac{1}{1+i}\\frac{1-q^n}{1-q}$, por progresión geométrica y factorizando el factor de descuento.\n",
    "$q$ es la razón de la progresión, que es $\\frac{1}{1+i}$. Sustituyendo tenemos: $$S_{v}=\\frac{1}{1+i}\\frac{1-\\frac{1}{(1+i)^n}}{1-\\frac{1}{(1+i)}}$$ Simplificando se tiene el valor presente para flujos vencidos $$V_{v}=C\\frac{(1+i)^n-1}{(1+i)^n i}$$\n",
    "\n",
    "Cuando son pagos adelantados se tiene que el primer pago no se descuenta y finaliza un periodo antes que en el pago vencido: $$S_{a}= C+\\frac{C}{(1+i)}+\\frac{C}{(1+i)^2}+\\frac{C}{(1+i)^3}+\\dots+ \\frac{C}{(1+i)^{n-1}}$$ Se procede similarmente como en el caso de valor presente vencido: $$S_{a}= C\\frac{1-\\frac{1}{(1+i)^n}}{1-\\frac{1}{(1+i)}}$$ Finalmente se tiene: $$V_{a}=C(1+i)\\frac{(1+i)^n-1}{(1+i)^ni}$$\n",
    "\n",
    "Otras formas equivalentes son $V_{a}=C[\\frac{1-(1+i)^{-n}}{i}](1+i)$ y $V_{v}=C[\\frac{1-(1+i)^{-n}}{i}]$. En general el valor presente para pagos vencidos es el más común en el cálculo financiero."
   ]
  },
  {
   "cell_type": "code",
   "execution_count": 126,
   "id": "b77507af",
   "metadata": {},
   "outputs": [],
   "source": [
    "def VPa(C,i,n):\n",
    "    return C*((1-(1+i)**(-n))/i)*(1+i)"
   ]
  },
  {
   "cell_type": "code",
   "execution_count": 127,
   "id": "330c1d2a",
   "metadata": {},
   "outputs": [],
   "source": [
    "def VPv(C,i,n):\n",
    "    return C*(1-(1+i)**(-n))/i"
   ]
  },
  {
   "cell_type": "markdown",
   "id": "f52196d9",
   "metadata": {},
   "source": [
    "Sea un flujo de 20 pagos  de $100 semestrales con interes del 3%, calcular el valor presente para pagos vencidos y pagos anticipados."
   ]
  },
  {
   "cell_type": "code",
   "execution_count": 128,
   "id": "d3828076",
   "metadata": {},
   "outputs": [
    {
     "data": {
      "text/plain": [
       "(1487.7474860455518, 1532.3799106269182)"
      ]
     },
     "execution_count": 128,
     "metadata": {},
     "output_type": "execute_result"
    }
   ],
   "source": [
    "VPv(100,.03,20), VPa(100,.03,20)"
   ]
  },
  {
   "cell_type": "markdown",
   "id": "42bd956b",
   "metadata": {},
   "source": [
    "Intuitivamente el valor presente para pagos anticipados es mayor \n",
    "porque el primer pago no se descuenta a la tasa de referencia."
   ]
  },
  {
   "cell_type": "markdown",
   "id": "cecc5eeb",
   "metadata": {},
   "source": [
    "El valor futuro nos dice cuánto dinero tendremos en un lapso futuro dado un capital y una tasa de interés. $$S_{v}= C+C(1+i)+C(1+i)^2+C(1+i)^3+\\dots + C(1+i)^n$$\n",
    "De forma similar al valor presente: $$S_{v}=C\\frac{q^n-1}{q-1}= C\\frac{(1+i)^n-1}{(1+i)-1}$$\n",
    "Y el valor futuro para pagos vencidos es $$VF_{v}=C\\frac{(1+i)^n-1}{i}$$ \n",
    "\n",
    "En el caso de pagos anticipados es como sigue:\n",
    "\n",
    "$$VF_{a}=VF_{v}(1+i)$$\n",
    " que significa, como en valor presente, que se vuelve a capitalizar de forma simple el monto vencido porque se da por atrasado el ahorro, lo cual genera más capitalizaciones."
   ]
  },
  {
   "cell_type": "markdown",
   "id": "417c4943",
   "metadata": {},
   "source": [
    "En un ahorro interesa saber cuánto se va a juntar de aquí a 10 años convertible semestralmente dando $100 y a una tasa semestral efectiva de 3%. Es de interés saber cuál conviene más: ahorrar vencidamente o anticipadamente."
   ]
  },
  {
   "cell_type": "code",
   "execution_count": 3,
   "id": "392edd68",
   "metadata": {},
   "outputs": [],
   "source": [
    "def VFv(C,i,n):\n",
    "    return C*(((1+i)**n-1)/i)"
   ]
  },
  {
   "cell_type": "code",
   "execution_count": 4,
   "id": "b1c79569",
   "metadata": {},
   "outputs": [],
   "source": [
    "def VFa(C,i,n):\n",
    "    return C*(1+i)*(((1+i)**n-1)/i)"
   ]
  },
  {
   "cell_type": "code",
   "execution_count": 5,
   "id": "219240d3",
   "metadata": {},
   "outputs": [
    {
     "data": {
      "text/plain": [
       "(2687.0374488980497, 2767.648572364991)"
      ]
     },
     "execution_count": 5,
     "metadata": {},
     "output_type": "execute_result"
    }
   ],
   "source": [
    "VFv(100,.03,20), VFa(100,.03,20)\n"
   ]
  },
  {
   "cell_type": "markdown",
   "id": "24a5a658",
   "metadata": {},
   "source": [
    "Por lo que el ahorro con pagos anticipados genera mayores cifras y conviene más."
   ]
  },
  {
   "cell_type": "markdown",
   "id": "1900f571",
   "metadata": {},
   "source": [
    "## Rentas perpetuas\n",
    "\n",
    "Es una serie de pagos que no vence. Se dice que su número de periodos tiende a infinito. No se puede calcular el valor futuro porque sería una serie divergente pero sí es posible calcular el valor presente. En una renta de este tipo solo se conoce la tasa de interés, su momento de inicio y los pagos. \n",
    "\n",
    "Existen rentas perpetuas inmediatas, diferidas y anticipadas. \n",
    "\n",
    "Veamos el primer caso, renta perpetua inmediata de pagos vencidos, tenemos que: $$S=\\frac{C}{(1+i)}+\\frac{C}{(1+i)^2}+\\frac{C}{(1+i)^3}+\\dots \\infty$$\n",
    "\n",
    "Viendo que es una progresión geométrica (como en valor presente y valor futuro) se llega a que $$S=\\frac{C}{(1+i)}\\frac{1-\\frac{1}{(1+i)^n}}{1-\\frac{1}{(1+i)}}$$\n",
    "\n",
    "para $$\\lim _{n \\to \\infty} \\frac{C}{(1+i)}\\frac{1-\\frac{1}{(1+i)^n}}{1-\\frac{1}{(1+i)}}= \\frac{C}{(1+i)}\\frac{1}{\\frac{(1+i)-1}{(1+i)}}= \\frac{C}{i} $$"
   ]
  },
  {
   "cell_type": "code",
   "execution_count": 9,
   "id": "deb9e3b6",
   "metadata": {},
   "outputs": [],
   "source": [
    "def perpevencida(C,i):\n",
    "    return C/i"
   ]
  },
  {
   "cell_type": "markdown",
   "id": "de550855",
   "metadata": {},
   "source": [
    "Sea una renta perpetua de 1 con tasa de 10%. El valor de la renta perpetua es 10. Tiene sentido porque a plazo largos el valor de la renta vale cero."
   ]
  },
  {
   "cell_type": "code",
   "execution_count": 8,
   "id": "240585f3",
   "metadata": {},
   "outputs": [
    {
     "data": {
      "text/plain": [
       "10.0"
      ]
     },
     "execution_count": 8,
     "metadata": {},
     "output_type": "execute_result"
    }
   ],
   "source": [
    "perpevencida(1,.1)"
   ]
  }
 ],
 "metadata": {
  "kernelspec": {
   "display_name": "Python 3 (ipykernel)",
   "language": "python",
   "name": "python3"
  },
  "language_info": {
   "codemirror_mode": {
    "name": "ipython",
    "version": 3
   },
   "file_extension": ".py",
   "mimetype": "text/x-python",
   "name": "python",
   "nbconvert_exporter": "python",
   "pygments_lexer": "ipython3",
   "version": "3.9.12"
  }
 },
 "nbformat": 4,
 "nbformat_minor": 5
}
